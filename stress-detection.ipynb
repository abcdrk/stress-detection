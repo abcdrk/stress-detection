{
 "cells": [
  {
   "cell_type": "markdown",
   "metadata": {
    "colab_type": "text",
    "id": "W1ISddwGtRvI"
   },
   "source": [
    "#IMPORTS"
   ]
  },
  {
   "cell_type": "code",
   "execution_count": 1,
   "metadata": {
    "colab": {
     "base_uri": "https://localhost:8080/",
     "height": 71
    },
    "colab_type": "code",
    "id": "RJWcrOEddFHV",
    "outputId": "e57aed46-40e7-4422-93b7-6e9ab0e1dc5c"
   },
   "outputs": [
    {
     "name": "stderr",
     "output_type": "stream",
     "text": [
      "/anaconda3/lib/python3.6/site-packages/sklearn/externals/six.py:31: DeprecationWarning: The module is deprecated in version 0.21 and will be removed in version 0.23 since we've dropped support for Python 2.7. Please rely on the official version of six (https://pypi.org/project/six/).\n",
      "  \"(https://pypi.org/project/six/).\", DeprecationWarning)\n"
     ]
    }
   ],
   "source": [
    "import csv\n",
    "import numpy as np\n",
    "import pandas as pd\n",
    "import os\n",
    "import re\n",
    "import collections\n",
    "\n",
    "from sklearn.model_selection import train_test_split\n",
    "from sklearn.metrics import accuracy_score\n",
    "from sklearn.feature_selection import SelectFromModel\n",
    "from imblearn.over_sampling import SMOTE\n",
    "import matplotlib.pyplot as plt\n",
    "from sklearn.metrics import confusion_matrix"
   ]
  },
  {
   "cell_type": "markdown",
   "metadata": {
    "colab_type": "text",
    "id": "KdsdB0OXwGXV"
   },
   "source": [
    "#HELPER FUNCTIONS"
   ]
  },
  {
   "cell_type": "code",
   "execution_count": 23,
   "metadata": {
    "colab": {},
    "colab_type": "code",
    "id": "K86tYXV2wJf5"
   },
   "outputs": [],
   "source": [
    "'''\n",
    "Plot a Confusion Matrix\n",
    "'''\n",
    "def conf_matrix(y_true, y_pred):\n",
    "    cm = confusion_matrix(y_true, y_pred)\n",
    "    fig = plt.figure()\n",
    "    ax = fig.add_subplot(111)\n",
    "    cax = ax.matshow(cm) \n",
    "    # plt.title('Confusion Matrix \\n where k is {} \\n'.format(k)) \n",
    "    fig.colorbar(cax) \n",
    "    plt.xlabel('Predicted') \n",
    "    plt.ylabel('True') \n",
    "    plt.show()\n",
    "  \n",
    "  \n",
    "'''\n",
    "If a session belongs to the LAB or not.\n",
    "'''\n",
    "def is_lab(session):\n",
    "    bol = []\n",
    "    for i in session:\n",
    "        foo = i.split('_')\n",
    "        idd = int(foo[1])\n",
    "        if idd<5:\n",
    "            bol.append(True)\n",
    "        else:\n",
    "            bol.append(False)\n",
    "    bol = np.array(bol)\n",
    "    return pd.Series(bol)\n",
    "\n",
    "\n",
    "'''\n",
    "If a session belongs to the DAILY or not.\n",
    "'''\n",
    "def is_daily(session):\n",
    "    bol = []\n",
    "    for i in session:\n",
    "        foo = i.split('_')\n",
    "        idd = int(foo[1])\n",
    "        if idd<5:\n",
    "            bol.append(False)\n",
    "        else:\n",
    "            bol.append(True)\n",
    "    bol = np.array(bol)\n",
    "    return pd.Series(bol)\n",
    "\n",
    "'''\n",
    "Does a majority vote among the predicted results. Adds the majority prediction to a new column\n",
    "and returns this dataframe\n",
    "'''\n",
    "def do_majority_vote(X_test, y_pred):\n",
    "    # Put predicted results in a new column\n",
    "    X_test['Predicted'] = np.array(y_pred)\n",
    "\n",
    "    all_sessions = X_test[\"Session\"].unique()\n",
    "    # For each session\n",
    "    for session in all_sessions:\n",
    "        low = len(X_test[(X_test.Session == session) & (X_test.Predicted == 'L')])  # Number of low stress predicted frames\n",
    "        medium = len(X_test[(X_test.Session == session) & (X_test.Predicted == 'M')])  # Number of medium stress predicted frames\n",
    "        high = len(X_test[(X_test.Session == session) & (X_test.Predicted == 'H')])  # Number of high stress predicted frames\n",
    "        # Do majority vote\n",
    "        # Assign the majority prediction of this session to Predicted_Aggregated of each frame in the session\n",
    "        if low >= high and low >= medium:\n",
    "            X_test.loc[X_test['Session'] == session, 'Prediction_with_majority'] = 'L'\n",
    "        elif high >= medium and high >= low:\n",
    "            X_test.loc[X_test['Session'] == session, 'Prediction_with_majority'] = 'H'\n",
    "        else:\n",
    "            # In case low = medium = high, it makes sense to assign Predicted_Aggregated to M\n",
    "            X_test.loc[X_test['Session'] == session, 'Prediction_with_majority'] = 'M'\n",
    "    return X_test['Prediction_with_majority']"
   ]
  },
  {
   "cell_type": "markdown",
   "metadata": {
    "colab_type": "text",
    "id": "AQAkileQJHpk"
   },
   "source": [
    "#DATA LOADING GUIDE"
   ]
  },
  {
   "cell_type": "code",
   "execution_count": 17,
   "metadata": {
    "colab": {
     "base_uri": "https://localhost:8080/",
     "height": 34
    },
    "colab_type": "code",
    "id": "60cH2xI9JDQw",
    "outputId": "a7194fb9-0923-4b8d-8924-e3d90e0ec34c"
   },
   "outputs": [
    {
     "data": {
      "text/plain": [
       "'\\nLOAD LAB DATA TO TRAIN & DAILY DATA TO TEST\\n'"
      ]
     },
     "execution_count": 17,
     "metadata": {},
     "output_type": "execute_result"
    }
   ],
   "source": [
    "################################################################################ \n",
    "########################## DATA LOADING GUIDE ##################################\n",
    "################################################################################\n",
    "'''\n",
    "LOAD ALL DATA AND SPLIT INTO TRAIN AND TEST\n",
    "'''\n",
    "# X = data[['Mean', 'Peak', 'Perc20', 'Perc80', 'QuartDev','Std', 'Strong_Peak', 'dataQual']]\n",
    "# y = data['TwoClassWithKnown']\n",
    "# X_train, X_test, y_train, y_test = train_test_split(X, y, test_size=0.2)\n",
    "\n",
    "'''\n",
    "LOAD DAILY DATA AND SPLIT INTO TRAIN AND TEST\n",
    "'''\n",
    "# X = daily_data[['Mean', 'Peak', 'Perc20', 'Perc80', 'QuartDev','Std', 'Strong_Peak', 'dataQual']]\n",
    "# y = daily_data['TwoClassWithKnown']\n",
    "# X_train, X_test, y_train, y_test = train_test_split(X, y, test_size=0.2)\n",
    "\n",
    "\n",
    "'''\n",
    "LOAD LAB DATA AND SPLIT INTO TRAIN AND TEST\n",
    "'''\n",
    "# X = lab_data[['Mean', 'Peak', 'Perc20', 'Perc80', 'QuartDev','Std', 'Strong_Peak', 'dataQual']]\n",
    "# y = lab_data['TwoClassWithKnown']\n",
    "# X_train, X_test, y_train, y_test = train_test_split(X, y, test_size=0.2)\n",
    "\n",
    "\n",
    "'''\n",
    "LOAD LAB DATA TO TRAIN & DAILY DATA TO TEST\n",
    "'''\n",
    "# X_train = lab_data[['Mean', 'Peak', 'Perc20', 'Perc80', 'QuartDev','Std', 'Strong_Peak']]\n",
    "# y_train = lab_data['TwoClassLabel']\n",
    "# X_test = daily_data[['Mean', 'Peak', 'Perc20', 'Perc80', 'QuartDev','Std', 'Strong_Peak']]\n",
    "# y_test = daily_data['TwoClassLabel']"
   ]
  },
  {
   "cell_type": "markdown",
   "metadata": {
    "colab_type": "text",
    "id": "bbAL3SHk_zfH"
   },
   "source": [
    "#LOAD SCORING HELPER"
   ]
  },
  {
   "cell_type": "code",
   "execution_count": 3,
   "metadata": {
    "colab": {
     "base_uri": "https://localhost:8080/",
     "height": 204
    },
    "colab_type": "code",
    "id": "YpoNjkCW_3-N",
    "outputId": "8167f1db-c46c-4616-e3fd-ae27b673c992"
   },
   "outputs": [
    {
     "data": {
      "text/html": [
       "<div>\n",
       "<style scoped>\n",
       "    .dataframe tbody tr th:only-of-type {\n",
       "        vertical-align: middle;\n",
       "    }\n",
       "\n",
       "    .dataframe tbody tr th {\n",
       "        vertical-align: top;\n",
       "    }\n",
       "\n",
       "    .dataframe thead th {\n",
       "        text-align: right;\n",
       "    }\n",
       "</style>\n",
       "<table border=\"1\" class=\"dataframe\">\n",
       "  <thead>\n",
       "    <tr style=\"text-align: right;\">\n",
       "      <th></th>\n",
       "      <th>Session</th>\n",
       "      <th>DeviceID</th>\n",
       "      <th>ParticipantID</th>\n",
       "      <th>UTC_Start</th>\n",
       "      <th>UTC_End</th>\n",
       "      <th>2ClassScore</th>\n",
       "      <th>3ClassScore</th>\n",
       "      <th>KnownContext</th>\n",
       "    </tr>\n",
       "  </thead>\n",
       "  <tbody>\n",
       "    <tr>\n",
       "      <th>0</th>\n",
       "      <td>1</td>\n",
       "      <td>A012B4</td>\n",
       "      <td>1</td>\n",
       "      <td>1552980542</td>\n",
       "      <td>1552991342</td>\n",
       "      <td>L</td>\n",
       "      <td>M</td>\n",
       "      <td>L</td>\n",
       "    </tr>\n",
       "    <tr>\n",
       "      <th>1</th>\n",
       "      <td>2</td>\n",
       "      <td>A010C3</td>\n",
       "      <td>1</td>\n",
       "      <td>1552990800</td>\n",
       "      <td>1552991100</td>\n",
       "      <td>L</td>\n",
       "      <td>M</td>\n",
       "      <td>H</td>\n",
       "    </tr>\n",
       "    <tr>\n",
       "      <th>2</th>\n",
       "      <td>3</td>\n",
       "      <td>A010C3</td>\n",
       "      <td>1</td>\n",
       "      <td>1552991491</td>\n",
       "      <td>1552992391</td>\n",
       "      <td>H</td>\n",
       "      <td>H</td>\n",
       "      <td>M</td>\n",
       "    </tr>\n",
       "    <tr>\n",
       "      <th>3</th>\n",
       "      <td>4</td>\n",
       "      <td>A010C3</td>\n",
       "      <td>1</td>\n",
       "      <td>1552992660</td>\n",
       "      <td>1552992960</td>\n",
       "      <td>L</td>\n",
       "      <td>L</td>\n",
       "      <td>A</td>\n",
       "    </tr>\n",
       "    <tr>\n",
       "      <th>4</th>\n",
       "      <td>5</td>\n",
       "      <td>A010C3</td>\n",
       "      <td>1</td>\n",
       "      <td>1552993140</td>\n",
       "      <td>1552993440</td>\n",
       "      <td>L</td>\n",
       "      <td>M</td>\n",
       "      <td>NaN</td>\n",
       "    </tr>\n",
       "  </tbody>\n",
       "</table>\n",
       "</div>"
      ],
      "text/plain": [
       "   Session DeviceID  ParticipantID   UTC_Start     UTC_End 2ClassScore  \\\n",
       "0        1   A012B4              1  1552980542  1552991342           L   \n",
       "1        2   A010C3              1  1552990800  1552991100           L   \n",
       "2        3   A010C3              1  1552991491  1552992391           H   \n",
       "3        4   A010C3              1  1552992660  1552992960           L   \n",
       "4        5   A010C3              1  1552993140  1552993440           L   \n",
       "\n",
       "  3ClassScore KnownContext  \n",
       "0           M            L  \n",
       "1           M            H  \n",
       "2           H            M  \n",
       "3           L            A  \n",
       "4           M          NaN  "
      ]
     },
     "execution_count": 3,
     "metadata": {},
     "output_type": "execute_result"
    }
   ],
   "source": [
    "scoring = pd.read_csv('https://raw.githubusercontent.com/abcdrk/stress-detection/master/scoring_helper.csv')\n",
    "scoring.head()"
   ]
  },
  {
   "cell_type": "markdown",
   "metadata": {
    "colab_type": "text",
    "id": "UosZOhxWdFHY"
   },
   "source": [
    "\n",
    "\n",
    "---\n",
    "\n",
    "\n",
    "\n",
    "---\n",
    "\n",
    "# LOAD LABEL.CSV (ALL DATA)\n",
    "\n",
    "---\n",
    "\n",
    "\n",
    "---\n",
    "\n",
    "\n",
    "\n",
    "We are loading the data from the .csv *file*"
   ]
  },
  {
   "cell_type": "code",
   "execution_count": 4,
   "metadata": {
    "colab": {
     "base_uri": "https://localhost:8080/",
     "height": 34
    },
    "colab_type": "code",
    "id": "-k_fbma9dFHZ",
    "outputId": "abc58409-0cc3-4aa1-b4dd-68ffd88e19f1",
    "scrolled": false
   },
   "outputs": [
    {
     "data": {
      "text/plain": [
       "'\\nUNCOMMENT TO SEE THE IMBALANCE BETWEEN STRESS CLASSES\\n'"
      ]
     },
     "execution_count": 4,
     "metadata": {},
     "output_type": "execute_result"
    }
   ],
   "source": [
    "data = pd.read_csv('https://raw.githubusercontent.com/abcdrk/stress-detection/master/labels_sessions.csv')\n",
    "# lab_data = data[data.SessionID == \"A010C3\"]\n",
    "# daily_data = data[data.SessionID != \"A010C3\"]\n",
    "\n",
    "\n",
    "'''\n",
    "UNCOMMENT RELATED PLACE TO EXAMINE THE DATA\n",
    "'''\n",
    "# DISPLAY ALL\n",
    "# pd.set_option('display.max_rows', 1000)\n",
    "# data\n",
    "\n",
    "# SEE THE DATA COLUMS\n",
    "# print(data.columns)\n",
    "\n",
    "# DROP WHERE KNOWNLABEL == NaN\n",
    "# foo = data.dropna()\n",
    "# ERROR: SOME DEVICE CODES AND SESSION_ID'S DOESN'T MATCH\n",
    "# foo[foo.SessionID != foo.Device]\n",
    "\n",
    "\n",
    "'''\n",
    "UNCOMMENT TO SEE THE IMBALANCE BETWEEN STRESS CLASSES\n",
    "'''\n",
    "# low = data[data.ThreeClassLabel == \"L\"]\n",
    "# print(\"LOW labeled: \", len(low))\n",
    "# med = data[data.ThreeClassLabel == \"M\"]\n",
    "# print(\"MEDIUM labeled: \", len(med))\n",
    "# high = data[data.ThreeClassLabel == \"H\"]\n",
    "# print(\"HIGH labeled: \", len(high))\n",
    "# print(\"------------------------\")\n",
    "# print(\"LAB DATA: \", len(lab_data))\n",
    "# print(\"DAILY DATA: \", len(daily_data))"
   ]
  },
  {
   "cell_type": "code",
   "execution_count": 5,
   "metadata": {
    "colab": {
     "base_uri": "https://localhost:8080/",
     "height": 51
    },
    "colab_type": "code",
    "id": "x2xY6m89AQsl",
    "outputId": "3abf1a6a-49c9-43e1-a454-b23179b560cd"
   },
   "outputs": [
    {
     "name": "stderr",
     "output_type": "stream",
     "text": [
      "/anaconda3/lib/python3.6/site-packages/ipykernel_launcher.py:21: UserWarning: Boolean Series key will be reindexed to match DataFrame index.\n",
      "/anaconda3/lib/python3.6/site-packages/ipykernel_launcher.py:22: UserWarning: Boolean Series key will be reindexed to match DataFrame index.\n"
     ]
    }
   ],
   "source": [
    "import sqlite3\n",
    "\n",
    "conn = sqlite3.connect(':memory:')\n",
    "data.to_sql('data_df', conn, index=False)\n",
    "scoring.to_sql('scoring_df', conn, index=False)\n",
    "\n",
    "qry = '''\n",
    "    select\n",
    "        *\n",
    "    from\n",
    "        data_df\n",
    "    join\n",
    "        scoring_df\n",
    "    on\n",
    "        (scoring_df.UTC_Start <= data_df.Start_time) and (scoring_df.UTC_end >= data_df.endTime) and (scoring_df.DeviceID == data_df.Device)\n",
    "    '''\n",
    "\n",
    "all_data = pd.read_sql_query(qry, conn)\n",
    "\n",
    "lab_data = all_data[data.SessionID == \"A010C3\"]\n",
    "daily_data = all_data[data.SessionID != \"A010C3\"]"
   ]
  },
  {
   "cell_type": "markdown",
   "metadata": {
    "colab_type": "text",
    "id": "qP6a5lCu5FVF"
   },
   "source": [
    "#Train in LAB Test in DAILY"
   ]
  },
  {
   "cell_type": "markdown",
   "metadata": {
    "colab_type": "text",
    "id": "XjneubOUOEqz"
   },
   "source": []
  },
  {
   "cell_type": "markdown",
   "metadata": {
    "colab_type": "text",
    "id": "DV8T4WGgtXHV"
   },
   "source": [
    "##2 CLASSES: LOW - HIGH STRESS"
   ]
  },
  {
   "cell_type": "code",
   "execution_count": 68,
   "metadata": {
    "colab": {
     "base_uri": "https://localhost:8080/",
     "height": 34
    },
    "colab_type": "code",
    "id": "fb_wYTTEdFHj",
    "outputId": "bcbdb760-4a63-4e77-bf8c-c22b67043992"
   },
   "outputs": [
    {
     "data": {
      "text/plain": [
       "'\\nTo see that classes are balanced back\\n'"
      ]
     },
     "execution_count": 68,
     "metadata": {},
     "output_type": "execute_result"
    }
   ],
   "source": [
    "'''\n",
    "LOAD LAB DATA TO TRAIN & DAILY DATA TO TEST\n",
    "'''\n",
    "X_train = lab_data[['Mean', 'Peak', 'Perc20', 'Perc80', 'QuartDev','Std', 'Strong_Peak']]\n",
    "y_train = lab_data['TwoClassLabel']\n",
    "X_test = daily_data[['Mean', 'Peak', 'Perc20', 'Perc80', 'QuartDev','Std', 'Strong_Peak', 'Session']]\n",
    "y_test = daily_data['TwoClassLabel']\n",
    "\n",
    "\n",
    "'''\n",
    "Synthetic Minority Over-sampling Technique\n",
    "'''\n",
    "sm = SMOTE()\n",
    "X_train, y_train = sm.fit_resample(X_train, y_train)\n",
    "\n",
    "\n",
    "'''\n",
    "To see that classes are balanced back\n",
    "'''\n",
    "# low = y_train[y_train == \"L\"]\n",
    "# print(\"LOW labeled: \", len(low))\n",
    "# high = y_train[y_train == \"H\"]\n",
    "# print(\"HIGH labeled: \", len(high))"
   ]
  },
  {
   "cell_type": "markdown",
   "metadata": {
    "colab_type": "text",
    "id": "HrIAKRm6dFHi"
   },
   "source": [
    "### Logistic Regression"
   ]
  },
  {
   "cell_type": "code",
   "execution_count": 24,
   "metadata": {
    "colab": {
     "base_uri": "https://localhost:8080/",
     "height": 296
    },
    "colab_type": "code",
    "id": "jsdLDZfndFHl",
    "outputId": "91f1fc78-8680-4129-9d42-73a094e4e427"
   },
   "outputs": [
    {
     "name": "stderr",
     "output_type": "stream",
     "text": [
      "/anaconda3/lib/python3.6/site-packages/ipykernel_launcher.py:53: SettingWithCopyWarning: \n",
      "A value is trying to be set on a copy of a slice from a DataFrame.\n",
      "Try using .loc[row_indexer,col_indexer] = value instead\n",
      "\n",
      "See the caveats in the documentation: http://pandas.pydata.org/pandas-docs/stable/indexing.html#indexing-view-versus-copy\n",
      "/anaconda3/lib/python3.6/site-packages/pandas/core/indexing.py:537: SettingWithCopyWarning: \n",
      "A value is trying to be set on a copy of a slice from a DataFrame.\n",
      "Try using .loc[row_indexer,col_indexer] = value instead\n",
      "\n",
      "See the caveats in the documentation: http://pandas.pydata.org/pandas-docs/stable/indexing.html#indexing-view-versus-copy\n",
      "  self.obj[item] = s\n"
     ]
    },
    {
     "name": "stdout",
     "output_type": "stream",
     "text": [
      "Logistic Regression score:  0.5757290767903365\n"
     ]
    },
    {
     "data": {
      "image/png": "[encoded data removed]",
      "text/plain": [
       "<matplotlib.figure.Figure at 0x11960eda0>"
      ]
     },
     "metadata": {},
     "output_type": "display_data"
    }
   ],
   "source": [
    "from sklearn.linear_model import LogisticRegressionCV\n",
    "\n",
    "clf = LogisticRegressionCV(cv=4, multi_class='multinomial', class_weight='balanced', max_iter=4000, penalty=\"l2\").fit(X_train, y_train)\n",
    "y_pred = clf.predict(X_test[['Mean', 'Peak', 'Perc20', 'Perc80', 'QuartDev','Std', 'Strong_Peak']])\n",
    "\n",
    "predictions_with_majority = do_majority_vote(X_test, y_pred)\n",
    "\n",
    "accuracy = sum(1 for x,y in zip(y_test, predictions_with_majority) if x == y) / len(y_test)\n",
    "print('Logistic Regression score: ', accuracy)\n",
    "conf_matrix(y_test, predictions_with_majority)"
   ]
  },
  {
   "cell_type": "markdown",
   "metadata": {
    "colab_type": "text",
    "id": "Swgn-TFjt-PR"
   },
   "source": [
    "### Naive Bayes"
   ]
  },
  {
   "cell_type": "code",
   "execution_count": 25,
   "metadata": {
    "colab": {
     "base_uri": "https://localhost:8080/",
     "height": 296
    },
    "colab_type": "code",
    "id": "gV8I_a0juAdC",
    "outputId": "acb86e61-2409-46bb-bd0a-d3d6142eb3aa"
   },
   "outputs": [
    {
     "name": "stderr",
     "output_type": "stream",
     "text": [
      "/anaconda3/lib/python3.6/site-packages/ipykernel_launcher.py:53: SettingWithCopyWarning: \n",
      "A value is trying to be set on a copy of a slice from a DataFrame.\n",
      "Try using .loc[row_indexer,col_indexer] = value instead\n",
      "\n",
      "See the caveats in the documentation: http://pandas.pydata.org/pandas-docs/stable/indexing.html#indexing-view-versus-copy\n",
      "/anaconda3/lib/python3.6/site-packages/pandas/core/indexing.py:537: SettingWithCopyWarning: \n",
      "A value is trying to be set on a copy of a slice from a DataFrame.\n",
      "Try using .loc[row_indexer,col_indexer] = value instead\n",
      "\n",
      "See the caveats in the documentation: http://pandas.pydata.org/pandas-docs/stable/indexing.html#indexing-view-versus-copy\n",
      "  self.obj[item] = s\n"
     ]
    },
    {
     "name": "stdout",
     "output_type": "stream",
     "text": [
      "Naive Bayes score:  0.3668421052631579\n"
     ]
    },
    {
     "data": {
      "image/png": "[encoded data removed]",
      "text/plain": [
       "<matplotlib.figure.Figure at 0x11960eda0>"
      ]
     },
     "metadata": {},
     "output_type": "display_data"
    }
   ],
   "source": [
    "from sklearn.naive_bayes import GaussianNB\n",
    "\n",
    "gnb = GaussianNB().fit(X_train, y_train)\n",
    "y_pred =  gnb.predict(X_test[['Mean', 'Peak', 'Perc20', 'Perc80', 'QuartDev','Std', 'Strong_Peak']])\n",
    "\n",
    "predictions_with_majority = do_majority_vote(X_test, y_pred)\n",
    "\n",
    "accuracy = sum(1 for x,y in zip(y_test, predictions_with_majority) if x == y) / len(y_test)\n",
    "print('Naive Bayes score: ', accuracy)\n",
    "conf_matrix(y_test, predictions_with_majority)"
   ]
  },
  {
   "cell_type": "markdown",
   "metadata": {
    "colab_type": "text",
    "id": "D0FDHbzivQ-U"
   },
   "source": [
    "###Decision Tree"
   ]
  },
  {
   "cell_type": "code",
   "execution_count": 26,
   "metadata": {
    "colab": {
     "base_uri": "https://localhost:8080/",
     "height": 296
    },
    "colab_type": "code",
    "id": "ew1WTGEOvSR7",
    "outputId": "2573c402-2da1-4242-d43d-4b1e44aaef03"
   },
   "outputs": [
    {
     "name": "stderr",
     "output_type": "stream",
     "text": [
      "/anaconda3/lib/python3.6/site-packages/ipykernel_launcher.py:53: SettingWithCopyWarning: \n",
      "A value is trying to be set on a copy of a slice from a DataFrame.\n",
      "Try using .loc[row_indexer,col_indexer] = value instead\n",
      "\n",
      "See the caveats in the documentation: http://pandas.pydata.org/pandas-docs/stable/indexing.html#indexing-view-versus-copy\n",
      "/anaconda3/lib/python3.6/site-packages/pandas/core/indexing.py:537: SettingWithCopyWarning: \n",
      "A value is trying to be set on a copy of a slice from a DataFrame.\n",
      "Try using .loc[row_indexer,col_indexer] = value instead\n",
      "\n",
      "See the caveats in the documentation: http://pandas.pydata.org/pandas-docs/stable/indexing.html#indexing-view-versus-copy\n",
      "  self.obj[item] = s\n"
     ]
    },
    {
     "name": "stdout",
     "output_type": "stream",
     "text": [
      "Decision Tree score:  0.6830284728213978\n"
     ]
    },
    {
     "data": {
      "image/png": "[encoded data removed]",
      "text/plain": [
       "<matplotlib.figure.Figure at 0x119adaa20>"
      ]
     },
     "metadata": {},
     "output_type": "display_data"
    }
   ],
   "source": [
    "from sklearn import tree\n",
    "\n",
    "clf = tree.DecisionTreeClassifier()\n",
    "clf.fit(X_train, y_train)\n",
    "y_pred =  clf.predict(X_test[['Mean', 'Peak', 'Perc20', 'Perc80', 'QuartDev','Std', 'Strong_Peak']])\n",
    "\n",
    "predictions_with_majority = do_majority_vote(X_test, y_pred)\n",
    "\n",
    "accuracy = sum(1 for x,y in zip(y_test, predictions_with_majority) if x == y) / len(y_test)\n",
    "print('Decision Tree score: ', accuracy)\n",
    "conf_matrix(y_test, predictions_with_majority)"
   ]
  },
  {
   "cell_type": "markdown",
   "metadata": {
    "colab_type": "text",
    "id": "LyN3wHgdxK54"
   },
   "source": [
    "###Linear Discriminant Analysis (LDA)"
   ]
  },
  {
   "cell_type": "code",
   "execution_count": 27,
   "metadata": {
    "colab": {
     "base_uri": "https://localhost:8080/",
     "height": 296
    },
    "colab_type": "code",
    "id": "vrCcwiVHvTBb",
    "outputId": "9e5cc87f-dba8-4d01-8a27-6a590319c7cb"
   },
   "outputs": [
    {
     "name": "stderr",
     "output_type": "stream",
     "text": [
      "/anaconda3/lib/python3.6/site-packages/ipykernel_launcher.py:53: SettingWithCopyWarning: \n",
      "A value is trying to be set on a copy of a slice from a DataFrame.\n",
      "Try using .loc[row_indexer,col_indexer] = value instead\n",
      "\n",
      "See the caveats in the documentation: http://pandas.pydata.org/pandas-docs/stable/indexing.html#indexing-view-versus-copy\n",
      "/anaconda3/lib/python3.6/site-packages/pandas/core/indexing.py:537: SettingWithCopyWarning: \n",
      "A value is trying to be set on a copy of a slice from a DataFrame.\n",
      "Try using .loc[row_indexer,col_indexer] = value instead\n",
      "\n",
      "See the caveats in the documentation: http://pandas.pydata.org/pandas-docs/stable/indexing.html#indexing-view-versus-copy\n",
      "  self.obj[item] = s\n"
     ]
    },
    {
     "name": "stdout",
     "output_type": "stream",
     "text": [
      "LDA score:  0.5504055220017257\n"
     ]
    },
    {
     "data": {
      "image/png": "[encoded data removed]",
      "text/plain": [
       "<matplotlib.figure.Figure at 0x1200b5f98>"
      ]
     },
     "metadata": {},
     "output_type": "display_data"
    }
   ],
   "source": [
    "from sklearn.discriminant_analysis import LinearDiscriminantAnalysis\n",
    "\n",
    "clf = LinearDiscriminantAnalysis(solver='eigen', shrinkage='auto')\n",
    "clf.fit(X_train, y_train)\n",
    "y_pred = clf.predict(X_test[['Mean', 'Peak', 'Perc20', 'Perc80', 'QuartDev','Std', 'Strong_Peak']])\n",
    "\n",
    "predictions_with_majority = do_majority_vote(X_test, y_pred)\n",
    "\n",
    "accuracy = sum(1 for x,y in zip(y_test, predictions_with_majority) if x == y) / len(y_test)\n",
    "print('LDA score: ', accuracy)\n",
    "conf_matrix(y_test, predictions_with_majority)"
   ]
  },
  {
   "cell_type": "markdown",
   "metadata": {
    "colab_type": "text",
    "id": "oBLF_kxNxPsT"
   },
   "source": [
    "###K-Neigbours Classifier"
   ]
  },
  {
   "cell_type": "code",
   "execution_count": 28,
   "metadata": {
    "colab": {
     "base_uri": "https://localhost:8080/",
     "height": 313
    },
    "colab_type": "code",
    "id": "94hrw5jLvibo",
    "outputId": "370bc1a5-1823-4f20-d552-2f98e861ca39"
   },
   "outputs": [
    {
     "name": "stderr",
     "output_type": "stream",
     "text": [
      "/anaconda3/lib/python3.6/site-packages/ipykernel_launcher.py:53: SettingWithCopyWarning: \n",
      "A value is trying to be set on a copy of a slice from a DataFrame.\n",
      "Try using .loc[row_indexer,col_indexer] = value instead\n",
      "\n",
      "See the caveats in the documentation: http://pandas.pydata.org/pandas-docs/stable/indexing.html#indexing-view-versus-copy\n",
      "/anaconda3/lib/python3.6/site-packages/pandas/core/indexing.py:537: SettingWithCopyWarning: \n",
      "A value is trying to be set on a copy of a slice from a DataFrame.\n",
      "Try using .loc[row_indexer,col_indexer] = value instead\n",
      "\n",
      "See the caveats in the documentation: http://pandas.pydata.org/pandas-docs/stable/indexing.html#indexing-view-versus-copy\n",
      "  self.obj[item] = s\n"
     ]
    },
    {
     "name": "stdout",
     "output_type": "stream",
     "text": [
      "K-Neighbours score:  0.6792666091458154\n"
     ]
    },
    {
     "data": {
      "image/png": "[encoded data removed]",
      "text/plain": [
       "<matplotlib.figure.Figure at 0x1188cadd8>"
      ]
     },
     "metadata": {},
     "output_type": "display_data"
    }
   ],
   "source": [
    "from sklearn.neighbors import KNeighborsClassifier\n",
    "\n",
    "neigh = KNeighborsClassifier(n_neighbors=6)\n",
    "neigh.fit(X_train, y_train)\n",
    "y_pred = neigh.predict(X_test[['Mean', 'Peak', 'Perc20', 'Perc80', 'QuartDev','Std', 'Strong_Peak']])\n",
    "\n",
    "predictions_with_majority = do_majority_vote(X_test, y_pred)\n",
    "\n",
    "accuracy = sum(1 for x,y in zip(y_test, predictions_with_majority) if x == y) / len(y_test)\n",
    "print('K-Neighbours score: ', accuracy)\n",
    "conf_matrix(y_test, predictions_with_majority)"
   ]
  },
  {
   "cell_type": "markdown",
   "metadata": {
    "colab_type": "text",
    "id": "xGRJEPrT_XF_"
   },
   "source": [
    "###SVM"
   ]
  },
  {
   "cell_type": "code",
   "execution_count": 29,
   "metadata": {
    "colab": {
     "base_uri": "https://localhost:8080/",
     "height": 313
    },
    "colab_type": "code",
    "id": "YBolWIZD_anZ",
    "outputId": "18b82978-cb5c-4735-c965-57e641f726bc"
   },
   "outputs": [
    {
     "name": "stderr",
     "output_type": "stream",
     "text": [
      "/anaconda3/lib/python3.6/site-packages/ipykernel_launcher.py:53: SettingWithCopyWarning: \n",
      "A value is trying to be set on a copy of a slice from a DataFrame.\n",
      "Try using .loc[row_indexer,col_indexer] = value instead\n",
      "\n",
      "See the caveats in the documentation: http://pandas.pydata.org/pandas-docs/stable/indexing.html#indexing-view-versus-copy\n",
      "/anaconda3/lib/python3.6/site-packages/pandas/core/indexing.py:537: SettingWithCopyWarning: \n",
      "A value is trying to be set on a copy of a slice from a DataFrame.\n",
      "Try using .loc[row_indexer,col_indexer] = value instead\n",
      "\n",
      "See the caveats in the documentation: http://pandas.pydata.org/pandas-docs/stable/indexing.html#indexing-view-versus-copy\n",
      "  self.obj[item] = s\n"
     ]
    },
    {
     "name": "stdout",
     "output_type": "stream",
     "text": [
      "SVM score:  0.5743313201035375\n"
     ]
    },
    {
     "data": {
      "image/png": "[encoded data removed]",
      "text/plain": [
       "<matplotlib.figure.Figure at 0x1099da0f0>"
      ]
     },
     "metadata": {},
     "output_type": "display_data"
    }
   ],
   "source": [
    "from sklearn.svm import LinearSVC\n",
    "\n",
    "model = LinearSVC(dual=False)\n",
    "model.fit(X_train, y_train)\n",
    "y_pred = model.predict(X_test[['Mean', 'Peak', 'Perc20', 'Perc80', 'QuartDev','Std', 'Strong_Peak']])\n",
    "\n",
    "predictions_with_majority = do_majority_vote(X_test, y_pred)\n",
    "\n",
    "accuracy = sum(1 for x,y in zip(y_test, predictions_with_majority) if x == y) / len(y_test)\n",
    "print('SVM score: ', accuracy)\n",
    "conf_matrix(y_test, predictions_with_majority)"
   ]
  },
  {
   "cell_type": "markdown",
   "metadata": {
    "colab_type": "text",
    "id": "K8uYviNdEoKe"
   },
   "source": [
    "##3 CLASSES: LOW - MEDIUM - HIGH STRESS"
   ]
  },
  {
   "cell_type": "code",
   "execution_count": 32,
   "metadata": {
    "colab": {},
    "colab_type": "code",
    "id": "gK6ahpcdytuY"
   },
   "outputs": [],
   "source": [
    "'''\n",
    "LAB DATA TO TRAIN & DAILY DATA TO TEST\n",
    "'''\n",
    "X_train = lab_data[['Mean', 'Peak', 'Perc20', 'Perc80', 'QuartDev','Std', 'Strong_Peak']]\n",
    "y_train = lab_data['ThreeClassLabel']\n",
    "X_test = daily_data[['Mean', 'Peak', 'Perc20', 'Perc80', 'QuartDev','Std', 'Strong_Peak', 'Session']]\n",
    "y_test = daily_data['ThreeClassLabel']\n",
    "\n",
    "'''\n",
    "Synthetic Minority Over-sampling Technique\n",
    "'''\n",
    "sm = SMOTE()\n",
    "X_train, y_train = sm.fit_resample(X_train, y_train)"
   ]
  },
  {
   "cell_type": "markdown",
   "metadata": {
    "colab_type": "text",
    "id": "rq28EoisFbkP"
   },
   "source": [
    "### Logistic Regression"
   ]
  },
  {
   "cell_type": "code",
   "execution_count": 33,
   "metadata": {
    "colab": {
     "base_uri": "https://localhost:8080/"
    },
    "colab_type": "code",
    "id": "06_b4jj_FbkQ",
    "outputId": "e4cd76d1-4057-4c09-fa43-04d65d407612"
   },
   "outputs": [
    {
     "name": "stderr",
     "output_type": "stream",
     "text": [
      "/anaconda3/lib/python3.6/site-packages/ipykernel_launcher.py:53: SettingWithCopyWarning: \n",
      "A value is trying to be set on a copy of a slice from a DataFrame.\n",
      "Try using .loc[row_indexer,col_indexer] = value instead\n",
      "\n",
      "See the caveats in the documentation: http://pandas.pydata.org/pandas-docs/stable/indexing.html#indexing-view-versus-copy\n",
      "/anaconda3/lib/python3.6/site-packages/pandas/core/indexing.py:357: SettingWithCopyWarning: \n",
      "A value is trying to be set on a copy of a slice from a DataFrame.\n",
      "Try using .loc[row_indexer,col_indexer] = value instead\n",
      "\n",
      "See the caveats in the documentation: http://pandas.pydata.org/pandas-docs/stable/indexing.html#indexing-view-versus-copy\n",
      "  self.obj[key] = _infer_fill_value(value)\n",
      "/anaconda3/lib/python3.6/site-packages/pandas/core/indexing.py:537: SettingWithCopyWarning: \n",
      "A value is trying to be set on a copy of a slice from a DataFrame.\n",
      "Try using .loc[row_indexer,col_indexer] = value instead\n",
      "\n",
      "See the caveats in the documentation: http://pandas.pydata.org/pandas-docs/stable/indexing.html#indexing-view-versus-copy\n",
      "  self.obj[item] = s\n"
     ]
    },
    {
     "name": "stdout",
     "output_type": "stream",
     "text": [
      "Logistic Regression score:  0.3096635030198447\n"
     ]
    },
    {
     "data": {
      "image/png": "[encoded data removed]",
      "text/plain": [
       "<matplotlib.figure.Figure at 0x109ff2128>"
      ]
     },
     "metadata": {},
     "output_type": "display_data"
    }
   ],
   "source": [
    "from sklearn.linear_model import LogisticRegressionCV\n",
    "\n",
    "clf = LogisticRegressionCV(cv=4, multi_class='multinomial', class_weight='balanced', max_iter=4000, penalty=\"l2\").fit(X_train, y_train)\n",
    "y_pred = clf.predict(X_test[['Mean', 'Peak', 'Perc20', 'Perc80', 'QuartDev','Std', 'Strong_Peak']])\n",
    "\n",
    "predictions_with_majority = do_majority_vote(X_test, y_pred)\n",
    "\n",
    "accuracy = sum(1 for x,y in zip(y_test, predictions_with_majority) if x == y) / len(y_test)\n",
    "print('Logistic Regression score: ', accuracy)\n",
    "conf_matrix(y_test, predictions_with_majority)"
   ]
  },
  {
   "cell_type": "markdown",
   "metadata": {
    "colab_type": "text",
    "id": "xCp1Tp0KGFDk"
   },
   "source": [
    "### Naive Bayes"
   ]
  },
  {
   "cell_type": "code",
   "execution_count": 35,
   "metadata": {
    "colab": {
     "base_uri": "https://localhost:8080/"
    },
    "colab_type": "code",
    "id": "iQ73Jvc-GFDl",
    "outputId": "2477bb6f-4642-4e9a-873a-d7350957523d"
   },
   "outputs": [
    {
     "name": "stderr",
     "output_type": "stream",
     "text": [
      "/anaconda3/lib/python3.6/site-packages/ipykernel_launcher.py:53: SettingWithCopyWarning: \n",
      "A value is trying to be set on a copy of a slice from a DataFrame.\n",
      "Try using .loc[row_indexer,col_indexer] = value instead\n",
      "\n",
      "See the caveats in the documentation: http://pandas.pydata.org/pandas-docs/stable/indexing.html#indexing-view-versus-copy\n",
      "/anaconda3/lib/python3.6/site-packages/pandas/core/indexing.py:537: SettingWithCopyWarning: \n",
      "A value is trying to be set on a copy of a slice from a DataFrame.\n",
      "Try using .loc[row_indexer,col_indexer] = value instead\n",
      "\n",
      "See the caveats in the documentation: http://pandas.pydata.org/pandas-docs/stable/indexing.html#indexing-view-versus-copy\n",
      "  self.obj[item] = s\n"
     ]
    },
    {
     "name": "stdout",
     "output_type": "stream",
     "text": [
      "Naive Bayes score:  0.2617946505608283\n"
     ]
    },
    {
     "data": {
      "image/png": "[encoded data removed]",
      "text/plain": [
       "<matplotlib.figure.Figure at 0x119e5dbe0>"
      ]
     },
     "metadata": {},
     "output_type": "display_data"
    }
   ],
   "source": [
    "from sklearn.naive_bayes import GaussianNB\n",
    "\n",
    "gnb = GaussianNB().fit(X_train, y_train)\n",
    "y_pred =  gnb.predict(X_test[['Mean', 'Peak', 'Perc20', 'Perc80', 'QuartDev','Std', 'Strong_Peak']])\n",
    "\n",
    "predictions_with_majority = do_majority_vote(X_test, y_pred)\n",
    "\n",
    "accuracy = sum(1 for x,y in zip(y_test, predictions_with_majority) if x == y) / len(y_test)\n",
    "print('Naive Bayes score: ', accuracy)\n",
    "conf_matrix(y_test, predictions_with_majority)"
   ]
  },
  {
   "cell_type": "markdown",
   "metadata": {
    "colab_type": "text",
    "id": "FfUX9mkTGRHa"
   },
   "source": [
    "###Decision Tree"
   ]
  },
  {
   "cell_type": "code",
   "execution_count": 36,
   "metadata": {
    "colab": {
     "base_uri": "https://localhost:8080/"
    },
    "colab_type": "code",
    "id": "_xXWQLf7GRHb",
    "outputId": "e2775806-5001-4b24-8c1f-f0b59e01c85d"
   },
   "outputs": [
    {
     "name": "stderr",
     "output_type": "stream",
     "text": [
      "/anaconda3/lib/python3.6/site-packages/ipykernel_launcher.py:53: SettingWithCopyWarning: \n",
      "A value is trying to be set on a copy of a slice from a DataFrame.\n",
      "Try using .loc[row_indexer,col_indexer] = value instead\n",
      "\n",
      "See the caveats in the documentation: http://pandas.pydata.org/pandas-docs/stable/indexing.html#indexing-view-versus-copy\n",
      "/anaconda3/lib/python3.6/site-packages/pandas/core/indexing.py:537: SettingWithCopyWarning: \n",
      "A value is trying to be set on a copy of a slice from a DataFrame.\n",
      "Try using .loc[row_indexer,col_indexer] = value instead\n",
      "\n",
      "See the caveats in the documentation: http://pandas.pydata.org/pandas-docs/stable/indexing.html#indexing-view-versus-copy\n",
      "  self.obj[item] = s\n"
     ]
    },
    {
     "name": "stdout",
     "output_type": "stream",
     "text": [
      "Decision Tree score:  0.43270923209663503\n"
     ]
    },
    {
     "data": {
      "image/png": "[encoded data removed]",
      "text/plain": [
       "<matplotlib.figure.Figure at 0x119fd9cf8>"
      ]
     },
     "metadata": {},
     "output_type": "display_data"
    }
   ],
   "source": [
    "from sklearn import tree\n",
    "\n",
    "clf = tree.DecisionTreeClassifier()\n",
    "clf.fit(X_train, y_train)\n",
    "y_pred =  clf.predict(X_test[['Mean', 'Peak', 'Perc20', 'Perc80', 'QuartDev','Std', 'Strong_Peak']])\n",
    "\n",
    "predictions_with_majority = do_majority_vote(X_test, y_pred)\n",
    "\n",
    "accuracy = sum(1 for x,y in zip(y_test, predictions_with_majority) if x == y) / len(y_test)\n",
    "print('Decision Tree score: ', accuracy)\n",
    "conf_matrix(y_test, predictions_with_majority)"
   ]
  },
  {
   "cell_type": "markdown",
   "metadata": {
    "colab_type": "text",
    "id": "XQAe8fFqGVgr"
   },
   "source": [
    "###Linear Discriminant Analysis (LDA)"
   ]
  },
  {
   "cell_type": "code",
   "execution_count": 37,
   "metadata": {
    "colab": {
     "base_uri": "https://localhost:8080/",
     "height": 296
    },
    "colab_type": "code",
    "id": "JYc-gR35GVgs",
    "outputId": "f12ddfb9-1722-42d7-e839-6cc113f1d858"
   },
   "outputs": [
    {
     "name": "stderr",
     "output_type": "stream",
     "text": [
      "/anaconda3/lib/python3.6/site-packages/ipykernel_launcher.py:53: SettingWithCopyWarning: \n",
      "A value is trying to be set on a copy of a slice from a DataFrame.\n",
      "Try using .loc[row_indexer,col_indexer] = value instead\n",
      "\n",
      "See the caveats in the documentation: http://pandas.pydata.org/pandas-docs/stable/indexing.html#indexing-view-versus-copy\n",
      "/anaconda3/lib/python3.6/site-packages/pandas/core/indexing.py:537: SettingWithCopyWarning: \n",
      "A value is trying to be set on a copy of a slice from a DataFrame.\n",
      "Try using .loc[row_indexer,col_indexer] = value instead\n",
      "\n",
      "See the caveats in the documentation: http://pandas.pydata.org/pandas-docs/stable/indexing.html#indexing-view-versus-copy\n",
      "  self.obj[item] = s\n"
     ]
    },
    {
     "name": "stdout",
     "output_type": "stream",
     "text": [
      "LDA score:  0.29166522864538397\n"
     ]
    },
    {
     "data": {
      "image/png": "[encoded data removed]",
      "text/plain": [
       "<matplotlib.figure.Figure at 0x119e5dc88>"
      ]
     },
     "metadata": {},
     "output_type": "display_data"
    }
   ],
   "source": [
    "from sklearn.discriminant_analysis import LinearDiscriminantAnalysis\n",
    "\n",
    "clf = LinearDiscriminantAnalysis(solver='eigen', shrinkage='auto')\n",
    "clf.fit(X_train, y_train)\n",
    "y_pred = clf.predict(X_test[['Mean', 'Peak', 'Perc20', 'Perc80', 'QuartDev','Std', 'Strong_Peak']])\n",
    "\n",
    "predictions_with_majority = do_majority_vote(X_test, y_pred)\n",
    "\n",
    "accuracy = sum(1 for x,y in zip(y_test, predictions_with_majority) if x == y) / len(y_test)\n",
    "print('LDA score: ', accuracy)\n",
    "conf_matrix(y_test, predictions_with_majority)"
   ]
  },
  {
   "cell_type": "markdown",
   "metadata": {
    "colab_type": "text",
    "id": "EvogScPYGVgv"
   },
   "source": [
    "###K-Neigbours Classifier"
   ]
  },
  {
   "cell_type": "code",
   "execution_count": 38,
   "metadata": {
    "colab": {
     "base_uri": "https://localhost:8080/",
     "height": 313
    },
    "colab_type": "code",
    "id": "jAwRWcvZGVgv",
    "outputId": "5d6fe850-8798-4e51-979e-082b565591fc"
   },
   "outputs": [
    {
     "name": "stderr",
     "output_type": "stream",
     "text": [
      "/anaconda3/lib/python3.6/site-packages/ipykernel_launcher.py:53: SettingWithCopyWarning: \n",
      "A value is trying to be set on a copy of a slice from a DataFrame.\n",
      "Try using .loc[row_indexer,col_indexer] = value instead\n",
      "\n",
      "See the caveats in the documentation: http://pandas.pydata.org/pandas-docs/stable/indexing.html#indexing-view-versus-copy\n",
      "/anaconda3/lib/python3.6/site-packages/pandas/core/indexing.py:537: SettingWithCopyWarning: \n",
      "A value is trying to be set on a copy of a slice from a DataFrame.\n",
      "Try using .loc[row_indexer,col_indexer] = value instead\n",
      "\n",
      "See the caveats in the documentation: http://pandas.pydata.org/pandas-docs/stable/indexing.html#indexing-view-versus-copy\n",
      "  self.obj[item] = s\n"
     ]
    },
    {
     "name": "stdout",
     "output_type": "stream",
     "text": [
      "K-Neighbours score:  0.39499568593615186\n"
     ]
    },
    {
     "data": {
      "image/png": "[encoded data removed]",
      "text/plain": [
       "<matplotlib.figure.Figure at 0x119ff7390>"
      ]
     },
     "metadata": {},
     "output_type": "display_data"
    }
   ],
   "source": [
    "from sklearn.neighbors import KNeighborsClassifier\n",
    "\n",
    "neigh = KNeighborsClassifier(n_neighbors=6)\n",
    "neigh.fit(X_train, y_train)\n",
    "y_pred = neigh.predict(X_test[['Mean', 'Peak', 'Perc20', 'Perc80', 'QuartDev','Std', 'Strong_Peak']])\n",
    "\n",
    "predictions_with_majority = do_majority_vote(X_test, y_pred)\n",
    "\n",
    "accuracy = sum(1 for x,y in zip(y_test, predictions_with_majority) if x == y) / len(y_test)\n",
    "print('K-Neighbours score: ', accuracy)\n",
    "conf_matrix(y_test, predictions_with_majority)"
   ]
  },
  {
   "cell_type": "markdown",
   "metadata": {
    "colab_type": "text",
    "id": "VeSm2qNd_h75"
   },
   "source": [
    "###SVM"
   ]
  },
  {
   "cell_type": "code",
   "execution_count": 39,
   "metadata": {
    "colab": {
     "base_uri": "https://localhost:8080/"
    },
    "colab_type": "code",
    "id": "EdXj99ZX_jka",
    "outputId": "408bc516-8962-4eef-c8a5-1718c7b5b037"
   },
   "outputs": [
    {
     "name": "stderr",
     "output_type": "stream",
     "text": [
      "/anaconda3/lib/python3.6/site-packages/ipykernel_launcher.py:53: SettingWithCopyWarning: \n",
      "A value is trying to be set on a copy of a slice from a DataFrame.\n",
      "Try using .loc[row_indexer,col_indexer] = value instead\n",
      "\n",
      "See the caveats in the documentation: http://pandas.pydata.org/pandas-docs/stable/indexing.html#indexing-view-versus-copy\n",
      "/anaconda3/lib/python3.6/site-packages/pandas/core/indexing.py:537: SettingWithCopyWarning: \n",
      "A value is trying to be set on a copy of a slice from a DataFrame.\n",
      "Try using .loc[row_indexer,col_indexer] = value instead\n",
      "\n",
      "See the caveats in the documentation: http://pandas.pydata.org/pandas-docs/stable/indexing.html#indexing-view-versus-copy\n",
      "  self.obj[item] = s\n"
     ]
    },
    {
     "name": "stdout",
     "output_type": "stream",
     "text": [
      "SVM score:  0.3146160483175151\n"
     ]
    },
    {
     "data": {
      "image/png": "[encoded data removed]",
      "text/plain": [
       "<matplotlib.figure.Figure at 0x117e2dcc0>"
      ]
     },
     "metadata": {},
     "output_type": "display_data"
    }
   ],
   "source": [
    "from sklearn.svm import LinearSVC\n",
    "\n",
    "model = LinearSVC(dual=False)\n",
    "model.fit(X_train, y_train)\n",
    "y_pred = model.predict(X_test[['Mean', 'Peak', 'Perc20', 'Perc80', 'QuartDev','Std', 'Strong_Peak']])\n",
    "\n",
    "predictions_with_majority = do_majority_vote(X_test, y_pred)\n",
    "\n",
    "accuracy = sum(1 for x,y in zip(y_test, predictions_with_majority) if x == y) / len(y_test)\n",
    "print('SVM score: ', accuracy)\n",
    "conf_matrix(y_test, predictions_with_majority)"
   ]
  },
  {
   "cell_type": "markdown",
   "metadata": {
    "colab_type": "text",
    "id": "_PWnEPlm7mMG"
   },
   "source": [
    "#Train and Test in LAB"
   ]
  },
  {
   "cell_type": "markdown",
   "metadata": {
    "colab_type": "text",
    "id": "QrqgU9j_6ArU"
   },
   "source": [
    "##2 CLASSES: LOW - HIGH STRESS"
   ]
  },
  {
   "cell_type": "code",
   "execution_count": 82,
   "metadata": {
    "colab": {
     "base_uri": "https://localhost:8080/"
    },
    "colab_type": "code",
    "id": "re2Rr9ST6ArV",
    "outputId": "aa7c8c62-e7cd-4050-d8a1-4788877b7ba9"
   },
   "outputs": [
    {
     "data": {
      "text/plain": [
       "'\\nTo see that classes are balanced back\\n'"
      ]
     },
     "execution_count": 82,
     "metadata": {},
     "output_type": "execute_result"
    }
   ],
   "source": [
    "'''\n",
    "LOAD LAB DATA AND SPLIT INTO TRAIN AND TEST\n",
    "'''\n",
    "X = lab_data[['Mean', 'Peak', 'Perc20', 'Perc80', 'QuartDev','Std', 'Strong_Peak','Session']]\n",
    "y = lab_data['TwoClassWithKnown']\n",
    "\n",
    "\n",
    "X_train, X_test, y_train, y_test = train_test_split(X, y, test_size=0.2)\n",
    "\n",
    "# Since train_test_split returns list of lists convert them to Dataframes\n",
    "X_train = pd.DataFrame(X_train)\n",
    "X_train.columns = ['Mean', 'Peak', 'Perc20', 'Perc80', 'QuartDev','Std', 'Strong_Peak', 'Session']\n",
    "X_train = X_train.drop(columns=['Session'])\n",
    "\n",
    "X_test = pd.DataFrame(X_test)\n",
    "X_test.columns = ['Mean', 'Peak', 'Perc20', 'Perc80', 'QuartDev','Std', 'Strong_Peak', 'Session']\n",
    "\n",
    "\n",
    "'''\n",
    "Synthetic Minority Over-sampling Technique\n",
    "'''\n",
    "sm = SMOTE()\n",
    "X_train, y_train = sm.fit_resample(X_train, y_train)\n",
    "\n",
    "\n",
    "'''\n",
    "To see that classes are balanced back\n",
    "'''\n",
    "# low = y_train[y_train == \"L\"]\n",
    "# print(\"LOW labeled: \", len(low))\n",
    "# high = y_train[y_train == \"H\"]\n",
    "# print(\"HIGH labeled: \", len(high))"
   ]
  },
  {
   "cell_type": "markdown",
   "metadata": {
    "colab_type": "text",
    "id": "bt70HhnZ6ArY"
   },
   "source": [
    "### Logistic Regression\n",
    "\n",
    "\n",
    "\n",
    "\n"
   ]
  },
  {
   "cell_type": "code",
   "execution_count": 83,
   "metadata": {
    "colab": {
     "base_uri": "https://localhost:8080/"
    },
    "colab_type": "code",
    "id": "z3Wi1pNl6ArZ",
    "outputId": "adb2a35d-5cca-4f84-fe2a-0b62cdcacad0"
   },
   "outputs": [
    {
     "name": "stdout",
     "output_type": "stream",
     "text": [
      "Logistic Regression score:  0.8260869565217391\n"
     ]
    },
    {
     "data": {
      "image/png": "[encoded data removed]",
      "text/plain": [
       "<matplotlib.figure.Figure at 0x11a319780>"
      ]
     },
     "metadata": {},
     "output_type": "display_data"
    }
   ],
   "source": [
    "from sklearn.linear_model import LogisticRegressionCV\n",
    "\n",
    "clf = LogisticRegressionCV(cv=4, multi_class='multinomial', class_weight='balanced', max_iter=4000, penalty=\"l2\").fit(X_train, y_train)\n",
    "y_pred = clf.predict(X_test[['Mean', 'Peak', 'Perc20', 'Perc80', 'QuartDev','Std', 'Strong_Peak']])\n",
    "\n",
    "predictions_with_majority = do_majority_vote(X_test, y_pred)\n",
    "\n",
    "accuracy = sum(1 for x,y in zip(y_test, predictions_with_majority) if x == y) / len(y_test)\n",
    "print('Logistic Regression score: ', accuracy)\n",
    "conf_matrix(y_test, predictions_with_majority)"
   ]
  },
  {
   "cell_type": "markdown",
   "metadata": {
    "colab_type": "text",
    "id": "rAt98D2X6Arc"
   },
   "source": [
    "### Naive Bayes"
   ]
  },
  {
   "cell_type": "code",
   "execution_count": 84,
   "metadata": {
    "colab": {
     "base_uri": "https://localhost:8080/"
    },
    "colab_type": "code",
    "id": "s837p5IZ6Arc",
    "outputId": "70a0539a-ec65-4b93-a993-d194262a24ad"
   },
   "outputs": [
    {
     "name": "stdout",
     "output_type": "stream",
     "text": [
      "Naive Bayes score:  0.16304347826086957\n"
     ]
    },
    {
     "data": {
      "image/png": "[encoded data removed]",
      "text/plain": [
       "<matplotlib.figure.Figure at 0x11925eba8>"
      ]
     },
     "metadata": {},
     "output_type": "display_data"
    }
   ],
   "source": [
    "from sklearn.naive_bayes import GaussianNB\n",
    "\n",
    "gnb = GaussianNB().fit(X_train, y_train)\n",
    "y_pred =  gnb.predict(X_test[['Mean', 'Peak', 'Perc20', 'Perc80', 'QuartDev','Std', 'Strong_Peak']])\n",
    "\n",
    "predictions_with_majority = do_majority_vote(X_test, y_pred)\n",
    "\n",
    "accuracy = sum(1 for x,y in zip(y_test, predictions_with_majority) if x == y) / len(y_test)\n",
    "print('Naive Bayes score: ', accuracy)\n",
    "conf_matrix(y_test, predictions_with_majority)"
   ]
  },
  {
   "cell_type": "markdown",
   "metadata": {
    "colab_type": "text",
    "id": "X7-3UiJ06Arg"
   },
   "source": [
    "###Decision Tree"
   ]
  },
  {
   "cell_type": "code",
   "execution_count": 85,
   "metadata": {
    "colab": {
     "base_uri": "https://localhost:8080/"
    },
    "colab_type": "code",
    "id": "xQCGrZIt6Arg",
    "outputId": "9951396c-29e3-495d-9902-30a29de84487"
   },
   "outputs": [
    {
     "name": "stdout",
     "output_type": "stream",
     "text": [
      "Decision Tree score:  0.9565217391304348\n"
     ]
    },
    {
     "data": {
      "image/png": "[encoded data removed]",
      "text/plain": [
       "<matplotlib.figure.Figure at 0x11a331ac8>"
      ]
     },
     "metadata": {},
     "output_type": "display_data"
    }
   ],
   "source": [
    "from sklearn import tree\n",
    "\n",
    "clf = tree.DecisionTreeClassifier()\n",
    "clf.fit(X_train, y_train)\n",
    "y_pred =  clf.predict(X_test[['Mean', 'Peak', 'Perc20', 'Perc80', 'QuartDev','Std', 'Strong_Peak']])\n",
    "\n",
    "predictions_with_majority = do_majority_vote(X_test, y_pred)\n",
    "\n",
    "accuracy = sum(1 for x,y in zip(y_test, predictions_with_majority) if x == y) / len(y_test)\n",
    "print('Decision Tree score: ', accuracy)\n",
    "conf_matrix(y_test, predictions_with_majority)"
   ]
  },
  {
   "cell_type": "markdown",
   "metadata": {
    "colab_type": "text",
    "id": "-3Bsj_Z26Ark"
   },
   "source": [
    "###Linear Discriminant Analysis (LDA)"
   ]
  },
  {
   "cell_type": "code",
   "execution_count": 86,
   "metadata": {
    "colab": {
     "base_uri": "https://localhost:8080/"
    },
    "colab_type": "code",
    "id": "aiyn8GKs6Arl",
    "outputId": "1d15169a-1759-4a78-d461-df32c6d3cf78"
   },
   "outputs": [
    {
     "name": "stdout",
     "output_type": "stream",
     "text": [
      "LDA score:  0.8043478260869565\n"
     ]
    },
    {
     "data": {
      "image/png": "[encoded data removed]",
      "text/plain": [
       "<matplotlib.figure.Figure at 0x11a3e9828>"
      ]
     },
     "metadata": {},
     "output_type": "display_data"
    }
   ],
   "source": [
    "from sklearn.discriminant_analysis import LinearDiscriminantAnalysis\n",
    "\n",
    "clf = LinearDiscriminantAnalysis(solver='eigen', shrinkage='auto')\n",
    "clf.fit(X_train, y_train)\n",
    "y_pred = clf.predict(X_test[['Mean', 'Peak', 'Perc20', 'Perc80', 'QuartDev','Std', 'Strong_Peak']])\n",
    "\n",
    "predictions_with_majority = do_majority_vote(X_test, y_pred)\n",
    "\n",
    "accuracy = sum(1 for x,y in zip(y_test, predictions_with_majority) if x == y) / len(y_test)\n",
    "print('LDA score: ', accuracy)\n",
    "conf_matrix(y_test, predictions_with_majority)"
   ]
  },
  {
   "cell_type": "markdown",
   "metadata": {
    "colab_type": "text",
    "id": "zj4MucLY6Arp"
   },
   "source": [
    "###K-Neigbours Classifier"
   ]
  },
  {
   "cell_type": "code",
   "execution_count": 87,
   "metadata": {
    "colab": {
     "base_uri": "https://localhost:8080/"
    },
    "colab_type": "code",
    "id": "qkToL9FH6Arp",
    "outputId": "b414f39f-71f5-4ad5-92b0-f7e7356f99c1"
   },
   "outputs": [
    {
     "name": "stdout",
     "output_type": "stream",
     "text": [
      "K-Neighbours score:  1.0\n"
     ]
    },
    {
     "data": {
      "image/png": "[encoded data removed]",
      "text/plain": [
       "<matplotlib.figure.Figure at 0x11a728f28>"
      ]
     },
     "metadata": {},
     "output_type": "display_data"
    }
   ],
   "source": [
    "from sklearn.neighbors import KNeighborsClassifier\n",
    "\n",
    "neigh = KNeighborsClassifier(n_neighbors=6)\n",
    "neigh.fit(X_train, y_train)\n",
    "y_pred = neigh.predict(X_test[['Mean', 'Peak', 'Perc20', 'Perc80', 'QuartDev','Std', 'Strong_Peak']])\n",
    "\n",
    "predictions_with_majority = do_majority_vote(X_test, y_pred)\n",
    "\n",
    "accuracy = sum(1 for x,y in zip(y_test, predictions_with_majority) if x == y) / len(y_test)\n",
    "print('K-Neighbours score: ', accuracy)\n",
    "conf_matrix(y_test, predictions_with_majority)"
   ]
  },
  {
   "cell_type": "markdown",
   "metadata": {
    "colab_type": "text",
    "id": "5PW97LXu_mqu"
   },
   "source": [
    "###SVM"
   ]
  },
  {
   "cell_type": "code",
   "execution_count": 88,
   "metadata": {
    "colab": {
     "base_uri": "https://localhost:8080/"
    },
    "colab_type": "code",
    "id": "T6NtZaAM_mJd",
    "outputId": "39cd006d-f90a-4e3c-eab9-2589c0bd4d4f"
   },
   "outputs": [
    {
     "name": "stdout",
     "output_type": "stream",
     "text": [
      "SVM score:  0.8260869565217391\n"
     ]
    },
    {
     "data": {
      "image/png": "[encoded data removed]",
      "text/plain": [
       "<matplotlib.figure.Figure at 0x11a4ff518>"
      ]
     },
     "metadata": {},
     "output_type": "display_data"
    }
   ],
   "source": [
    "from sklearn.svm import LinearSVC\n",
    "\n",
    "model = LinearSVC(dual=False)\n",
    "model.fit(X_train, y_train)\n",
    "y_pred = model.predict(X_test[['Mean', 'Peak', 'Perc20', 'Perc80', 'QuartDev','Std', 'Strong_Peak']])\n",
    "\n",
    "predictions_with_majority = do_majority_vote(X_test, y_pred)\n",
    "\n",
    "accuracy = sum(1 for x,y in zip(y_test, predictions_with_majority) if x == y) / len(y_test)\n",
    "print('SVM score: ', accuracy)\n",
    "conf_matrix(y_test, predictions_with_majority)"
   ]
  },
  {
   "cell_type": "markdown",
   "metadata": {
    "colab_type": "text",
    "id": "5aSJVubm6Ars"
   },
   "source": [
    "##3 CLASSES: LOW - MEDIUM - HIGH STRESS"
   ]
  },
  {
   "cell_type": "code",
   "execution_count": 0,
   "metadata": {
    "colab": {},
    "colab_type": "code",
    "id": "9KHoY0Hv6Art"
   },
   "outputs": [],
   "source": [
    "'''\n",
    "LOAD LAB DATA AND SPLIT INTO TRAIN AND TEST\n",
    "'''\n",
    "X = lab_data[['Mean', 'Peak', 'Perc20', 'Perc80', 'QuartDev','Std', 'Strong_Peak', 'dataQual']]\n",
    "y = lab_data['ThreeClassWithKnown']\n",
    "X_train, X_test, y_train, y_test = train_test_split(X, y, test_size=0.2)\n",
    "\n",
    "'''\n",
    "Synthetic Minority Over-sampling Technique\n",
    "'''\n",
    "sm = SMOTE()\n",
    "X_train, y_train = sm.fit_resample(X_train, y_train)"
   ]
  },
  {
   "cell_type": "markdown",
   "metadata": {
    "colab_type": "text",
    "id": "FVpcXl6D6Aru"
   },
   "source": [
    "### Logistic Regression"
   ]
  },
  {
   "cell_type": "code",
   "execution_count": 0,
   "metadata": {
    "colab": {
     "base_uri": "https://localhost:8080/"
    },
    "colab_type": "code",
    "id": "jtH3BnLk6Arv",
    "outputId": "3941c5da-e908-45a4-fe81-bc5fc54b7b0a"
   },
   "outputs": [
    {
     "name": "stdout",
     "output_type": "stream",
     "text": [
      "Logistic Regression score:  0.5760869565217391\n"
     ]
    },
    {
     "data": {
      "image/png": "[encoded data removed]",
      "text/plain": [
       "<Figure size 432x288 with 2 Axes>"
      ]
     },
     "metadata": {
      "tags": []
     },
     "output_type": "display_data"
    }
   ],
   "source": [
    "from sklearn.linear_model import LogisticRegressionCV\n",
    "\n",
    "clf = LogisticRegressionCV(cv=4, multi_class='multinomial', class_weight='balanced', max_iter=4000, penalty=\"l2\").fit(X_train, y_train)\n",
    "y_pred = clf.predict(X_test[['Mean', 'Peak', 'Perc20', 'Perc80', 'QuartDev','Std', 'Strong_Peak']])\n",
    "\n",
    "predictions_with_majority = do_majority_vote(X_test, y_pred)\n",
    "\n",
    "accuracy = sum(1 for x,y in zip(y_test, predictions_with_majority) if x == y) / len(y_test)\n",
    "print('Logistic Regression score: ', accuracy)\n",
    "conf_matrix(y_test, predictions_with_majority)"
   ]
  },
  {
   "cell_type": "markdown",
   "metadata": {
    "colab_type": "text",
    "id": "G5EvDyQ66Ary"
   },
   "source": [
    "### Naive Bayes"
   ]
  },
  {
   "cell_type": "code",
   "execution_count": 0,
   "metadata": {
    "colab": {
     "base_uri": "https://localhost:8080/"
    },
    "colab_type": "code",
    "id": "4AnijbPH6Arz",
    "outputId": "14244f09-60cb-4901-a7ee-37ee2aa64fa4"
   },
   "outputs": [
    {
     "name": "stdout",
     "output_type": "stream",
     "text": [
      "Naive Bayes score:  0.16304347826086957\n"
     ]
    },
    {
     "data": {
      "image/png": "[encoded data removed]",
      "text/plain": [
       "<Figure size 432x288 with 2 Axes>"
      ]
     },
     "metadata": {
      "tags": []
     },
     "output_type": "display_data"
    }
   ],
   "source": [
    "from sklearn.naive_bayes import GaussianNB\n",
    "\n",
    "gnb = GaussianNB().fit(X_train, y_train)\n",
    "y_pred =  gnb.predict(X_test[['Mean', 'Peak', 'Perc20', 'Perc80', 'QuartDev','Std', 'Strong_Peak']])\n",
    "\n",
    "predictions_with_majority = do_majority_vote(X_test, y_pred)\n",
    "\n",
    "accuracy = sum(1 for x,y in zip(y_test, predictions_with_majority) if x == y) / len(y_test)\n",
    "print('Naive Bayes score: ', accuracy)\n",
    "conf_matrix(y_test, predictions_with_majority)"
   ]
  },
  {
   "cell_type": "markdown",
   "metadata": {
    "colab_type": "text",
    "id": "SBKqj70t6Ar1"
   },
   "source": [
    "###Decision Tree"
   ]
  },
  {
   "cell_type": "code",
   "execution_count": 0,
   "metadata": {
    "colab": {
     "base_uri": "https://localhost:8080/"
    },
    "colab_type": "code",
    "id": "Q92CdcBJ6Ar3",
    "outputId": "aa3fad6e-57ad-4969-e219-9a8891d0d662"
   },
   "outputs": [
    {
     "name": "stdout",
     "output_type": "stream",
     "text": [
      "Decision Tree score:  0.6739130434782609\n"
     ]
    },
    {
     "data": {
      "image/png": "[encoded data removed]",
      "text/plain": [
       "<Figure size 432x288 with 2 Axes>"
      ]
     },
     "metadata": {
      "tags": []
     },
     "output_type": "display_data"
    }
   ],
   "source": [
    "from sklearn import tree\n",
    "\n",
    "clf = tree.DecisionTreeClassifier()\n",
    "clf.fit(X_train, y_train)\n",
    "y_pred =  clf.predict(X_test[['Mean', 'Peak', 'Perc20', 'Perc80', 'QuartDev','Std', 'Strong_Peak']])\n",
    "\n",
    "predictions_with_majority = do_majority_vote(X_test, y_pred)\n",
    "\n",
    "accuracy = sum(1 for x,y in zip(y_test, predictions_with_majority) if x == y) / len(y_test)\n",
    "print('Decision Tree score: ', accuracy)\n",
    "conf_matrix(y_test, predictions_with_majority)"
   ]
  },
  {
   "cell_type": "markdown",
   "metadata": {
    "colab_type": "text",
    "id": "OP4tyFlh6Ar6"
   },
   "source": [
    "###Linear Discriminant Analysis (LDA)"
   ]
  },
  {
   "cell_type": "code",
   "execution_count": 0,
   "metadata": {
    "colab": {
     "base_uri": "https://localhost:8080/"
    },
    "colab_type": "code",
    "id": "JoeTvcrl6Ar6",
    "outputId": "237fc129-ce19-429e-d4f6-81e42b8bd7e0"
   },
   "outputs": [
    {
     "name": "stdout",
     "output_type": "stream",
     "text": [
      "Linear Discriminant Analysis (LDA) score:  0.5760869565217391\n"
     ]
    },
    {
     "data": {
      "image/png": "[encoded data removed]",
      "text/plain": [
       "<Figure size 432x288 with 2 Axes>"
      ]
     },
     "metadata": {
      "tags": []
     },
     "output_type": "display_data"
    }
   ],
   "source": [
    "from sklearn.discriminant_analysis import LinearDiscriminantAnalysis\n",
    "\n",
    "clf = LinearDiscriminantAnalysis(solver='eigen', shrinkage='auto')\n",
    "clf.fit(X_train, y_train)\n",
    "y_pred = clf.predict(X_test[['Mean', 'Peak', 'Perc20', 'Perc80', 'QuartDev','Std', 'Strong_Peak']])\n",
    "\n",
    "predictions_with_majority = do_majority_vote(X_test, y_pred)\n",
    "\n",
    "accuracy = sum(1 for x,y in zip(y_test, predictions_with_majority) if x == y) / len(y_test)\n",
    "print('LDA score: ', accuracy)\n",
    "conf_matrix(y_test, predictions_with_majority)"
   ]
  },
  {
   "cell_type": "markdown",
   "metadata": {
    "colab_type": "text",
    "id": "jKZr5Ad46Ar-"
   },
   "source": [
    "###K-Neigbours Classifier"
   ]
  },
  {
   "cell_type": "code",
   "execution_count": 0,
   "metadata": {
    "colab": {
     "base_uri": "https://localhost:8080/"
    },
    "colab_type": "code",
    "id": "HQybsdWY6Ar-",
    "outputId": "690cc3e5-88c8-4aa7-e42c-84593a2591ed"
   },
   "outputs": [
    {
     "name": "stdout",
     "output_type": "stream",
     "text": [
      "['H' 'M' 'H' 'H' 'L' 'L' 'L' 'L' 'L' 'M' 'L' 'L' 'M' 'L' 'L' 'L' 'L' 'L'\n",
      " 'L' 'M' 'L' 'M' 'L' 'M' 'L' 'M' 'H' 'L' 'L' 'L' 'L' 'L' 'L' 'L' 'M' 'L'\n",
      " 'L' 'M' 'H' 'L' 'M' 'M' 'L' 'M' 'L' 'L' 'L' 'M' 'L' 'L' 'L' 'M' 'L' 'H'\n",
      " 'L' 'M' 'H' 'M' 'L' 'L' 'M' 'L' 'L' 'H' 'L' 'L' 'M' 'L' 'L' 'L' 'M' 'L'\n",
      " 'L' 'L' 'M' 'H' 'L' 'H' 'L' 'L' 'L' 'M' 'L' 'H' 'H' 'L' 'H' 'L' 'L' 'H'\n",
      " 'L' 'L']\n",
      "K-Neighbours score: 0.6956521739130435\n"
     ]
    },
    {
     "data": {
      "image/png": "[encoded data removed]",
      "text/plain": [
       "<Figure size 432x288 with 2 Axes>"
      ]
     },
     "metadata": {
      "tags": []
     },
     "output_type": "display_data"
    }
   ],
   "source": [
    "from sklearn.neighbors import KNeighborsClassifier\n",
    "\n",
    "neigh = KNeighborsClassifier(n_neighbors=6)\n",
    "neigh.fit(X_train, y_train)\n",
    "y_pred = neigh.predict(X_test[['Mean', 'Peak', 'Perc20', 'Perc80', 'QuartDev','Std', 'Strong_Peak']])\n",
    "\n",
    "predictions_with_majority = do_majority_vote(X_test, y_pred)\n",
    "\n",
    "accuracy = sum(1 for x,y in zip(y_test, predictions_with_majority) if x == y) / len(y_test)\n",
    "print('K-Neighbours score: ', accuracy)\n",
    "conf_matrix(y_test, predictions_with_majority)"
   ]
  },
  {
   "cell_type": "markdown",
   "metadata": {
    "colab_type": "text",
    "id": "2YiKn4ci_po1"
   },
   "source": [
    "###SVM"
   ]
  },
  {
   "cell_type": "code",
   "execution_count": 0,
   "metadata": {
    "colab": {
     "base_uri": "https://localhost:8080/"
    },
    "colab_type": "code",
    "id": "nvINiYT0_rQA",
    "outputId": "a22cfbe9-d746-4fce-a262-486c1672c086"
   },
   "outputs": [
    {
     "name": "stdout",
     "output_type": "stream",
     "text": [
      "['L' 'L' 'H' 'H' 'L' 'L' 'M' 'L' 'L' 'M' 'L' 'L' 'H' 'L' 'L' 'L' 'L' 'L'\n",
      " 'L' 'L' 'L' 'L' 'L' 'H' 'L' 'L' 'L' 'L' 'H' 'H' 'H' 'H' 'H' 'L' 'H' 'L'\n",
      " 'L' 'L' 'L' 'L' 'M' 'L' 'L' 'L' 'L' 'L' 'L' 'H' 'L' 'L' 'L' 'L' 'L' 'L'\n",
      " 'H' 'H' 'L' 'L' 'L' 'L' 'L' 'L' 'L' 'L' 'H' 'L' 'L' 'L' 'H' 'L' 'L' 'L'\n",
      " 'L' 'H' 'M' 'L' 'L' 'L' 'L' 'L' 'L' 'M' 'L' 'L' 'H' 'L' 'H' 'L' 'L' 'L'\n",
      " 'L' 'L']\n",
      "SVM score: 0.5760869565217391\n"
     ]
    },
    {
     "data": {
      "image/png": "[encoded data removed]",
      "text/plain": [
       "<Figure size 432x288 with 2 Axes>"
      ]
     },
     "metadata": {
      "tags": []
     },
     "output_type": "display_data"
    }
   ],
   "source": [
    "from sklearn.svm import LinearSVC\n",
    "\n",
    "model = LinearSVC(dual=False)\n",
    "model.fit(X_train, y_train)\n",
    "y_pred = model.predict(X_test[['Mean', 'Peak', 'Perc20', 'Perc80', 'QuartDev','Std', 'Strong_Peak']])\n",
    "\n",
    "predictions_with_majority = do_majority_vote(X_test, y_pred)\n",
    "\n",
    "accuracy = sum(1 for x,y in zip(y_test, predictions_with_majority) if x == y) / len(y_test)\n",
    "print('SVM score: ', accuracy)\n",
    "conf_matrix(y_test, predictions_with_majority)"
   ]
  },
  {
   "cell_type": "markdown",
   "metadata": {
    "colab_type": "text",
    "id": "9A309E737zQm"
   },
   "source": [
    "#Train and Test in DAILY"
   ]
  },
  {
   "cell_type": "markdown",
   "metadata": {
    "colab_type": "text",
    "id": "S4Bo-V1kIfrx"
   },
   "source": [
    "##2 CLASSES: LOW - HIGH STRESS"
   ]
  },
  {
   "cell_type": "code",
   "execution_count": 90,
   "metadata": {
    "colab": {
     "base_uri": "https://localhost:8080/"
    },
    "colab_type": "code",
    "id": "JT_57vSwIfry",
    "outputId": "afbfeb56-0926-4cfa-844c-1d000665291c"
   },
   "outputs": [
    {
     "data": {
      "text/plain": [
       "'\\nTo see that classes are balanced back\\n'"
      ]
     },
     "execution_count": 90,
     "metadata": {},
     "output_type": "execute_result"
    }
   ],
   "source": [
    "'''\n",
    "LOAD DAILY DATA AND SPLIT INTO TRAIN AND TEST\n",
    "'''\n",
    "X = daily_data[['Mean', 'Peak', 'Perc20', 'Perc80', 'QuartDev','Std', 'Strong_Peak', 'Session']]\n",
    "y = daily_data['TwoClassWithKnown']\n",
    "X_train, X_test, y_train, y_test = train_test_split(X, y, test_size=0.2)\n",
    "\n",
    "# Since train_test_split returns list of lists convert them to Dataframes\n",
    "X_train = pd.DataFrame(X_train)\n",
    "X_train.columns = ['Mean', 'Peak', 'Perc20', 'Perc80', 'QuartDev','Std', 'Strong_Peak', 'Session']\n",
    "X_train = X_train.drop(columns=['Session'])\n",
    "\n",
    "X_test = pd.DataFrame(X_test)\n",
    "X_test.columns = ['Mean', 'Peak', 'Perc20', 'Perc80', 'QuartDev','Std', 'Strong_Peak', 'Session']\n",
    "\n",
    "'''\n",
    "Synthetic Minority Over-sampling Technique\n",
    "'''\n",
    "sm = SMOTE()\n",
    "X_train, y_train = sm.fit_resample(X_train, y_train)\n",
    "\n",
    "\n",
    "'''\n",
    "To see that classes are balanced back\n",
    "'''\n",
    "# low = y_train[y_train == \"L\"]\n",
    "# print(\"LOW labeled: \", len(low))\n",
    "# high = y_train[y_train == \"H\"]\n",
    "# print(\"HIGH labeled: \", len(high))"
   ]
  },
  {
   "cell_type": "markdown",
   "metadata": {
    "colab_type": "text",
    "id": "CgUs0WohIfr0"
   },
   "source": [
    "### Logistic Regression\n",
    "\n",
    "\n",
    "\n",
    "\n"
   ]
  },
  {
   "cell_type": "code",
   "execution_count": 91,
   "metadata": {
    "colab": {
     "base_uri": "https://localhost:8080/"
    },
    "colab_type": "code",
    "id": "UzWQGXENIfr1",
    "outputId": "25fb64c9-b7c1-45f3-80ff-8aa4e50043aa"
   },
   "outputs": [
    {
     "name": "stdout",
     "output_type": "stream",
     "text": [
      "Logistic Regression score:  0.6515530629853322\n"
     ]
    },
    {
     "data": {
      "image/png": "[encoded data removed]",
      "text/plain": [
       "<matplotlib.figure.Figure at 0x11b6e9710>"
      ]
     },
     "metadata": {},
     "output_type": "display_data"
    }
   ],
   "source": [
    "from sklearn.linear_model import LogisticRegressionCV\n",
    "\n",
    "clf = LogisticRegressionCV(cv=4, multi_class='multinomial', class_weight='balanced', max_iter=4000, penalty=\"l2\").fit(X_train, y_train)\n",
    "y_pred = clf.predict(X_test[['Mean', 'Peak', 'Perc20', 'Perc80', 'QuartDev','Std', 'Strong_Peak']])\n",
    "\n",
    "predictions_with_majority = do_majority_vote(X_test, y_pred)\n",
    "\n",
    "accuracy = sum(1 for x,y in zip(y_test, predictions_with_majority) if x == y) / len(y_test)\n",
    "print('Logistic Regression score: ', accuracy)\n",
    "conf_matrix(y_test, predictions_with_majority)"
   ]
  },
  {
   "cell_type": "markdown",
   "metadata": {
    "colab_type": "text",
    "id": "iQYm3jXTIfr5"
   },
   "source": [
    "### Naive Bayes"
   ]
  },
  {
   "cell_type": "code",
   "execution_count": 92,
   "metadata": {
    "colab": {
     "base_uri": "https://localhost:8080/"
    },
    "colab_type": "code",
    "id": "DDAbBb50Ifr5",
    "outputId": "f7ccb94e-980d-4f2d-e047-3c9c9bb456ed"
   },
   "outputs": [
    {
     "name": "stdout",
     "output_type": "stream",
     "text": [
      "Naive Bayes score:  0.6786885245901639\n"
     ]
    },
    {
     "data": {
      "image/png": "[encoded data removed]",
      "text/plain": [
       "<matplotlib.figure.Figure at 0x11b6d4438>"
      ]
     },
     "metadata": {},
     "output_type": "display_data"
    }
   ],
   "source": [
    "from sklearn.naive_bayes import GaussianNB\n",
    "\n",
    "gnb = GaussianNB().fit(X_train, y_train)\n",
    "y_pred =  gnb.predict(X_test[['Mean', 'Peak', 'Perc20', 'Perc80', 'QuartDev','Std', 'Strong_Peak']])\n",
    "\n",
    "predictions_with_majority = do_majority_vote(X_test, y_pred)\n",
    "\n",
    "accuracy = sum(1 for x,y in zip(y_test, predictions_with_majority) if x == y) / len(y_test)\n",
    "print('Naive Bayes score: ', accuracy)\n",
    "conf_matrix(y_test, predictions_with_majority)"
   ]
  },
  {
   "cell_type": "markdown",
   "metadata": {
    "colab_type": "text",
    "id": "Od31-7IzIfr8"
   },
   "source": [
    "###Decision Tree"
   ]
  },
  {
   "cell_type": "code",
   "execution_count": 93,
   "metadata": {
    "colab": {
     "base_uri": "https://localhost:8080/"
    },
    "colab_type": "code",
    "id": "u8dDxrrFIfr9",
    "outputId": "81160d9c-ac13-4644-c509-4d070b0569c7"
   },
   "outputs": [
    {
     "name": "stdout",
     "output_type": "stream",
     "text": [
      "Decision Tree score:  0.6820103537532356\n"
     ]
    },
    {
     "data": {
      "image/png": "[encoded data removed]",
      "text/plain": [
       "<matplotlib.figure.Figure at 0x11b84c278>"
      ]
     },
     "metadata": {},
     "output_type": "display_data"
    }
   ],
   "source": [
    "from sklearn import tree\n",
    "\n",
    "clf = tree.DecisionTreeClassifier()\n",
    "clf.fit(X_train, y_train)\n",
    "y_pred =  clf.predict(X_test[['Mean', 'Peak', 'Perc20', 'Perc80', 'QuartDev','Std', 'Strong_Peak']])\n",
    "\n",
    "predictions_with_majority = do_majority_vote(X_test, y_pred)\n",
    "\n",
    "accuracy = sum(1 for x,y in zip(y_test, predictions_with_majority) if x == y) / len(y_test)\n",
    "print('Decision Tree score: ', accuracy)\n",
    "conf_matrix(y_test, predictions_with_majority)"
   ]
  },
  {
   "cell_type": "markdown",
   "metadata": {
    "colab_type": "text",
    "id": "G6ej6spKIfr_"
   },
   "source": [
    "###Linear Discriminant Analysis (LDA)"
   ]
  },
  {
   "cell_type": "code",
   "execution_count": 94,
   "metadata": {
    "colab": {
     "base_uri": "https://localhost:8080/"
    },
    "colab_type": "code",
    "id": "DtfU-yAEIfr_",
    "outputId": "f774907a-246d-4611-cd10-ea068de40ef6"
   },
   "outputs": [
    {
     "name": "stdout",
     "output_type": "stream",
     "text": [
      "LDA score:  0.640207075064711\n"
     ]
    },
    {
     "data": {
      "image/png": "[encoded data removed]",
      "text/plain": [
       "<matplotlib.figure.Figure at 0x11b788cc0>"
      ]
     },
     "metadata": {},
     "output_type": "display_data"
    }
   ],
   "source": [
    "from sklearn.discriminant_analysis import LinearDiscriminantAnalysis\n",
    "\n",
    "clf = LinearDiscriminantAnalysis(solver='eigen', shrinkage='auto')\n",
    "clf.fit(X_train, y_train)\n",
    "y_pred = clf.predict(X_test[['Mean', 'Peak', 'Perc20', 'Perc80', 'QuartDev','Std', 'Strong_Peak']])\n",
    "\n",
    "predictions_with_majority = do_majority_vote(X_test, y_pred)\n",
    "\n",
    "accuracy = sum(1 for x,y in zip(y_test, predictions_with_majority) if x == y) / len(y_test)\n",
    "print('LDA score: ', accuracy)\n",
    "conf_matrix(y_test, predictions_with_majority)"
   ]
  },
  {
   "cell_type": "markdown",
   "metadata": {
    "colab_type": "text",
    "id": "YVfV1axqIfsB"
   },
   "source": [
    "###K-Neigbours Classifier"
   ]
  },
  {
   "cell_type": "code",
   "execution_count": 95,
   "metadata": {
    "colab": {
     "base_uri": "https://localhost:8080/"
    },
    "colab_type": "code",
    "id": "8msUYHfKIfsC",
    "outputId": "5137f200-7e20-4d5e-c8a6-1a28f9e34bcc"
   },
   "outputs": [
    {
     "name": "stdout",
     "output_type": "stream",
     "text": [
      "K-Neighbours score:  0.5606988783433995\n"
     ]
    },
    {
     "data": {
      "image/png": "[encoded data removed]",
      "text/plain": [
       "<matplotlib.figure.Figure at 0x11a992c88>"
      ]
     },
     "metadata": {},
     "output_type": "display_data"
    }
   ],
   "source": [
    "from sklearn.neighbors import KNeighborsClassifier\n",
    "\n",
    "neigh = KNeighborsClassifier(n_neighbors=6)\n",
    "neigh.fit(X_train, y_train)\n",
    "y_pred = neigh.predict(X_test[['Mean', 'Peak', 'Perc20', 'Perc80', 'QuartDev','Std', 'Strong_Peak']])\n",
    "predictions_with_majority = do_majority_vote(X_test, y_pred)\n",
    "\n",
    "accuracy = sum(1 for x,y in zip(y_test, predictions_with_majority) if x == y) / len(y_test)\n",
    "print('K-Neighbours score: ', accuracy)\n",
    "conf_matrix(y_test, predictions_with_majority)"
   ]
  },
  {
   "cell_type": "markdown",
   "metadata": {
    "colab_type": "text",
    "id": "lBA4IqcI_txR"
   },
   "source": [
    "###SVM"
   ]
  },
  {
   "cell_type": "code",
   "execution_count": 96,
   "metadata": {
    "colab": {
     "base_uri": "https://localhost:8080/"
    },
    "colab_type": "code",
    "id": "hpGj8GHA_urB",
    "outputId": "eb8fe79b-3387-4af1-d7ee-1010f9c1af2a"
   },
   "outputs": [
    {
     "name": "stdout",
     "output_type": "stream",
     "text": [
      "SVM score:  0.6515530629853322\n"
     ]
    },
    {
     "data": {
      "image/png": "[encoded data removed]",
      "text/plain": [
       "<matplotlib.figure.Figure at 0x11a532828>"
      ]
     },
     "metadata": {},
     "output_type": "display_data"
    }
   ],
   "source": [
    "from sklearn.svm import LinearSVC\n",
    "\n",
    "model = LinearSVC(dual=False)\n",
    "model.fit(X_train, y_train)\n",
    "y_pred = model.predict(X_test[['Mean', 'Peak', 'Perc20', 'Perc80', 'QuartDev','Std', 'Strong_Peak']])\n",
    "predictions_with_majority = do_majority_vote(X_test, y_pred)\n",
    "\n",
    "accuracy = sum(1 for x,y in zip(y_test, predictions_with_majority) if x == y) / len(y_test)\n",
    "print('SVM score: ', accuracy)\n",
    "conf_matrix(y_test, predictions_with_majority)"
   ]
  },
  {
   "cell_type": "markdown",
   "metadata": {
    "colab_type": "text",
    "id": "oeQSP6J7IfsF"
   },
   "source": [
    "##3 CLASSES: LOW - MEDIUM - HIGH STRESS"
   ]
  },
  {
   "cell_type": "code",
   "execution_count": 97,
   "metadata": {
    "colab": {},
    "colab_type": "code",
    "id": "ogAQEDFNIfsF"
   },
   "outputs": [],
   "source": [
    "'''\n",
    "LOAD LAB DATA AND SPLIT INTO TRAIN AND TEST\n",
    "'''\n",
    "X = daily_data[['Mean', 'Peak', 'Perc20', 'Perc80', 'QuartDev','Std', 'Strong_Peak', 'Session']]\n",
    "y = daily_data['ThreeClassWithKnown']\n",
    "X_train, X_test, y_train, y_test = train_test_split(X, y, test_size=0.2)\n",
    "\n",
    "# Since train_test_split returns list of lists convert them to Dataframes\n",
    "X_train = pd.DataFrame(X_train)\n",
    "X_train.columns = ['Mean', 'Peak', 'Perc20', 'Perc80', 'QuartDev','Std', 'Strong_Peak', 'Session']\n",
    "X_train = X_train.drop(columns=['Session'])\n",
    "\n",
    "X_test = pd.DataFrame(X_test)\n",
    "X_test.columns = ['Mean', 'Peak', 'Perc20', 'Perc80', 'QuartDev','Std', 'Strong_Peak', 'Session']\n",
    "\n",
    "'''\n",
    "Synthetic Minority Over-sampling Technique\n",
    "'''\n",
    "sm = SMOTE()\n",
    "X_train, y_train = sm.fit_resample(X_train, y_train)"
   ]
  },
  {
   "cell_type": "markdown",
   "metadata": {
    "colab_type": "text",
    "id": "eJ4GbEMwIfsH"
   },
   "source": [
    "### Logistic Regression"
   ]
  },
  {
   "cell_type": "code",
   "execution_count": 98,
   "metadata": {
    "colab": {
     "base_uri": "https://localhost:8080/",
     "height": 296
    },
    "colab_type": "code",
    "id": "MBT4PuRgIfsI",
    "outputId": "31ee9b92-d032-4bca-c7cd-5ec1632ea6f5"
   },
   "outputs": [
    {
     "name": "stdout",
     "output_type": "stream",
     "text": [
      "Logistic Regression score:  0.5643658326143227\n"
     ]
    },
    {
     "data": {
      "image/png": "[encoded data removed]",
      "text/plain": [
       "<matplotlib.figure.Figure at 0x119af4f98>"
      ]
     },
     "metadata": {},
     "output_type": "display_data"
    }
   ],
   "source": [
    "from sklearn.linear_model import LogisticRegressionCV\n",
    "\n",
    "clf = LogisticRegressionCV(cv=4, multi_class='multinomial', class_weight='balanced', max_iter=4000, penalty=\"l2\").fit(X_train, y_train)\n",
    "y_pred = clf.predict(X_test[['Mean', 'Peak', 'Perc20', 'Perc80', 'QuartDev','Std', 'Strong_Peak']])\n",
    "\n",
    "predictions_with_majority = do_majority_vote(X_test, y_pred)\n",
    "\n",
    "accuracy = sum(1 for x,y in zip(y_test, predictions_with_majority) if x == y) / len(y_test)\n",
    "print('Logistic Regression score: ', accuracy)\n",
    "conf_matrix(y_test, predictions_with_majority)"
   ]
  },
  {
   "cell_type": "markdown",
   "metadata": {
    "colab_type": "text",
    "id": "HwwX2Ig0IfsJ"
   },
   "source": [
    "### Naive Bayes"
   ]
  },
  {
   "cell_type": "code",
   "execution_count": 99,
   "metadata": {
    "colab": {
     "base_uri": "https://localhost:8080/",
     "height": 296
    },
    "colab_type": "code",
    "id": "olhUJt-qIfsK",
    "outputId": "511e5087-7333-4165-9044-a2269b7a0828"
   },
   "outputs": [
    {
     "name": "stdout",
     "output_type": "stream",
     "text": [
      "Naive Bayes score:  0.6090595340811044\n"
     ]
    },
    {
     "data": {
      "image/png": "[encoded data removed]",
      "text/plain": [
       "<matplotlib.figure.Figure at 0x11b7887f0>"
      ]
     },
     "metadata": {},
     "output_type": "display_data"
    }
   ],
   "source": [
    "from sklearn.naive_bayes import GaussianNB\n",
    "\n",
    "gnb = GaussianNB().fit(X_train, y_train)\n",
    "y_pred =  gnb.predict(X_test[['Mean', 'Peak', 'Perc20', 'Perc80', 'QuartDev','Std', 'Strong_Peak']])\n",
    "\n",
    "predictions_with_majority = do_majority_vote(X_test, y_pred)\n",
    "\n",
    "accuracy = sum(1 for x,y in zip(y_test, predictions_with_majority) if x == y) / len(y_test)\n",
    "print('Naive Bayes score: ', accuracy)\n",
    "conf_matrix(y_test, predictions_with_majority)"
   ]
  },
  {
   "cell_type": "markdown",
   "metadata": {
    "colab_type": "text",
    "id": "pDcf5ip2IfsL"
   },
   "source": [
    "###Decision Tree"
   ]
  },
  {
   "cell_type": "code",
   "execution_count": 100,
   "metadata": {
    "colab": {
     "base_uri": "https://localhost:8080/",
     "height": 296
    },
    "colab_type": "code",
    "id": "cuDhh9tBIfsM",
    "outputId": "6def3d7c-e01b-4b93-cdf1-4c2b9b1aa312"
   },
   "outputs": [
    {
     "name": "stdout",
     "output_type": "stream",
     "text": [
      "Decision Tree score:  0.6233390854184642\n"
     ]
    },
    {
     "data": {
      "image/png": "[encoded data removed]",
      "text/plain": [
       "<matplotlib.figure.Figure at 0x11a95b198>"
      ]
     },
     "metadata": {},
     "output_type": "display_data"
    }
   ],
   "source": [
    "from sklearn import tree\n",
    "\n",
    "clf = tree.DecisionTreeClassifier()\n",
    "clf.fit(X_train, y_train)\n",
    "y_pred =  clf.predict(X_test[['Mean', 'Peak', 'Perc20', 'Perc80', 'QuartDev','Std', 'Strong_Peak']])\n",
    "\n",
    "predictions_with_majority = do_majority_vote(X_test, y_pred)\n",
    "\n",
    "accuracy = sum(1 for x,y in zip(y_test, predictions_with_majority) if x == y) / len(y_test)\n",
    "print('Decision Tree score: ', accuracy)\n",
    "conf_matrix(y_test, predictions_with_majority)"
   ]
  },
  {
   "cell_type": "markdown",
   "metadata": {
    "colab_type": "text",
    "id": "U1KuqPvNIfsP"
   },
   "source": [
    "###Linear Discriminant Analysis (LDA)"
   ]
  },
  {
   "cell_type": "code",
   "execution_count": 101,
   "metadata": {
    "colab": {
     "base_uri": "https://localhost:8080/",
     "height": 296
    },
    "colab_type": "code",
    "id": "7EHp-7HNIfsP",
    "outputId": "7aa98d0d-5cb8-49a0-9587-b37054116b67"
   },
   "outputs": [
    {
     "name": "stdout",
     "output_type": "stream",
     "text": [
      "LDA score:  0.566695427092321\n"
     ]
    },
    {
     "data": {
      "image/png": "[encoded data removed]",
      "text/plain": [
       "<matplotlib.figure.Figure at 0x11b7909e8>"
      ]
     },
     "metadata": {},
     "output_type": "display_data"
    }
   ],
   "source": [
    "from sklearn.discriminant_analysis import LinearDiscriminantAnalysis\n",
    "\n",
    "clf = LinearDiscriminantAnalysis(solver='eigen', shrinkage='auto')\n",
    "clf.fit(X_train, y_train)\n",
    "y_pred = clf.predict(X_test[['Mean', 'Peak', 'Perc20', 'Perc80', 'QuartDev','Std', 'Strong_Peak']])\n",
    "\n",
    "predictions_with_majority = do_majority_vote(X_test, y_pred)\n",
    "\n",
    "accuracy = sum(1 for x,y in zip(y_test, predictions_with_majority) if x == y) / len(y_test)\n",
    "print('LDA score: ', accuracy)\n",
    "conf_matrix(y_test, predictions_with_majority)"
   ]
  },
  {
   "cell_type": "markdown",
   "metadata": {
    "colab_type": "text",
    "id": "z967dayIIfsR"
   },
   "source": [
    "###K-Neigbours Classifier"
   ]
  },
  {
   "cell_type": "code",
   "execution_count": 102,
   "metadata": {
    "colab": {
     "base_uri": "https://localhost:8080/",
     "height": 313
    },
    "colab_type": "code",
    "id": "j52oya2vIfsR",
    "outputId": "ed66467d-c342-48b0-ae11-93f1ee6a5619"
   },
   "outputs": [
    {
     "name": "stdout",
     "output_type": "stream",
     "text": [
      "K-Neighbours score:  0.5425366695427092\n"
     ]
    },
    {
     "data": {
      "image/png": "[encoded data removed]",
      "text/plain": [
       "<matplotlib.figure.Figure at 0x11a952278>"
      ]
     },
     "metadata": {},
     "output_type": "display_data"
    }
   ],
   "source": [
    "from sklearn.neighbors import KNeighborsClassifier\n",
    "\n",
    "neigh = KNeighborsClassifier(n_neighbors=6)\n",
    "neigh.fit(X_train, y_train)\n",
    "y_pred = neigh.predict(X_test[['Mean', 'Peak', 'Perc20', 'Perc80', 'QuartDev','Std', 'Strong_Peak']])\n",
    "\n",
    "predictions_with_majority = do_majority_vote(X_test, y_pred)\n",
    "\n",
    "accuracy = sum(1 for x,y in zip(y_test, predictions_with_majority) if x == y) / len(y_test)\n",
    "print('K-Neighbours score: ', accuracy)\n",
    "conf_matrix(y_test, predictions_with_majority)"
   ]
  },
  {
   "cell_type": "markdown",
   "metadata": {
    "colab_type": "text",
    "id": "MBpkwwhf_wpI"
   },
   "source": [
    "###SVM"
   ]
  },
  {
   "cell_type": "code",
   "execution_count": 103,
   "metadata": {
    "colab": {
     "base_uri": "https://localhost:8080/",
     "height": 313
    },
    "colab_type": "code",
    "id": "zw2fDedf_xsO",
    "outputId": "ba092106-6a57-42c9-ba0e-1f183a0a3c29"
   },
   "outputs": [
    {
     "name": "stdout",
     "output_type": "stream",
     "text": [
      "SVM score:  0.573123382226057\n"
     ]
    },
    {
     "data": {
      "image/png": "[encoded data removed]",
      "text/plain": [
       "<matplotlib.figure.Figure at 0x11a27b048>"
      ]
     },
     "metadata": {},
     "output_type": "display_data"
    }
   ],
   "source": [
    "from sklearn.svm import LinearSVC\n",
    "\n",
    "model = LinearSVC(dual=False)\n",
    "model.fit(X_train, y_train)\n",
    "y_pred = model.predict(X_test[['Mean', 'Peak', 'Perc20', 'Perc80', 'QuartDev','Std', 'Strong_Peak']])\n",
    "\n",
    "predictions_with_majority = do_majority_vote(X_test, y_pred)\n",
    "\n",
    "accuracy = sum(1 for x,y in zip(y_test, predictions_with_majority) if x == y) / len(y_test)\n",
    "print('SVM score: ', accuracy)\n",
    "conf_matrix(y_test, predictions_with_majority)"
   ]
  },
  {
   "cell_type": "markdown",
   "metadata": {
    "colab_type": "text",
    "id": "P3pnaWjc9DGy"
   },
   "source": [
    "#Leave One Person Out (LAB and DAILY Mixed)"
   ]
  },
  {
   "cell_type": "markdown",
   "metadata": {
    "colab_type": "text",
    "id": "m_7wEfILXWGg"
   },
   "source": [
    "\n",
    "\n",
    "---\n",
    "\n",
    "\n",
    "\n",
    "---\n",
    "\n",
    "\n",
    "#LOAD AVAREGED DATA\n",
    "\n",
    "---\n",
    "\n",
    "\n",
    "---\n",
    "\n"
   ]
  },
  {
   "cell_type": "code",
   "execution_count": 0,
   "metadata": {
    "colab": {
     "base_uri": "https://localhost:8080/"
    },
    "colab_type": "code",
    "id": "GTb8EK5QXbNd",
    "outputId": "1423699d-8426-4d2d-caca-f93712b13ad6"
   },
   "outputs": [
    {
     "data": {
      "text/html": [
       "<div>\n",
       "<style scoped>\n",
       "    .dataframe tbody tr th:only-of-type {\n",
       "        vertical-align: middle;\n",
       "    }\n",
       "\n",
       "    .dataframe tbody tr th {\n",
       "        vertical-align: top;\n",
       "    }\n",
       "\n",
       "    .dataframe thead th {\n",
       "        text-align: right;\n",
       "    }\n",
       "</style>\n",
       "<table border=\"1\" class=\"dataframe\">\n",
       "  <thead>\n",
       "    <tr style=\"text-align: right;\">\n",
       "      <th></th>\n",
       "      <th>SessionID</th>\n",
       "      <th>Mean</th>\n",
       "      <th>Peak</th>\n",
       "      <th>Perc20</th>\n",
       "      <th>Perc80</th>\n",
       "      <th>QuartDev</th>\n",
       "      <th>Std</th>\n",
       "      <th>Strong_Peak</th>\n",
       "      <th>dataQual</th>\n",
       "      <th>Max</th>\n",
       "      <th>Min</th>\n",
       "      <th>TwoClassLabel</th>\n",
       "      <th>ThreeClassLabel</th>\n",
       "      <th>IsLab</th>\n",
       "    </tr>\n",
       "  </thead>\n",
       "  <tbody>\n",
       "    <tr>\n",
       "      <th>9</th>\n",
       "      <td>11_10</td>\n",
       "      <td>3.031553</td>\n",
       "      <td>6.452499</td>\n",
       "      <td>1.992207</td>\n",
       "      <td>4.066126</td>\n",
       "      <td>1.680668</td>\n",
       "      <td>1.182239</td>\n",
       "      <td>0.564250</td>\n",
       "      <td>0.092943</td>\n",
       "      <td>5.319181</td>\n",
       "      <td>0.747569</td>\n",
       "      <td>1</td>\n",
       "      <td>1</td>\n",
       "      <td>N</td>\n",
       "    </tr>\n",
       "    <tr>\n",
       "      <th>10</th>\n",
       "      <td>11_11</td>\n",
       "      <td>3.791633</td>\n",
       "      <td>5.967466</td>\n",
       "      <td>2.912305</td>\n",
       "      <td>4.628918</td>\n",
       "      <td>1.368068</td>\n",
       "      <td>0.971453</td>\n",
       "      <td>0.921804</td>\n",
       "      <td>0.036316</td>\n",
       "      <td>5.984032</td>\n",
       "      <td>2.043227</td>\n",
       "      <td>1</td>\n",
       "      <td>1</td>\n",
       "      <td>N</td>\n",
       "    </tr>\n",
       "    <tr>\n",
       "      <th>11</th>\n",
       "      <td>11_12</td>\n",
       "      <td>0.390993</td>\n",
       "      <td>3.984205</td>\n",
       "      <td>-0.118267</td>\n",
       "      <td>0.896433</td>\n",
       "      <td>0.818810</td>\n",
       "      <td>0.568439</td>\n",
       "      <td>0.149782</td>\n",
       "      <td>0.166258</td>\n",
       "      <td>1.462000</td>\n",
       "      <td>-0.710638</td>\n",
       "      <td>1</td>\n",
       "      <td>2</td>\n",
       "      <td>N</td>\n",
       "    </tr>\n",
       "    <tr>\n",
       "      <th>12</th>\n",
       "      <td>11_13</td>\n",
       "      <td>0.560042</td>\n",
       "      <td>2.894093</td>\n",
       "      <td>0.269842</td>\n",
       "      <td>0.868535</td>\n",
       "      <td>0.480231</td>\n",
       "      <td>0.361421</td>\n",
       "      <td>0.284048</td>\n",
       "      <td>0.105530</td>\n",
       "      <td>1.093218</td>\n",
       "      <td>-0.241805</td>\n",
       "      <td>3</td>\n",
       "      <td>2</td>\n",
       "      <td>N</td>\n",
       "    </tr>\n",
       "    <tr>\n",
       "      <th>13</th>\n",
       "      <td>11_14</td>\n",
       "      <td>0.303364</td>\n",
       "      <td>2.932867</td>\n",
       "      <td>-0.250511</td>\n",
       "      <td>0.859584</td>\n",
       "      <td>0.911172</td>\n",
       "      <td>0.609929</td>\n",
       "      <td>0.150337</td>\n",
       "      <td>0.119946</td>\n",
       "      <td>1.219869</td>\n",
       "      <td>-0.947128</td>\n",
       "      <td>3</td>\n",
       "      <td>2</td>\n",
       "      <td>N</td>\n",
       "    </tr>\n",
       "    <tr>\n",
       "      <th>14</th>\n",
       "      <td>11_15</td>\n",
       "      <td>1.335406</td>\n",
       "      <td>2.994444</td>\n",
       "      <td>0.782374</td>\n",
       "      <td>1.889962</td>\n",
       "      <td>0.895539</td>\n",
       "      <td>0.629226</td>\n",
       "      <td>0.151852</td>\n",
       "      <td>0.073611</td>\n",
       "      <td>2.335075</td>\n",
       "      <td>0.106783</td>\n",
       "      <td>3</td>\n",
       "      <td>3</td>\n",
       "      <td>N</td>\n",
       "    </tr>\n",
       "    <tr>\n",
       "      <th>15</th>\n",
       "      <td>11_16</td>\n",
       "      <td>0.292748</td>\n",
       "      <td>3.876081</td>\n",
       "      <td>-0.524395</td>\n",
       "      <td>1.134062</td>\n",
       "      <td>1.361375</td>\n",
       "      <td>0.958684</td>\n",
       "      <td>0.100865</td>\n",
       "      <td>0.281820</td>\n",
       "      <td>1.610501</td>\n",
       "      <td>-1.758359</td>\n",
       "      <td>3</td>\n",
       "      <td>2</td>\n",
       "      <td>N</td>\n",
       "    </tr>\n",
       "    <tr>\n",
       "      <th>16</th>\n",
       "      <td>11_17</td>\n",
       "      <td>0.937325</td>\n",
       "      <td>5.108089</td>\n",
       "      <td>0.693823</td>\n",
       "      <td>1.226246</td>\n",
       "      <td>0.420473</td>\n",
       "      <td>0.358828</td>\n",
       "      <td>0.034868</td>\n",
       "      <td>0.067381</td>\n",
       "      <td>1.444576</td>\n",
       "      <td>0.085933</td>\n",
       "      <td>1</td>\n",
       "      <td>2</td>\n",
       "      <td>N</td>\n",
       "    </tr>\n",
       "    <tr>\n",
       "      <th>17</th>\n",
       "      <td>11_18</td>\n",
       "      <td>0.447700</td>\n",
       "      <td>3.161111</td>\n",
       "      <td>0.091025</td>\n",
       "      <td>0.813746</td>\n",
       "      <td>0.567809</td>\n",
       "      <td>0.439320</td>\n",
       "      <td>0.051111</td>\n",
       "      <td>0.088611</td>\n",
       "      <td>1.040521</td>\n",
       "      <td>-0.530017</td>\n",
       "      <td>1</td>\n",
       "      <td>1</td>\n",
       "      <td>N</td>\n",
       "    </tr>\n",
       "    <tr>\n",
       "      <th>18</th>\n",
       "      <td>11_19</td>\n",
       "      <td>0.373120</td>\n",
       "      <td>2.464503</td>\n",
       "      <td>0.201778</td>\n",
       "      <td>0.571864</td>\n",
       "      <td>0.294277</td>\n",
       "      <td>0.247331</td>\n",
       "      <td>0.033807</td>\n",
       "      <td>0.067613</td>\n",
       "      <td>0.691976</td>\n",
       "      <td>-0.216150</td>\n",
       "      <td>1</td>\n",
       "      <td>1</td>\n",
       "      <td>N</td>\n",
       "    </tr>\n",
       "    <tr>\n",
       "      <th>20</th>\n",
       "      <td>11_20</td>\n",
       "      <td>0.169822</td>\n",
       "      <td>2.047200</td>\n",
       "      <td>-0.026719</td>\n",
       "      <td>0.375310</td>\n",
       "      <td>0.324475</td>\n",
       "      <td>0.236606</td>\n",
       "      <td>0.013550</td>\n",
       "      <td>0.104280</td>\n",
       "      <td>0.511213</td>\n",
       "      <td>-0.350743</td>\n",
       "      <td>1</td>\n",
       "      <td>2</td>\n",
       "      <td>N</td>\n",
       "    </tr>\n",
       "    <tr>\n",
       "      <th>21</th>\n",
       "      <td>11_21</td>\n",
       "      <td>-0.036200</td>\n",
       "      <td>1.305608</td>\n",
       "      <td>-0.367619</td>\n",
       "      <td>0.309683</td>\n",
       "      <td>0.551218</td>\n",
       "      <td>0.379002</td>\n",
       "      <td>0.012531</td>\n",
       "      <td>0.159070</td>\n",
       "      <td>0.476415</td>\n",
       "      <td>-0.837329</td>\n",
       "      <td>3</td>\n",
       "      <td>2</td>\n",
       "      <td>N</td>\n",
       "    </tr>\n",
       "    <tr>\n",
       "      <th>22</th>\n",
       "      <td>11_22</td>\n",
       "      <td>0.348659</td>\n",
       "      <td>2.503413</td>\n",
       "      <td>-0.106530</td>\n",
       "      <td>0.809416</td>\n",
       "      <td>0.751694</td>\n",
       "      <td>0.525625</td>\n",
       "      <td>0.068250</td>\n",
       "      <td>0.089578</td>\n",
       "      <td>1.185020</td>\n",
       "      <td>-0.716579</td>\n",
       "      <td>3</td>\n",
       "      <td>2</td>\n",
       "      <td>N</td>\n",
       "    </tr>\n",
       "    <tr>\n",
       "      <th>23</th>\n",
       "      <td>11_23</td>\n",
       "      <td>0.135095</td>\n",
       "      <td>4.570652</td>\n",
       "      <td>-0.559376</td>\n",
       "      <td>0.839919</td>\n",
       "      <td>1.136419</td>\n",
       "      <td>0.796682</td>\n",
       "      <td>0.076087</td>\n",
       "      <td>0.116304</td>\n",
       "      <td>1.428627</td>\n",
       "      <td>-1.461631</td>\n",
       "      <td>3</td>\n",
       "      <td>2</td>\n",
       "      <td>N</td>\n",
       "    </tr>\n",
       "    <tr>\n",
       "      <th>24</th>\n",
       "      <td>11_24</td>\n",
       "      <td>0.220654</td>\n",
       "      <td>4.021739</td>\n",
       "      <td>-0.134759</td>\n",
       "      <td>0.597881</td>\n",
       "      <td>0.583629</td>\n",
       "      <td>0.444120</td>\n",
       "      <td>0.054897</td>\n",
       "      <td>0.084870</td>\n",
       "      <td>0.942322</td>\n",
       "      <td>-0.728902</td>\n",
       "      <td>1</td>\n",
       "      <td>1</td>\n",
       "      <td>N</td>\n",
       "    </tr>\n",
       "    <tr>\n",
       "      <th>25</th>\n",
       "      <td>11_25</td>\n",
       "      <td>0.554581</td>\n",
       "      <td>3.256228</td>\n",
       "      <td>0.372632</td>\n",
       "      <td>0.766512</td>\n",
       "      <td>0.318808</td>\n",
       "      <td>0.232915</td>\n",
       "      <td>0.005931</td>\n",
       "      <td>0.022390</td>\n",
       "      <td>0.891727</td>\n",
       "      <td>0.058532</td>\n",
       "      <td>1</td>\n",
       "      <td>2</td>\n",
       "      <td>N</td>\n",
       "    </tr>\n",
       "    <tr>\n",
       "      <th>26</th>\n",
       "      <td>11_26</td>\n",
       "      <td>0.550302</td>\n",
       "      <td>1.903365</td>\n",
       "      <td>0.386035</td>\n",
       "      <td>0.726698</td>\n",
       "      <td>0.261856</td>\n",
       "      <td>0.205217</td>\n",
       "      <td>0.031299</td>\n",
       "      <td>0.020149</td>\n",
       "      <td>0.885077</td>\n",
       "      <td>0.111904</td>\n",
       "      <td>1</td>\n",
       "      <td>1</td>\n",
       "      <td>N</td>\n",
       "    </tr>\n",
       "    <tr>\n",
       "      <th>27</th>\n",
       "      <td>11_27</td>\n",
       "      <td>-0.120249</td>\n",
       "      <td>2.600379</td>\n",
       "      <td>-0.626227</td>\n",
       "      <td>0.401395</td>\n",
       "      <td>0.842753</td>\n",
       "      <td>0.576766</td>\n",
       "      <td>0.011364</td>\n",
       "      <td>0.124621</td>\n",
       "      <td>0.707617</td>\n",
       "      <td>-1.336273</td>\n",
       "      <td>1</td>\n",
       "      <td>1</td>\n",
       "      <td>N</td>\n",
       "    </tr>\n",
       "    <tr>\n",
       "      <th>28</th>\n",
       "      <td>11_28</td>\n",
       "      <td>0.169313</td>\n",
       "      <td>3.509022</td>\n",
       "      <td>-0.179691</td>\n",
       "      <td>0.523190</td>\n",
       "      <td>0.550598</td>\n",
       "      <td>0.420858</td>\n",
       "      <td>0.061728</td>\n",
       "      <td>0.102564</td>\n",
       "      <td>0.851874</td>\n",
       "      <td>-0.728149</td>\n",
       "      <td>1</td>\n",
       "      <td>1</td>\n",
       "      <td>N</td>\n",
       "    </tr>\n",
       "    <tr>\n",
       "      <th>29</th>\n",
       "      <td>11_29</td>\n",
       "      <td>0.345157</td>\n",
       "      <td>2.083333</td>\n",
       "      <td>0.133032</td>\n",
       "      <td>0.561718</td>\n",
       "      <td>0.361510</td>\n",
       "      <td>0.261639</td>\n",
       "      <td>0.000000</td>\n",
       "      <td>0.070312</td>\n",
       "      <td>0.747793</td>\n",
       "      <td>-0.244807</td>\n",
       "      <td>1</td>\n",
       "      <td>2</td>\n",
       "      <td>N</td>\n",
       "    </tr>\n",
       "    <tr>\n",
       "      <th>31</th>\n",
       "      <td>11_30</td>\n",
       "      <td>0.416493</td>\n",
       "      <td>2.451691</td>\n",
       "      <td>0.162146</td>\n",
       "      <td>0.687007</td>\n",
       "      <td>0.414938</td>\n",
       "      <td>0.325512</td>\n",
       "      <td>0.038647</td>\n",
       "      <td>0.079952</td>\n",
       "      <td>0.876100</td>\n",
       "      <td>-0.330528</td>\n",
       "      <td>1</td>\n",
       "      <td>2</td>\n",
       "      <td>N</td>\n",
       "    </tr>\n",
       "    <tr>\n",
       "      <th>33</th>\n",
       "      <td>11_5</td>\n",
       "      <td>0.281114</td>\n",
       "      <td>2.124641</td>\n",
       "      <td>0.080055</td>\n",
       "      <td>0.512454</td>\n",
       "      <td>0.338339</td>\n",
       "      <td>0.278302</td>\n",
       "      <td>0.000000</td>\n",
       "      <td>0.094917</td>\n",
       "      <td>0.620342</td>\n",
       "      <td>-0.388228</td>\n",
       "      <td>1</td>\n",
       "      <td>2</td>\n",
       "      <td>N</td>\n",
       "    </tr>\n",
       "    <tr>\n",
       "      <th>34</th>\n",
       "      <td>11_6</td>\n",
       "      <td>-0.006943</td>\n",
       "      <td>1.642593</td>\n",
       "      <td>-0.394636</td>\n",
       "      <td>0.404370</td>\n",
       "      <td>0.639532</td>\n",
       "      <td>0.460962</td>\n",
       "      <td>0.009259</td>\n",
       "      <td>0.118148</td>\n",
       "      <td>0.618156</td>\n",
       "      <td>-0.992805</td>\n",
       "      <td>3</td>\n",
       "      <td>2</td>\n",
       "      <td>N</td>\n",
       "    </tr>\n",
       "    <tr>\n",
       "      <th>35</th>\n",
       "      <td>11_7</td>\n",
       "      <td>-0.149853</td>\n",
       "      <td>1.267730</td>\n",
       "      <td>-0.418236</td>\n",
       "      <td>0.118861</td>\n",
       "      <td>0.431802</td>\n",
       "      <td>0.319550</td>\n",
       "      <td>0.002216</td>\n",
       "      <td>0.086769</td>\n",
       "      <td>0.446860</td>\n",
       "      <td>-0.791601</td>\n",
       "      <td>1</td>\n",
       "      <td>2</td>\n",
       "      <td>N</td>\n",
       "    </tr>\n",
       "    <tr>\n",
       "      <th>36</th>\n",
       "      <td>11_8</td>\n",
       "      <td>0.616881</td>\n",
       "      <td>3.016781</td>\n",
       "      <td>0.375509</td>\n",
       "      <td>0.865039</td>\n",
       "      <td>0.397298</td>\n",
       "      <td>0.296369</td>\n",
       "      <td>0.129672</td>\n",
       "      <td>0.071415</td>\n",
       "      <td>1.119044</td>\n",
       "      <td>-0.001258</td>\n",
       "      <td>1</td>\n",
       "      <td>1</td>\n",
       "      <td>N</td>\n",
       "    </tr>\n",
       "    <tr>\n",
       "      <th>37</th>\n",
       "      <td>11_9</td>\n",
       "      <td>0.767129</td>\n",
       "      <td>4.019444</td>\n",
       "      <td>0.511616</td>\n",
       "      <td>1.043375</td>\n",
       "      <td>0.417142</td>\n",
       "      <td>0.334042</td>\n",
       "      <td>0.188889</td>\n",
       "      <td>0.068750</td>\n",
       "      <td>1.235104</td>\n",
       "      <td>-0.016973</td>\n",
       "      <td>1</td>\n",
       "      <td>1</td>\n",
       "      <td>N</td>\n",
       "    </tr>\n",
       "    <tr>\n",
       "      <th>39</th>\n",
       "      <td>12_10</td>\n",
       "      <td>0.323764</td>\n",
       "      <td>2.542029</td>\n",
       "      <td>-0.116951</td>\n",
       "      <td>0.755352</td>\n",
       "      <td>0.684334</td>\n",
       "      <td>0.490929</td>\n",
       "      <td>0.040580</td>\n",
       "      <td>0.081087</td>\n",
       "      <td>1.123825</td>\n",
       "      <td>-0.663511</td>\n",
       "      <td>3</td>\n",
       "      <td>2</td>\n",
       "      <td>N</td>\n",
       "    </tr>\n",
       "    <tr>\n",
       "      <th>40</th>\n",
       "      <td>12_11</td>\n",
       "      <td>0.166786</td>\n",
       "      <td>0.713213</td>\n",
       "      <td>0.092331</td>\n",
       "      <td>0.258630</td>\n",
       "      <td>0.125775</td>\n",
       "      <td>0.122339</td>\n",
       "      <td>0.000000</td>\n",
       "      <td>0.095721</td>\n",
       "      <td>0.288727</td>\n",
       "      <td>-0.167389</td>\n",
       "      <td>3</td>\n",
       "      <td>2</td>\n",
       "      <td>N</td>\n",
       "    </tr>\n",
       "    <tr>\n",
       "      <th>41</th>\n",
       "      <td>12_13</td>\n",
       "      <td>0.633178</td>\n",
       "      <td>4.767760</td>\n",
       "      <td>0.103986</td>\n",
       "      <td>1.172557</td>\n",
       "      <td>0.841791</td>\n",
       "      <td>0.646189</td>\n",
       "      <td>0.833333</td>\n",
       "      <td>0.164617</td>\n",
       "      <td>1.918417</td>\n",
       "      <td>-0.703151</td>\n",
       "      <td>3</td>\n",
       "      <td>2</td>\n",
       "      <td>N</td>\n",
       "    </tr>\n",
       "    <tr>\n",
       "      <th>42</th>\n",
       "      <td>12_14</td>\n",
       "      <td>0.566784</td>\n",
       "      <td>2.708333</td>\n",
       "      <td>0.394873</td>\n",
       "      <td>0.735537</td>\n",
       "      <td>0.270539</td>\n",
       "      <td>0.186841</td>\n",
       "      <td>0.000000</td>\n",
       "      <td>0.107639</td>\n",
       "      <td>0.957531</td>\n",
       "      <td>0.191120</td>\n",
       "      <td>3</td>\n",
       "      <td>3</td>\n",
       "      <td>N</td>\n",
       "    </tr>\n",
       "    <tr>\n",
       "      <th>...</th>\n",
       "      <td>...</td>\n",
       "      <td>...</td>\n",
       "      <td>...</td>\n",
       "      <td>...</td>\n",
       "      <td>...</td>\n",
       "      <td>...</td>\n",
       "      <td>...</td>\n",
       "      <td>...</td>\n",
       "      <td>...</td>\n",
       "      <td>...</td>\n",
       "      <td>...</td>\n",
       "      <td>...</td>\n",
       "      <td>...</td>\n",
       "      <td>...</td>\n",
       "    </tr>\n",
       "    <tr>\n",
       "      <th>133</th>\n",
       "      <td>7_13</td>\n",
       "      <td>6.118089</td>\n",
       "      <td>6.135266</td>\n",
       "      <td>5.260531</td>\n",
       "      <td>7.001049</td>\n",
       "      <td>1.403094</td>\n",
       "      <td>0.971494</td>\n",
       "      <td>0.464976</td>\n",
       "      <td>0.015097</td>\n",
       "      <td>7.892430</td>\n",
       "      <td>4.305162</td>\n",
       "      <td>1</td>\n",
       "      <td>2</td>\n",
       "      <td>N</td>\n",
       "    </tr>\n",
       "    <tr>\n",
       "      <th>134</th>\n",
       "      <td>7_14</td>\n",
       "      <td>2.313384</td>\n",
       "      <td>8.222222</td>\n",
       "      <td>1.254643</td>\n",
       "      <td>3.357529</td>\n",
       "      <td>1.694993</td>\n",
       "      <td>1.208673</td>\n",
       "      <td>0.291667</td>\n",
       "      <td>0.070139</td>\n",
       "      <td>4.364576</td>\n",
       "      <td>-0.141803</td>\n",
       "      <td>1</td>\n",
       "      <td>1</td>\n",
       "      <td>N</td>\n",
       "    </tr>\n",
       "    <tr>\n",
       "      <th>135</th>\n",
       "      <td>7_15</td>\n",
       "      <td>0.445121</td>\n",
       "      <td>3.436330</td>\n",
       "      <td>0.291520</td>\n",
       "      <td>0.620699</td>\n",
       "      <td>0.248007</td>\n",
       "      <td>0.226686</td>\n",
       "      <td>0.000000</td>\n",
       "      <td>0.029494</td>\n",
       "      <td>0.753014</td>\n",
       "      <td>-0.125235</td>\n",
       "      <td>1</td>\n",
       "      <td>1</td>\n",
       "      <td>N</td>\n",
       "    </tr>\n",
       "    <tr>\n",
       "      <th>136</th>\n",
       "      <td>7_16</td>\n",
       "      <td>5.180964</td>\n",
       "      <td>6.128587</td>\n",
       "      <td>4.170462</td>\n",
       "      <td>6.234641</td>\n",
       "      <td>1.646361</td>\n",
       "      <td>1.195415</td>\n",
       "      <td>1.043046</td>\n",
       "      <td>0.114238</td>\n",
       "      <td>7.586819</td>\n",
       "      <td>2.877331</td>\n",
       "      <td>1</td>\n",
       "      <td>1</td>\n",
       "      <td>N</td>\n",
       "    </tr>\n",
       "    <tr>\n",
       "      <th>137</th>\n",
       "      <td>7_17</td>\n",
       "      <td>2.820309</td>\n",
       "      <td>3.050926</td>\n",
       "      <td>2.003504</td>\n",
       "      <td>3.668135</td>\n",
       "      <td>1.367188</td>\n",
       "      <td>0.941503</td>\n",
       "      <td>0.236111</td>\n",
       "      <td>0.143981</td>\n",
       "      <td>4.417824</td>\n",
       "      <td>0.986639</td>\n",
       "      <td>1</td>\n",
       "      <td>1</td>\n",
       "      <td>N</td>\n",
       "    </tr>\n",
       "    <tr>\n",
       "      <th>138</th>\n",
       "      <td>7_18</td>\n",
       "      <td>2.707250</td>\n",
       "      <td>10.173221</td>\n",
       "      <td>2.034416</td>\n",
       "      <td>3.400816</td>\n",
       "      <td>1.092104</td>\n",
       "      <td>0.811944</td>\n",
       "      <td>0.177903</td>\n",
       "      <td>0.030431</td>\n",
       "      <td>4.038341</td>\n",
       "      <td>0.945393</td>\n",
       "      <td>1</td>\n",
       "      <td>1</td>\n",
       "      <td>N</td>\n",
       "    </tr>\n",
       "    <tr>\n",
       "      <th>139</th>\n",
       "      <td>7_19</td>\n",
       "      <td>0.053876</td>\n",
       "      <td>2.059387</td>\n",
       "      <td>-0.239676</td>\n",
       "      <td>0.366939</td>\n",
       "      <td>0.490765</td>\n",
       "      <td>0.377037</td>\n",
       "      <td>0.009579</td>\n",
       "      <td>0.144397</td>\n",
       "      <td>0.547415</td>\n",
       "      <td>-0.799777</td>\n",
       "      <td>1</td>\n",
       "      <td>2</td>\n",
       "      <td>N</td>\n",
       "    </tr>\n",
       "    <tr>\n",
       "      <th>141</th>\n",
       "      <td>7_20</td>\n",
       "      <td>-0.120054</td>\n",
       "      <td>1.835443</td>\n",
       "      <td>-0.517075</td>\n",
       "      <td>0.343979</td>\n",
       "      <td>0.699793</td>\n",
       "      <td>0.527206</td>\n",
       "      <td>0.042194</td>\n",
       "      <td>0.098629</td>\n",
       "      <td>0.595871</td>\n",
       "      <td>-1.285562</td>\n",
       "      <td>1</td>\n",
       "      <td>2</td>\n",
       "      <td>N</td>\n",
       "    </tr>\n",
       "    <tr>\n",
       "      <th>142</th>\n",
       "      <td>7_21</td>\n",
       "      <td>0.268110</td>\n",
       "      <td>2.939815</td>\n",
       "      <td>-0.214372</td>\n",
       "      <td>0.785003</td>\n",
       "      <td>0.790966</td>\n",
       "      <td>0.593306</td>\n",
       "      <td>0.087963</td>\n",
       "      <td>0.116551</td>\n",
       "      <td>1.142134</td>\n",
       "      <td>-1.003534</td>\n",
       "      <td>3</td>\n",
       "      <td>2</td>\n",
       "      <td>N</td>\n",
       "    </tr>\n",
       "    <tr>\n",
       "      <th>143</th>\n",
       "      <td>7_22</td>\n",
       "      <td>0.243595</td>\n",
       "      <td>0.743802</td>\n",
       "      <td>0.178231</td>\n",
       "      <td>0.335022</td>\n",
       "      <td>0.126092</td>\n",
       "      <td>0.108534</td>\n",
       "      <td>0.000000</td>\n",
       "      <td>0.024105</td>\n",
       "      <td>0.371993</td>\n",
       "      <td>-0.024096</td>\n",
       "      <td>1</td>\n",
       "      <td>2</td>\n",
       "      <td>N</td>\n",
       "    </tr>\n",
       "    <tr>\n",
       "      <th>144</th>\n",
       "      <td>7_27</td>\n",
       "      <td>-0.092348</td>\n",
       "      <td>1.032720</td>\n",
       "      <td>-0.325970</td>\n",
       "      <td>0.167046</td>\n",
       "      <td>0.402150</td>\n",
       "      <td>0.296102</td>\n",
       "      <td>0.000000</td>\n",
       "      <td>0.131135</td>\n",
       "      <td>0.358298</td>\n",
       "      <td>-0.721246</td>\n",
       "      <td>1</td>\n",
       "      <td>2</td>\n",
       "      <td>N</td>\n",
       "    </tr>\n",
       "    <tr>\n",
       "      <th>146</th>\n",
       "      <td>7_36</td>\n",
       "      <td>-0.158288</td>\n",
       "      <td>1.000000</td>\n",
       "      <td>-0.665836</td>\n",
       "      <td>0.337825</td>\n",
       "      <td>0.828707</td>\n",
       "      <td>0.571195</td>\n",
       "      <td>0.000000</td>\n",
       "      <td>0.291667</td>\n",
       "      <td>0.553692</td>\n",
       "      <td>-1.323284</td>\n",
       "      <td>3</td>\n",
       "      <td>2</td>\n",
       "      <td>N</td>\n",
       "    </tr>\n",
       "    <tr>\n",
       "      <th>148</th>\n",
       "      <td>7_43</td>\n",
       "      <td>0.151598</td>\n",
       "      <td>0.370370</td>\n",
       "      <td>0.121650</td>\n",
       "      <td>0.185668</td>\n",
       "      <td>0.049239</td>\n",
       "      <td>0.041914</td>\n",
       "      <td>0.000000</td>\n",
       "      <td>0.027778</td>\n",
       "      <td>0.208402</td>\n",
       "      <td>0.047402</td>\n",
       "      <td>1</td>\n",
       "      <td>2</td>\n",
       "      <td>N</td>\n",
       "    </tr>\n",
       "    <tr>\n",
       "      <th>149</th>\n",
       "      <td>7_44</td>\n",
       "      <td>0.785445</td>\n",
       "      <td>0.666667</td>\n",
       "      <td>0.681684</td>\n",
       "      <td>0.891651</td>\n",
       "      <td>0.172854</td>\n",
       "      <td>0.100316</td>\n",
       "      <td>0.000000</td>\n",
       "      <td>0.000000</td>\n",
       "      <td>0.981227</td>\n",
       "      <td>0.633238</td>\n",
       "      <td>1</td>\n",
       "      <td>2</td>\n",
       "      <td>N</td>\n",
       "    </tr>\n",
       "    <tr>\n",
       "      <th>150</th>\n",
       "      <td>7_5</td>\n",
       "      <td>6.499399</td>\n",
       "      <td>9.393519</td>\n",
       "      <td>5.121675</td>\n",
       "      <td>7.927891</td>\n",
       "      <td>2.287891</td>\n",
       "      <td>1.554959</td>\n",
       "      <td>0.768519</td>\n",
       "      <td>0.052315</td>\n",
       "      <td>9.167918</td>\n",
       "      <td>3.574687</td>\n",
       "      <td>3</td>\n",
       "      <td>3</td>\n",
       "      <td>N</td>\n",
       "    </tr>\n",
       "    <tr>\n",
       "      <th>151</th>\n",
       "      <td>7_6</td>\n",
       "      <td>1.710776</td>\n",
       "      <td>4.861111</td>\n",
       "      <td>0.979352</td>\n",
       "      <td>2.453149</td>\n",
       "      <td>1.191527</td>\n",
       "      <td>0.852863</td>\n",
       "      <td>0.166667</td>\n",
       "      <td>0.053472</td>\n",
       "      <td>3.239257</td>\n",
       "      <td>0.057117</td>\n",
       "      <td>1</td>\n",
       "      <td>1</td>\n",
       "      <td>N</td>\n",
       "    </tr>\n",
       "    <tr>\n",
       "      <th>152</th>\n",
       "      <td>7_7</td>\n",
       "      <td>1.497471</td>\n",
       "      <td>7.156309</td>\n",
       "      <td>0.929646</td>\n",
       "      <td>2.066758</td>\n",
       "      <td>0.902710</td>\n",
       "      <td>0.673500</td>\n",
       "      <td>0.094162</td>\n",
       "      <td>0.055320</td>\n",
       "      <td>2.500582</td>\n",
       "      <td>0.027738</td>\n",
       "      <td>1</td>\n",
       "      <td>2</td>\n",
       "      <td>N</td>\n",
       "    </tr>\n",
       "    <tr>\n",
       "      <th>153</th>\n",
       "      <td>7_8</td>\n",
       "      <td>0.401696</td>\n",
       "      <td>3.723629</td>\n",
       "      <td>0.080627</td>\n",
       "      <td>0.766958</td>\n",
       "      <td>0.551592</td>\n",
       "      <td>0.421796</td>\n",
       "      <td>0.010549</td>\n",
       "      <td>0.101793</td>\n",
       "      <td>0.994366</td>\n",
       "      <td>-0.551395</td>\n",
       "      <td>1</td>\n",
       "      <td>2</td>\n",
       "      <td>N</td>\n",
       "    </tr>\n",
       "    <tr>\n",
       "      <th>154</th>\n",
       "      <td>7_9</td>\n",
       "      <td>0.765334</td>\n",
       "      <td>7.086057</td>\n",
       "      <td>-0.361987</td>\n",
       "      <td>1.863725</td>\n",
       "      <td>1.800949</td>\n",
       "      <td>1.300220</td>\n",
       "      <td>0.283224</td>\n",
       "      <td>0.162037</td>\n",
       "      <td>3.271318</td>\n",
       "      <td>-1.831137</td>\n",
       "      <td>1</td>\n",
       "      <td>2</td>\n",
       "      <td>N</td>\n",
       "    </tr>\n",
       "    <tr>\n",
       "      <th>156</th>\n",
       "      <td>8_15</td>\n",
       "      <td>-0.035942</td>\n",
       "      <td>2.022554</td>\n",
       "      <td>-0.419252</td>\n",
       "      <td>0.360389</td>\n",
       "      <td>0.639178</td>\n",
       "      <td>0.435761</td>\n",
       "      <td>0.026362</td>\n",
       "      <td>0.147115</td>\n",
       "      <td>0.616064</td>\n",
       "      <td>-0.918979</td>\n",
       "      <td>1</td>\n",
       "      <td>2</td>\n",
       "      <td>N</td>\n",
       "    </tr>\n",
       "    <tr>\n",
       "      <th>157</th>\n",
       "      <td>8_16</td>\n",
       "      <td>0.140514</td>\n",
       "      <td>2.507516</td>\n",
       "      <td>-0.073250</td>\n",
       "      <td>0.370076</td>\n",
       "      <td>0.346762</td>\n",
       "      <td>0.276109</td>\n",
       "      <td>0.016911</td>\n",
       "      <td>0.056558</td>\n",
       "      <td>0.622357</td>\n",
       "      <td>-0.444198</td>\n",
       "      <td>1</td>\n",
       "      <td>2</td>\n",
       "      <td>N</td>\n",
       "    </tr>\n",
       "    <tr>\n",
       "      <th>158</th>\n",
       "      <td>8_17</td>\n",
       "      <td>0.779126</td>\n",
       "      <td>4.087935</td>\n",
       "      <td>0.613295</td>\n",
       "      <td>0.977808</td>\n",
       "      <td>0.292288</td>\n",
       "      <td>0.241736</td>\n",
       "      <td>0.014315</td>\n",
       "      <td>0.033384</td>\n",
       "      <td>1.108098</td>\n",
       "      <td>0.214640</td>\n",
       "      <td>1</td>\n",
       "      <td>2</td>\n",
       "      <td>N</td>\n",
       "    </tr>\n",
       "    <tr>\n",
       "      <th>159</th>\n",
       "      <td>8_18</td>\n",
       "      <td>0.588909</td>\n",
       "      <td>4.672185</td>\n",
       "      <td>0.045295</td>\n",
       "      <td>1.152797</td>\n",
       "      <td>0.889505</td>\n",
       "      <td>0.654008</td>\n",
       "      <td>0.070640</td>\n",
       "      <td>0.126876</td>\n",
       "      <td>1.660443</td>\n",
       "      <td>-0.775508</td>\n",
       "      <td>1</td>\n",
       "      <td>1</td>\n",
       "      <td>N</td>\n",
       "    </tr>\n",
       "    <tr>\n",
       "      <th>160</th>\n",
       "      <td>8_19</td>\n",
       "      <td>1.625391</td>\n",
       "      <td>8.235294</td>\n",
       "      <td>1.379450</td>\n",
       "      <td>1.863490</td>\n",
       "      <td>0.352083</td>\n",
       "      <td>0.331789</td>\n",
       "      <td>0.000000</td>\n",
       "      <td>0.085784</td>\n",
       "      <td>2.163751</td>\n",
       "      <td>0.814706</td>\n",
       "      <td>1</td>\n",
       "      <td>1</td>\n",
       "      <td>N</td>\n",
       "    </tr>\n",
       "    <tr>\n",
       "      <th>162</th>\n",
       "      <td>8_20</td>\n",
       "      <td>0.760230</td>\n",
       "      <td>6.916087</td>\n",
       "      <td>-0.083105</td>\n",
       "      <td>1.618073</td>\n",
       "      <td>1.375443</td>\n",
       "      <td>0.964584</td>\n",
       "      <td>0.101508</td>\n",
       "      <td>0.140371</td>\n",
       "      <td>2.279954</td>\n",
       "      <td>-1.225454</td>\n",
       "      <td>1</td>\n",
       "      <td>1</td>\n",
       "      <td>N</td>\n",
       "    </tr>\n",
       "    <tr>\n",
       "      <th>163</th>\n",
       "      <td>8_21</td>\n",
       "      <td>1.222173</td>\n",
       "      <td>5.008892</td>\n",
       "      <td>0.679370</td>\n",
       "      <td>1.757703</td>\n",
       "      <td>0.861036</td>\n",
       "      <td>0.659609</td>\n",
       "      <td>0.226118</td>\n",
       "      <td>0.107597</td>\n",
       "      <td>2.645482</td>\n",
       "      <td>-0.036751</td>\n",
       "      <td>1</td>\n",
       "      <td>2</td>\n",
       "      <td>N</td>\n",
       "    </tr>\n",
       "    <tr>\n",
       "      <th>164</th>\n",
       "      <td>8_22</td>\n",
       "      <td>0.259462</td>\n",
       "      <td>5.416667</td>\n",
       "      <td>-1.051823</td>\n",
       "      <td>1.244186</td>\n",
       "      <td>1.642192</td>\n",
       "      <td>1.262228</td>\n",
       "      <td>0.416667</td>\n",
       "      <td>0.156250</td>\n",
       "      <td>1.462158</td>\n",
       "      <td>-2.481209</td>\n",
       "      <td>1</td>\n",
       "      <td>1</td>\n",
       "      <td>N</td>\n",
       "    </tr>\n",
       "    <tr>\n",
       "      <th>165</th>\n",
       "      <td>8_26</td>\n",
       "      <td>0.296479</td>\n",
       "      <td>1.890602</td>\n",
       "      <td>0.028534</td>\n",
       "      <td>0.573803</td>\n",
       "      <td>0.428518</td>\n",
       "      <td>0.325781</td>\n",
       "      <td>0.012849</td>\n",
       "      <td>0.164556</td>\n",
       "      <td>0.750144</td>\n",
       "      <td>-0.425726</td>\n",
       "      <td>1</td>\n",
       "      <td>2</td>\n",
       "      <td>N</td>\n",
       "    </tr>\n",
       "    <tr>\n",
       "      <th>166</th>\n",
       "      <td>8_27</td>\n",
       "      <td>0.378485</td>\n",
       "      <td>1.223118</td>\n",
       "      <td>0.106209</td>\n",
       "      <td>0.657760</td>\n",
       "      <td>0.453054</td>\n",
       "      <td>0.319416</td>\n",
       "      <td>0.026882</td>\n",
       "      <td>0.075941</td>\n",
       "      <td>0.770655</td>\n",
       "      <td>-0.334914</td>\n",
       "      <td>1</td>\n",
       "      <td>2</td>\n",
       "      <td>N</td>\n",
       "    </tr>\n",
       "    <tr>\n",
       "      <th>169</th>\n",
       "      <td>8_5</td>\n",
       "      <td>0.381389</td>\n",
       "      <td>2.642276</td>\n",
       "      <td>0.225588</td>\n",
       "      <td>0.567248</td>\n",
       "      <td>0.263617</td>\n",
       "      <td>0.247989</td>\n",
       "      <td>0.162602</td>\n",
       "      <td>0.044970</td>\n",
       "      <td>0.701926</td>\n",
       "      <td>-0.250342</td>\n",
       "      <td>1</td>\n",
       "      <td>1</td>\n",
       "      <td>N</td>\n",
       "    </tr>\n",
       "  </tbody>\n",
       "</table>\n",
       "<p>126 rows × 14 columns</p>\n",
       "</div>"
      ],
      "text/plain": [
       "    SessionID      Mean       Peak  ...  TwoClassLabel  ThreeClassLabel  IsLab\n",
       "9       11_10  3.031553   6.452499  ...              1                1      N\n",
       "10      11_11  3.791633   5.967466  ...              1                1      N\n",
       "11      11_12  0.390993   3.984205  ...              1                2      N\n",
       "12      11_13  0.560042   2.894093  ...              3                2      N\n",
       "13      11_14  0.303364   2.932867  ...              3                2      N\n",
       "14      11_15  1.335406   2.994444  ...              3                3      N\n",
       "15      11_16  0.292748   3.876081  ...              3                2      N\n",
       "16      11_17  0.937325   5.108089  ...              1                2      N\n",
       "17      11_18  0.447700   3.161111  ...              1                1      N\n",
       "18      11_19  0.373120   2.464503  ...              1                1      N\n",
       "20      11_20  0.169822   2.047200  ...              1                2      N\n",
       "21      11_21 -0.036200   1.305608  ...              3                2      N\n",
       "22      11_22  0.348659   2.503413  ...              3                2      N\n",
       "23      11_23  0.135095   4.570652  ...              3                2      N\n",
       "24      11_24  0.220654   4.021739  ...              1                1      N\n",
       "25      11_25  0.554581   3.256228  ...              1                2      N\n",
       "26      11_26  0.550302   1.903365  ...              1                1      N\n",
       "27      11_27 -0.120249   2.600379  ...              1                1      N\n",
       "28      11_28  0.169313   3.509022  ...              1                1      N\n",
       "29      11_29  0.345157   2.083333  ...              1                2      N\n",
       "31      11_30  0.416493   2.451691  ...              1                2      N\n",
       "33       11_5  0.281114   2.124641  ...              1                2      N\n",
       "34       11_6 -0.006943   1.642593  ...              3                2      N\n",
       "35       11_7 -0.149853   1.267730  ...              1                2      N\n",
       "36       11_8  0.616881   3.016781  ...              1                1      N\n",
       "37       11_9  0.767129   4.019444  ...              1                1      N\n",
       "39      12_10  0.323764   2.542029  ...              3                2      N\n",
       "40      12_11  0.166786   0.713213  ...              3                2      N\n",
       "41      12_13  0.633178   4.767760  ...              3                2      N\n",
       "42      12_14  0.566784   2.708333  ...              3                3      N\n",
       "..        ...       ...        ...  ...            ...              ...    ...\n",
       "133      7_13  6.118089   6.135266  ...              1                2      N\n",
       "134      7_14  2.313384   8.222222  ...              1                1      N\n",
       "135      7_15  0.445121   3.436330  ...              1                1      N\n",
       "136      7_16  5.180964   6.128587  ...              1                1      N\n",
       "137      7_17  2.820309   3.050926  ...              1                1      N\n",
       "138      7_18  2.707250  10.173221  ...              1                1      N\n",
       "139      7_19  0.053876   2.059387  ...              1                2      N\n",
       "141      7_20 -0.120054   1.835443  ...              1                2      N\n",
       "142      7_21  0.268110   2.939815  ...              3                2      N\n",
       "143      7_22  0.243595   0.743802  ...              1                2      N\n",
       "144      7_27 -0.092348   1.032720  ...              1                2      N\n",
       "146      7_36 -0.158288   1.000000  ...              3                2      N\n",
       "148      7_43  0.151598   0.370370  ...              1                2      N\n",
       "149      7_44  0.785445   0.666667  ...              1                2      N\n",
       "150       7_5  6.499399   9.393519  ...              3                3      N\n",
       "151       7_6  1.710776   4.861111  ...              1                1      N\n",
       "152       7_7  1.497471   7.156309  ...              1                2      N\n",
       "153       7_8  0.401696   3.723629  ...              1                2      N\n",
       "154       7_9  0.765334   7.086057  ...              1                2      N\n",
       "156      8_15 -0.035942   2.022554  ...              1                2      N\n",
       "157      8_16  0.140514   2.507516  ...              1                2      N\n",
       "158      8_17  0.779126   4.087935  ...              1                2      N\n",
       "159      8_18  0.588909   4.672185  ...              1                1      N\n",
       "160      8_19  1.625391   8.235294  ...              1                1      N\n",
       "162      8_20  0.760230   6.916087  ...              1                1      N\n",
       "163      8_21  1.222173   5.008892  ...              1                2      N\n",
       "164      8_22  0.259462   5.416667  ...              1                1      N\n",
       "165      8_26  0.296479   1.890602  ...              1                2      N\n",
       "166      8_27  0.378485   1.223118  ...              1                2      N\n",
       "169       8_5  0.381389   2.642276  ...              1                1      N\n",
       "\n",
       "[126 rows x 14 columns]"
      ]
     },
     "execution_count": 49,
     "metadata": {
      "tags": []
     },
     "output_type": "execute_result"
    }
   ],
   "source": [
    "data = pd.read_csv('https://raw.githubusercontent.com/abcdrk/stress-detection/master/492_label_avg_known.csv')\n",
    "lab_data = data[is_lab(data.SessionID)]\n",
    "daily_data = data[is_daily(data.SessionID)]\n",
    "\n",
    "'''\n",
    "UNCOMMENT RELATED PLACE TO EXAMINE THE DATA\n",
    "'''\n",
    "# DISPLAY ALL\n",
    "# pd.set_option('display.max_rows', 1000)\n",
    "# data\n",
    "\n",
    "# SEE THE DATA COLUMS\n",
    "# print(data.columns)\n",
    "\n",
    "\n",
    "# DROP WHERE KNOWNLABEL == NaN\n",
    "# foo = data.dropna()\n",
    "# ERROR: SOME DEVICE CODES AND SESSION_ID'S DOESN'T MATCH\n",
    "# foo[foo.SessionID != foo.Device]\n",
    "daily_data"
   ]
  },
  {
   "cell_type": "markdown",
   "metadata": {
    "colab_type": "text",
    "id": "yt18MWXXIykL"
   },
   "source": [
    "#Train in LAB Test in DAILY"
   ]
  },
  {
   "cell_type": "markdown",
   "metadata": {
    "colab_type": "text",
    "id": "o2XHH5mEIykM"
   },
   "source": [
    "##2 CLASSES: LOW - HIGH STRESS"
   ]
  },
  {
   "cell_type": "code",
   "execution_count": 0,
   "metadata": {
    "colab": {
     "base_uri": "https://localhost:8080/"
    },
    "colab_type": "code",
    "id": "ogP3dZxDIykM",
    "outputId": "2cc6afaa-a4f2-4d4f-89e9-9ee3400b2574"
   },
   "outputs": [
    {
     "data": {
      "text/plain": [
       "'\\nTo see that classes are balanced back\\n'"
      ]
     },
     "execution_count": 50,
     "metadata": {
      "tags": []
     },
     "output_type": "execute_result"
    }
   ],
   "source": [
    "'''\n",
    "LOAD LAB DATA TO TRAIN & DAILY DATA TO TEST\n",
    "'''\n",
    "X_train = lab_data[['Mean', 'Peak', 'Perc20', 'Perc80', 'QuartDev','Std', 'Strong_Peak']]\n",
    "y_train = lab_data['TwoClassLabel']\n",
    "X_test = daily_data[['Mean', 'Peak', 'Perc20', 'Perc80', 'QuartDev','Std', 'Strong_Peak']]\n",
    "y_test = daily_data['TwoClassLabel']\n",
    "\n",
    "\n",
    "'''\n",
    "Synthetic Minority Over-sampling Technique\n",
    "'''\n",
    "sm = SMOTE()\n",
    "X_train, y_train = sm.fit_resample(X_train, y_train)\n",
    "\n",
    "\n",
    "'''\n",
    "To see that classes are balanced back\n",
    "'''\n",
    "# low = y_train[y_train == \"L\"]\n",
    "# print(\"LOW labeled: \", len(low))\n",
    "# high = y_train[y_train == \"H\"]\n",
    "# print(\"HIGH labeled: \", len(high))"
   ]
  },
  {
   "cell_type": "markdown",
   "metadata": {
    "colab_type": "text",
    "id": "u3pq9_wIIykO"
   },
   "source": [
    "### Logistic Regression\n",
    "\n",
    "\n",
    "\n",
    "\n"
   ]
  },
  {
   "cell_type": "code",
   "execution_count": 0,
   "metadata": {
    "colab": {
     "base_uri": "https://localhost:8080/"
    },
    "colab_type": "code",
    "id": "9r2lzH5CIykO",
    "outputId": "d9bba8f3-6488-4f8e-eae3-af3523802c7b"
   },
   "outputs": [
    {
     "name": "stdout",
     "output_type": "stream",
     "text": [
      "Logistic Regression score:  0.5873015873015873\n"
     ]
    },
    {
     "data": {
      "image/png": "[encoded data removed]",
      "text/plain": [
       "<Figure size 432x288 with 2 Axes>"
      ]
     },
     "metadata": {
      "tags": []
     },
     "output_type": "display_data"
    }
   ],
   "source": [
    "from sklearn.linear_model import LogisticRegressionCV\n",
    "\n",
    "clf = LogisticRegressionCV(cv=4, multi_class='multinomial', class_weight='balanced', max_iter=4000, penalty=\"l2\").fit(X_train, y_train)\n",
    "y_pred = clf.predict(X_test)\n",
    "\n",
    "print(\"Logistic Regression score: \",clf.score(X_test, y_test))\n",
    "conf_matrix(y_test, y_pred)"
   ]
  },
  {
   "cell_type": "markdown",
   "metadata": {
    "colab_type": "text",
    "id": "Y1lYKDXAIykQ"
   },
   "source": [
    "### Naive Bayes"
   ]
  },
  {
   "cell_type": "code",
   "execution_count": 0,
   "metadata": {
    "colab": {
     "base_uri": "https://localhost:8080/"
    },
    "colab_type": "code",
    "id": "-hD-Xy_IIykS",
    "outputId": "c64f8f42-ca24-4a4a-8338-ca2fbcdd31dd"
   },
   "outputs": [
    {
     "name": "stdout",
     "output_type": "stream",
     "text": [
      "Naive Bayes score:  0.29365079365079366\n"
     ]
    },
    {
     "data": {
      "image/png": "[encoded data removed]",
      "text/plain": [
       "<Figure size 432x288 with 2 Axes>"
      ]
     },
     "metadata": {
      "tags": []
     },
     "output_type": "display_data"
    }
   ],
   "source": [
    "from sklearn.naive_bayes import GaussianNB\n",
    "\n",
    "gnb = GaussianNB().fit(X_train, y_train)\n",
    "y_pred =  gnb.predict(X_test)\n",
    "gnb.score(X_test, y_test)\n",
    "\n",
    "print(\"Naive Bayes score: \", gnb.score(X_test, y_test))\n",
    "conf_matrix(y_test, y_pred)"
   ]
  },
  {
   "cell_type": "markdown",
   "metadata": {
    "colab_type": "text",
    "id": "yM5YPDjpIykT"
   },
   "source": [
    "###Decision Tree"
   ]
  },
  {
   "cell_type": "code",
   "execution_count": 0,
   "metadata": {
    "colab": {
     "base_uri": "https://localhost:8080/"
    },
    "colab_type": "code",
    "id": "h1ZFL4k7IykU",
    "outputId": "6fdc1bf3-0308-4cb7-e818-4154a5c6cd6b"
   },
   "outputs": [
    {
     "name": "stdout",
     "output_type": "stream",
     "text": [
      "Decision Tree score:  0.6666666666666666\n"
     ]
    },
    {
     "data": {
      "image/png": "[encoded data removed]",
      "text/plain": [
       "<Figure size 432x288 with 2 Axes>"
      ]
     },
     "metadata": {
      "tags": []
     },
     "output_type": "display_data"
    }
   ],
   "source": [
    "from sklearn import tree\n",
    "\n",
    "clf = tree.DecisionTreeClassifier()\n",
    "clf.fit(X_train, y_train)\n",
    "y_pred =  clf.predict(X_test)\n",
    "\n",
    "print(\"Decision Tree score: \", clf.score(X_test, y_test))\n",
    "conf_matrix(y_test, y_pred)"
   ]
  },
  {
   "cell_type": "markdown",
   "metadata": {
    "colab_type": "text",
    "id": "3kwWT4xpIykW"
   },
   "source": [
    "###Linear Discriminant Analysis (LDA)"
   ]
  },
  {
   "cell_type": "code",
   "execution_count": 0,
   "metadata": {
    "colab": {
     "base_uri": "https://localhost:8080/"
    },
    "colab_type": "code",
    "id": "anN5NnQ9IykW",
    "outputId": "d11742a4-be7f-44f3-a38c-42558d3b385c"
   },
   "outputs": [
    {
     "name": "stdout",
     "output_type": "stream",
     "text": [
      "Linear Discriminant Analysis (LDA) score:  0.5396825396825397\n"
     ]
    },
    {
     "data": {
      "image/png": "[encoded data removed]",
      "text/plain": [
       "<Figure size 432x288 with 2 Axes>"
      ]
     },
     "metadata": {
      "tags": []
     },
     "output_type": "display_data"
    }
   ],
   "source": [
    "\n",
    "from sklearn.discriminant_analysis import LinearDiscriminantAnalysis\n",
    "\n",
    "clf = LinearDiscriminantAnalysis(solver='eigen', shrinkage='auto')\n",
    "clf.fit(X_train, y_train)\n",
    "y_pred = clf.predict(X_test)\n",
    "\n",
    "print(\"Linear Discriminant Analysis (LDA) score: \", clf.score(X_test, y_test))\n",
    "conf_matrix(y_test, y_pred)"
   ]
  },
  {
   "cell_type": "markdown",
   "metadata": {
    "colab_type": "text",
    "id": "AdIob1AAIykZ"
   },
   "source": [
    "###K-Neigbours Classifier"
   ]
  },
  {
   "cell_type": "code",
   "execution_count": 0,
   "metadata": {
    "colab": {
     "base_uri": "https://localhost:8080/"
    },
    "colab_type": "code",
    "id": "OJoRRZy1IykZ",
    "outputId": "499c54db-d279-487a-97c4-5c3ee643ea74"
   },
   "outputs": [
    {
     "name": "stdout",
     "output_type": "stream",
     "text": [
      "[1 1 3 1 1 1 3 3 1 1 1 1 1 3 3 1 1 1 3 1 1 1 1 1 1 3 1 1 3 1 3 1 3 3 1 1 1\n",
      " 1 3 1 1 3 3 3 1 1 1 1 1 1 3 1 1 1 1 1 1 1 1 1 1 1 1 1 1 1 1 1 1 1 3 1 1 1\n",
      " 1 1 1 1 3 1 1 3 3 1 1 1 1 3 1 3 1 3 1 3 1 1 1 3 1 1 1 3 1 1 1 1 1 1 1 1 1\n",
      " 3 3 3 3 1 1 3 3 3 3 3 3 1 1 1]\n",
      "K-Neighbours score: 0.6190476190476191\n"
     ]
    },
    {
     "data": {
      "image/png": "[encoded data removed]",
      "text/plain": [
       "<Figure size 432x288 with 2 Axes>"
      ]
     },
     "metadata": {
      "tags": []
     },
     "output_type": "display_data"
    }
   ],
   "source": [
    "from sklearn.neighbors import KNeighborsClassifier\n",
    "\n",
    "neigh = KNeighborsClassifier(n_neighbors=6)\n",
    "neigh.fit(X_train, y_train)\n",
    "y_pred = neigh.predict(X_test)\n",
    "print(y_pred)\n",
    "print(\"K-Neighbours score:\", neigh.score(X_test, y_test))\n",
    "conf_matrix(y_test, y_pred)"
   ]
  },
  {
   "cell_type": "markdown",
   "metadata": {
    "colab_type": "text",
    "id": "oAuITozV_0Yk"
   },
   "source": [
    "###SVM"
   ]
  },
  {
   "cell_type": "code",
   "execution_count": 0,
   "metadata": {
    "colab": {
     "base_uri": "https://localhost:8080/"
    },
    "colab_type": "code",
    "id": "AHg1tHNp_1Sa",
    "outputId": "755f93f6-2ebe-4bed-87f2-5066c9d558f9"
   },
   "outputs": [
    {
     "name": "stdout",
     "output_type": "stream",
     "text": [
      "[1 1 1 1 1 1 1 1 1 1 1 1 1 1 1 1 1 1 1 1 1 1 1 1 1 1 1 1 1 3 1 1 1 1 1 1 1\n",
      " 1 1 1 1 1 1 3 1 3 1 1 1 1 1 1 1 1 1 1 1 1 3 1 1 1 1 1 1 1 1 1 1 3 3 3 1 1\n",
      " 1 1 1 1 3 1 1 1 3 1 1 1 3 1 1 1 1 3 1 1 1 1 1 1 1 1 1 1 1 1 1 1 1 1 1 1 1\n",
      " 1 1 1 1 1 1 3 1 3 1 1 1 1 1 1]\n",
      "SVM score: 0.6587301587301587\n"
     ]
    },
    {
     "data": {
      "image/png": "[encoded data removed]",
      "text/plain": [
       "<Figure size 432x288 with 2 Axes>"
      ]
     },
     "metadata": {
      "tags": []
     },
     "output_type": "display_data"
    }
   ],
   "source": [
    "from sklearn.svm import LinearSVC\n",
    "\n",
    "model = LinearSVC(dual=False)\n",
    "model.fit(X_train, y_train)\n",
    "y_pred = model.predict(X_test)\n",
    "print(y_pred)\n",
    "print(\"SVM score:\", model.score(X_test, y_test))\n",
    "conf_matrix(y_test, y_pred)"
   ]
  },
  {
   "cell_type": "markdown",
   "metadata": {
    "colab_type": "text",
    "id": "khh_DiD_Iykb"
   },
   "source": [
    "##3 CLASSES: LOW - MEDIUM - HIGH STRESS"
   ]
  },
  {
   "cell_type": "code",
   "execution_count": 0,
   "metadata": {
    "colab": {},
    "colab_type": "code",
    "id": "BRGdhA28Iykc"
   },
   "outputs": [],
   "source": [
    "'''\n",
    "LAB DATA TO TRAIN & DAILY DATA TO TEST\n",
    "'''\n",
    "X_train = lab_data[['Mean', 'Peak', 'Perc20', 'Perc80', 'QuartDev','Std', 'Strong_Peak']]\n",
    "y_train = lab_data['ThreeClassLabel']\n",
    "X_test = daily_data[['Mean', 'Peak', 'Perc20', 'Perc80', 'QuartDev','Std', 'Strong_Peak']]\n",
    "y_test = daily_data['ThreeClassLabel']\n",
    "\n",
    "'''\n",
    "Synthetic Minority Over-sampling Technique\n",
    "'''\n",
    "sm = SMOTE()\n",
    "X_train, y_train = sm.fit_resample(X_train, y_train)"
   ]
  },
  {
   "cell_type": "markdown",
   "metadata": {
    "colab_type": "text",
    "id": "g90Re2GFIykd"
   },
   "source": [
    "### Logistic Regression"
   ]
  },
  {
   "cell_type": "code",
   "execution_count": 0,
   "metadata": {
    "colab": {
     "base_uri": "https://localhost:8080/"
    },
    "colab_type": "code",
    "id": "HvY7dQpyIykd",
    "outputId": "3f8a00a7-055c-4fb9-ddc7-f2f957050a5e"
   },
   "outputs": [
    {
     "name": "stdout",
     "output_type": "stream",
     "text": [
      "Logistic Regression score:  0.5476190476190477\n"
     ]
    },
    {
     "data": {
      "image/png": "[encoded data removed]",
      "text/plain": [
       "<Figure size 432x288 with 2 Axes>"
      ]
     },
     "metadata": {
      "tags": []
     },
     "output_type": "display_data"
    }
   ],
   "source": [
    "from sklearn.linear_model import LogisticRegressionCV\n",
    "\n",
    "clf = LogisticRegressionCV(cv=4, multi_class='multinomial', class_weight='balanced', max_iter=4000, penalty=\"l2\").fit(X_train, y_train)\n",
    "y_pred = clf.predict(X_test)\n",
    "\n",
    "print(\"Logistic Regression score: \",clf.score(X_test, y_test))\n",
    "conf_matrix(y_test, y_pred)"
   ]
  },
  {
   "cell_type": "markdown",
   "metadata": {
    "colab_type": "text",
    "id": "RSK4byLJIykg"
   },
   "source": [
    "### Naive Bayes"
   ]
  },
  {
   "cell_type": "code",
   "execution_count": 0,
   "metadata": {
    "colab": {
     "base_uri": "https://localhost:8080/"
    },
    "colab_type": "code",
    "id": "lteQDYpnIykg",
    "outputId": "252da82d-3d31-4189-845b-d4a86937007b"
   },
   "outputs": [
    {
     "name": "stdout",
     "output_type": "stream",
     "text": [
      "Naive Bayes score:  0.30952380952380953\n"
     ]
    },
    {
     "data": {
      "image/png": "[encoded data removed]",
      "text/plain": [
       "<Figure size 432x288 with 2 Axes>"
      ]
     },
     "metadata": {
      "tags": []
     },
     "output_type": "display_data"
    }
   ],
   "source": [
    "from sklearn.naive_bayes import GaussianNB\n",
    "\n",
    "gnb = GaussianNB().fit(X_train, y_train)\n",
    "y_pred =  gnb.predict(X_test)\n",
    "gnb.score(X_test, y_test)\n",
    "\n",
    "print(\"Naive Bayes score: \", gnb.score(X_test, y_test))\n",
    "conf_matrix(y_test, y_pred)"
   ]
  },
  {
   "cell_type": "markdown",
   "metadata": {
    "colab_type": "text",
    "id": "vNs_rEz-Iyki"
   },
   "source": [
    "###Decision Tree"
   ]
  },
  {
   "cell_type": "code",
   "execution_count": 0,
   "metadata": {
    "colab": {
     "base_uri": "https://localhost:8080/"
    },
    "colab_type": "code",
    "id": "yQ42X2MiIyki",
    "outputId": "105a4383-0aca-4f00-abf3-594c2cfb77d9"
   },
   "outputs": [
    {
     "name": "stdout",
     "output_type": "stream",
     "text": [
      "Decision Tree score:  0.36507936507936506\n"
     ]
    },
    {
     "data": {
      "image/png": "[encoded data removed]",
      "text/plain": [
       "<Figure size 432x288 with 2 Axes>"
      ]
     },
     "metadata": {
      "tags": []
     },
     "output_type": "display_data"
    }
   ],
   "source": [
    "from sklearn import tree\n",
    "\n",
    "clf = tree.DecisionTreeClassifier()\n",
    "clf.fit(X_train, y_train)\n",
    "y_pred =  clf.predict(X_test)\n",
    "\n",
    "print(\"Decision Tree score: \", clf.score(X_test, y_test))\n",
    "conf_matrix(y_test, y_pred)"
   ]
  },
  {
   "cell_type": "markdown",
   "metadata": {
    "colab_type": "text",
    "id": "jd6xxTGKIykk"
   },
   "source": [
    "###Linear Discriminant Analysis (LDA)"
   ]
  },
  {
   "cell_type": "code",
   "execution_count": 0,
   "metadata": {
    "colab": {
     "base_uri": "https://localhost:8080/"
    },
    "colab_type": "code",
    "id": "oDzkzum3Iykk",
    "outputId": "56d535e3-fe71-472f-d752-eb4c2e738240"
   },
   "outputs": [
    {
     "name": "stdout",
     "output_type": "stream",
     "text": [
      "Linear Discriminant Analysis (LDA) score:  0.3333333333333333\n"
     ]
    },
    {
     "data": {
      "image/png": "[encoded data removed]",
      "text/plain": [
       "<Figure size 432x288 with 2 Axes>"
      ]
     },
     "metadata": {
      "tags": []
     },
     "output_type": "display_data"
    }
   ],
   "source": [
    "from sklearn.discriminant_analysis import LinearDiscriminantAnalysis\n",
    "\n",
    "clf = LinearDiscriminantAnalysis(solver='eigen', shrinkage='auto')\n",
    "clf.fit(X_train, y_train)\n",
    "y_pred = clf.predict(X_test)\n",
    "\n",
    "print(\"Linear Discriminant Analysis (LDA) score: \", clf.score(X_test, y_test))\n",
    "conf_matrix(y_test, y_pred)"
   ]
  },
  {
   "cell_type": "markdown",
   "metadata": {
    "colab_type": "text",
    "id": "rDr1NHOFIykn"
   },
   "source": [
    "###K-Neigbours Classifier"
   ]
  },
  {
   "cell_type": "code",
   "execution_count": 0,
   "metadata": {
    "colab": {
     "base_uri": "https://localhost:8080/"
    },
    "colab_type": "code",
    "id": "ObJfRnBXIykn",
    "outputId": "dffc2cb4-2038-4b6b-d97f-2e1a27abc8ec"
   },
   "outputs": [
    {
     "name": "stdout",
     "output_type": "stream",
     "text": [
      "[1 1 3 2 3 2 3 3 2 1 1 1 2 3 3 2 1 1 2 1 1 1 1 1 2 2 2 3 3 2 3 2 3 3 1 3 1\n",
      " 1 2 1 2 3 2 3 3 1 1 1 1 1 3 1 3 1 1 1 1 3 3 3 3 3 1 1 1 1 2 3 1 3 2 2 1 3\n",
      " 3 1 1 3 2 3 2 2 1 1 3 1 2 3 2 3 1 1 3 3 1 3 1 3 2 1 2 3 1 1 3 3 3 3 1 2 1\n",
      " 1 1 2 1 1 1 2 3 3 1 3 3 3 3 1]\n",
      "K-Neighbours score: 0.2777777777777778\n"
     ]
    },
    {
     "data": {
      "image/png": "[encoded data removed]",
      "text/plain": [
       "<Figure size 432x288 with 2 Axes>"
      ]
     },
     "metadata": {
      "tags": []
     },
     "output_type": "display_data"
    }
   ],
   "source": [
    "from sklearn.neighbors import KNeighborsClassifier\n",
    "\n",
    "neigh = KNeighborsClassifier(n_neighbors=6)\n",
    "neigh.fit(X_train, y_train)\n",
    "y_pred = neigh.predict(X_test)\n",
    "print(y_pred)\n",
    "print(\"K-Neighbours score:\", neigh.score(X_test, y_test))\n",
    "conf_matrix(y_test, y_pred)"
   ]
  },
  {
   "cell_type": "markdown",
   "metadata": {
    "colab_type": "text",
    "id": "pGhWfaxg_3ay"
   },
   "source": [
    "###SVM"
   ]
  },
  {
   "cell_type": "code",
   "execution_count": 0,
   "metadata": {
    "colab": {
     "base_uri": "https://localhost:8080/"
    },
    "colab_type": "code",
    "id": "RzB-avyV_4JT",
    "outputId": "31014771-a1e6-44d0-828c-e37b9b156a5b"
   },
   "outputs": [
    {
     "name": "stdout",
     "output_type": "stream",
     "text": [
      "[2 2 2 1 2 2 2 1 2 1 2 2 2 2 2 3 2 2 2 2 2 2 2 2 1 1 2 1 1 3 2 2 2 2 2 1 1\n",
      " 2 2 2 1 2 1 1 2 1 2 2 2 2 1 2 2 2 1 1 2 1 1 1 1 1 2 1 2 1 1 1 1 3 3 3 1 1\n",
      " 1 2 2 2 3 1 2 2 3 2 1 2 3 1 2 2 1 3 1 2 2 1 2 2 1 2 2 3 2 2 2 1 2 2 1 2 2\n",
      " 2 2 2 2 2 2 1 2 3 2 2 2 2 2 1]\n",
      "SVM score: 0.49206349206349204\n"
     ]
    },
    {
     "data": {
      "image/png": "[encoded data removed]",
      "text/plain": [
       "<Figure size 432x288 with 2 Axes>"
      ]
     },
     "metadata": {
      "tags": []
     },
     "output_type": "display_data"
    }
   ],
   "source": [
    "from sklearn.svm import LinearSVC\n",
    "\n",
    "model = LinearSVC(dual=False)\n",
    "model.fit(X_train, y_train)\n",
    "y_pred = model.predict(X_test)\n",
    "print(y_pred)\n",
    "print(\"SVM score:\", model.score(X_test, y_test))\n",
    "conf_matrix(y_test, y_pred)"
   ]
  },
  {
   "cell_type": "markdown",
   "metadata": {
    "colab_type": "text",
    "id": "n8_B4QNIIykp"
   },
   "source": [
    "#Train and Test in LAB"
   ]
  },
  {
   "cell_type": "markdown",
   "metadata": {
    "colab_type": "text",
    "id": "Dc5onYI5Iykq"
   },
   "source": [
    "##2 CLASSES: LOW - HIGH STRESS"
   ]
  },
  {
   "cell_type": "code",
   "execution_count": 0,
   "metadata": {
    "colab": {
     "base_uri": "https://localhost:8080/"
    },
    "colab_type": "code",
    "id": "HfxXQvkuIykq",
    "outputId": "bd428bd3-5029-40a7-c9c1-d67990a44976"
   },
   "outputs": [
    {
     "data": {
      "text/plain": [
       "'\\nTo see that classes are balanced back\\n'"
      ]
     },
     "execution_count": 64,
     "metadata": {
      "tags": []
     },
     "output_type": "execute_result"
    }
   ],
   "source": [
    "'''\n",
    "LOAD LAB DATA AND SPLIT INTO TRAIN AND TEST\n",
    "'''\n",
    "X = lab_data[['Mean', 'Peak', 'Perc20', 'Perc80', 'QuartDev','Std', 'Strong_Peak', 'dataQual']]\n",
    "y = lab_data['TwoClassLabel']\n",
    "X_train, X_test, y_train, y_test = train_test_split(X, y, test_size=0.2)\n",
    "\n",
    "\n",
    "'''\n",
    "Synthetic Minority Over-sampling Technique\n",
    "'''\n",
    "sm = SMOTE()\n",
    "X_train, y_train = sm.fit_resample(X_train, y_train)\n",
    "\n",
    "\n",
    "'''\n",
    "To see that classes are balanced back\n",
    "'''\n",
    "# low = y_train[y_train == \"L\"]\n",
    "# print(\"LOW labeled: \", len(low))\n",
    "# high = y_train[y_train == \"H\"]\n",
    "# print(\"HIGH labeled: \", len(high))"
   ]
  },
  {
   "cell_type": "markdown",
   "metadata": {
    "colab_type": "text",
    "id": "NY7sUVDwIykt"
   },
   "source": [
    "### Logistic Regression\n",
    "\n",
    "\n",
    "\n",
    "\n"
   ]
  },
  {
   "cell_type": "code",
   "execution_count": 0,
   "metadata": {
    "colab": {
     "base_uri": "https://localhost:8080/"
    },
    "colab_type": "code",
    "id": "Lo6mG-LeIykt",
    "outputId": "a615ec4b-ae5d-4362-99c8-a84f6da761ef"
   },
   "outputs": [
    {
     "name": "stdout",
     "output_type": "stream",
     "text": [
      "Logistic Regression score:  0.5\n"
     ]
    },
    {
     "data": {
      "image/png": "[encoded data removed]",
      "text/plain": [
       "<Figure size 432x288 with 2 Axes>"
      ]
     },
     "metadata": {
      "tags": []
     },
     "output_type": "display_data"
    }
   ],
   "source": [
    "from sklearn.linear_model import LogisticRegressionCV\n",
    "\n",
    "clf = LogisticRegressionCV(cv=4, multi_class='multinomial', class_weight='balanced', max_iter=4000, penalty=\"l2\").fit(X_train, y_train)\n",
    "y_pred = clf.predict(X_test)\n",
    "\n",
    "print(\"Logistic Regression score: \",clf.score(X_test, y_test))\n",
    "conf_matrix(y_test, y_pred)"
   ]
  },
  {
   "cell_type": "markdown",
   "metadata": {
    "colab_type": "text",
    "id": "QksoQmXfIykv"
   },
   "source": [
    "### Naive Bayes"
   ]
  },
  {
   "cell_type": "code",
   "execution_count": 0,
   "metadata": {
    "colab": {
     "base_uri": "https://localhost:8080/"
    },
    "colab_type": "code",
    "id": "tO8z_tZVIykv",
    "outputId": "d2ef9d7e-5f8b-44e2-f0e4-914a37b2b57d"
   },
   "outputs": [
    {
     "name": "stdout",
     "output_type": "stream",
     "text": [
      "Naive Bayes score:  0.6\n"
     ]
    },
    {
     "data": {
      "image/png": "[encoded data removed]",
      "text/plain": [
       "<Figure size 432x288 with 2 Axes>"
      ]
     },
     "metadata": {
      "tags": []
     },
     "output_type": "display_data"
    }
   ],
   "source": [
    "from sklearn.naive_bayes import GaussianNB\n",
    "\n",
    "gnb = GaussianNB().fit(X_train, y_train)\n",
    "y_pred =  gnb.predict(X_test)\n",
    "gnb.score(X_test, y_test)\n",
    "\n",
    "print(\"Naive Bayes score: \", gnb.score(X_test, y_test))\n",
    "conf_matrix(y_test, y_pred)"
   ]
  },
  {
   "cell_type": "markdown",
   "metadata": {
    "colab_type": "text",
    "id": "Rr_9CvasIykx"
   },
   "source": [
    "###Decision Tree"
   ]
  },
  {
   "cell_type": "code",
   "execution_count": 0,
   "metadata": {
    "colab": {
     "base_uri": "https://localhost:8080/"
    },
    "colab_type": "code",
    "id": "gW70laMAIyky",
    "outputId": "e877f251-7860-4440-9626-88838d1d06d5"
   },
   "outputs": [
    {
     "name": "stdout",
     "output_type": "stream",
     "text": [
      "Decision Tree score:  0.6\n"
     ]
    },
    {
     "data": {
      "image/png": "[encoded data removed]",
      "text/plain": [
       "<Figure size 432x288 with 2 Axes>"
      ]
     },
     "metadata": {
      "tags": []
     },
     "output_type": "display_data"
    }
   ],
   "source": [
    "from sklearn import tree\n",
    "\n",
    "clf = tree.DecisionTreeClassifier()\n",
    "clf.fit(X_train, y_train)\n",
    "y_pred =  clf.predict(X_test)\n",
    "\n",
    "print(\"Decision Tree score: \", clf.score(X_test, y_test))\n",
    "conf_matrix(y_test, y_pred)"
   ]
  },
  {
   "cell_type": "markdown",
   "metadata": {
    "colab_type": "text",
    "id": "2wHIkg6fIykz"
   },
   "source": [
    "###Linear Discriminant Analysis (LDA)"
   ]
  },
  {
   "cell_type": "code",
   "execution_count": 0,
   "metadata": {
    "colab": {
     "base_uri": "https://localhost:8080/"
    },
    "colab_type": "code",
    "id": "zmqOmnsLIyk0",
    "outputId": "82e385e8-5a72-458a-b9ac-7afe72b8cd71"
   },
   "outputs": [
    {
     "name": "stdout",
     "output_type": "stream",
     "text": [
      "Linear Discriminant Analysis (LDA) score:  0.5\n"
     ]
    },
    {
     "data": {
      "image/png": "[encoded data removed]",
      "text/plain": [
       "<Figure size 432x288 with 2 Axes>"
      ]
     },
     "metadata": {
      "tags": []
     },
     "output_type": "display_data"
    }
   ],
   "source": [
    "\n",
    "from sklearn.discriminant_analysis import LinearDiscriminantAnalysis\n",
    "\n",
    "clf = LinearDiscriminantAnalysis(solver='eigen', shrinkage='auto')\n",
    "clf.fit(X_train, y_train)\n",
    "y_pred = clf.predict(X_test)\n",
    "\n",
    "print(\"Linear Discriminant Analysis (LDA) score: \", clf.score(X_test, y_test))\n",
    "conf_matrix(y_test, y_pred)"
   ]
  },
  {
   "cell_type": "markdown",
   "metadata": {
    "colab_type": "text",
    "id": "y0MxwldaIyk1"
   },
   "source": [
    "###K-Neigbours Classifier"
   ]
  },
  {
   "cell_type": "code",
   "execution_count": 0,
   "metadata": {
    "colab": {
     "base_uri": "https://localhost:8080/"
    },
    "colab_type": "code",
    "id": "ZTbGvk_TIyk2",
    "outputId": "0339c206-0faa-4991-b9fe-f3457b229e18"
   },
   "outputs": [
    {
     "name": "stdout",
     "output_type": "stream",
     "text": [
      "[1 3 1 3 3 1 1 1 1 3]\n",
      "K-Neighbours score: 0.4\n"
     ]
    },
    {
     "data": {
      "image/png": "[encoded data removed]",
      "text/plain": [
       "<Figure size 432x288 with 2 Axes>"
      ]
     },
     "metadata": {
      "tags": []
     },
     "output_type": "display_data"
    }
   ],
   "source": [
    "from sklearn.neighbors import KNeighborsClassifier\n",
    "\n",
    "neigh = KNeighborsClassifier(n_neighbors=6)\n",
    "neigh.fit(X_train, y_train)\n",
    "y_pred = neigh.predict(X_test)\n",
    "print(y_pred)\n",
    "print(\"K-Neighbours score:\", neigh.score(X_test, y_test))\n",
    "conf_matrix(y_test, y_pred)"
   ]
  },
  {
   "cell_type": "markdown",
   "metadata": {
    "colab_type": "text",
    "id": "bPYRo58B_7Ir"
   },
   "source": [
    "###SVM"
   ]
  },
  {
   "cell_type": "code",
   "execution_count": 0,
   "metadata": {
    "colab": {
     "base_uri": "https://localhost:8080/"
    },
    "colab_type": "code",
    "id": "o2TkBbGkMkJs",
    "outputId": "028cf6fb-611c-4054-c147-0152ac268f50"
   },
   "outputs": [
    {
     "name": "stdout",
     "output_type": "stream",
     "text": [
      "[3 1 1 3 3 1 3 1 1 3]\n",
      "SVM score: 0.5\n"
     ]
    },
    {
     "data": {
      "image/png": "[encoded data removed]",
      "text/plain": [
       "<Figure size 432x288 with 2 Axes>"
      ]
     },
     "metadata": {
      "tags": []
     },
     "output_type": "display_data"
    }
   ],
   "source": [
    "from sklearn.svm import LinearSVC\n",
    "\n",
    "model = LinearSVC(dual=False)\n",
    "model.fit(X_train, y_train)\n",
    "y_pred = model.predict(X_test)\n",
    "print(y_pred)\n",
    "print(\"SVM score:\", model.score(X_test, y_test))\n",
    "conf_matrix(y_test, y_pred)"
   ]
  },
  {
   "cell_type": "markdown",
   "metadata": {
    "colab_type": "text",
    "id": "rMJtr4r8Iyk6"
   },
   "source": [
    "##3 CLASSES: LOW - MEDIUM - HIGH STRESS"
   ]
  },
  {
   "cell_type": "code",
   "execution_count": 0,
   "metadata": {
    "colab": {},
    "colab_type": "code",
    "id": "oNUB9hQ9Iyk7"
   },
   "outputs": [],
   "source": [
    "'''\n",
    "LOAD LAB DATA AND SPLIT INTO TRAIN AND TEST\n",
    "'''\n",
    "X = lab_data[['Mean', 'Peak', 'Perc20', 'Perc80', 'QuartDev','Std', 'Strong_Peak', 'dataQual']]\n",
    "y = lab_data['ThreeClassLabel']\n",
    "X_train, X_test, y_train, y_test = train_test_split(X, y, test_size=0.2)\n",
    "\n",
    "'''\n",
    "Synthetic Minority Over-sampling Technique\n",
    "'''\n",
    "sm = SMOTE()\n",
    "X_train, y_train = sm.fit_resample(X_train, y_train)"
   ]
  },
  {
   "cell_type": "markdown",
   "metadata": {
    "colab_type": "text",
    "id": "U_VFFPuyIyk8"
   },
   "source": [
    "### Logistic Regression"
   ]
  },
  {
   "cell_type": "code",
   "execution_count": 0,
   "metadata": {
    "colab": {
     "base_uri": "https://localhost:8080/"
    },
    "colab_type": "code",
    "id": "WN8xv8KEIyk8",
    "outputId": "c5b8984a-91ae-44cc-964b-1b11be98d09e"
   },
   "outputs": [
    {
     "name": "stdout",
     "output_type": "stream",
     "text": [
      "Logistic Regression score:  0.5\n"
     ]
    },
    {
     "data": {
      "image/png": "[encoded data removed]",
      "text/plain": [
       "<Figure size 432x288 with 2 Axes>"
      ]
     },
     "metadata": {
      "tags": []
     },
     "output_type": "display_data"
    }
   ],
   "source": [
    "from sklearn.linear_model import LogisticRegressionCV\n",
    "\n",
    "clf = LogisticRegressionCV(cv=4, multi_class='multinomial', class_weight='balanced', max_iter=4000, penalty=\"l2\").fit(X_train, y_train)\n",
    "y_pred = clf.predict(X_test)\n",
    "\n",
    "print(\"Logistic Regression score: \",clf.score(X_test, y_test))\n",
    "conf_matrix(y_test, y_pred)"
   ]
  },
  {
   "cell_type": "markdown",
   "metadata": {
    "colab_type": "text",
    "id": "a4mUipgcIyk_"
   },
   "source": [
    "### Naive Bayes"
   ]
  },
  {
   "cell_type": "code",
   "execution_count": 0,
   "metadata": {
    "colab": {
     "base_uri": "https://localhost:8080/"
    },
    "colab_type": "code",
    "id": "wzoDroLxIyk_",
    "outputId": "93f58314-ded4-46a5-83ad-b9a6d92940b8"
   },
   "outputs": [
    {
     "name": "stdout",
     "output_type": "stream",
     "text": [
      "Naive Bayes score:  0.4\n"
     ]
    },
    {
     "data": {
      "image/png": "[encoded data removed]",
      "text/plain": [
       "<Figure size 432x288 with 2 Axes>"
      ]
     },
     "metadata": {
      "tags": []
     },
     "output_type": "display_data"
    }
   ],
   "source": [
    "from sklearn.naive_bayes import GaussianNB\n",
    "\n",
    "gnb = GaussianNB().fit(X_train, y_train)\n",
    "y_pred =  gnb.predict(X_test)\n",
    "gnb.score(X_test, y_test)\n",
    "\n",
    "print(\"Naive Bayes score: \", gnb.score(X_test, y_test))\n",
    "conf_matrix(y_test, y_pred)"
   ]
  },
  {
   "cell_type": "markdown",
   "metadata": {
    "colab_type": "text",
    "id": "Qlz8x0zvIylF"
   },
   "source": [
    "###Decision Tree"
   ]
  },
  {
   "cell_type": "code",
   "execution_count": 0,
   "metadata": {
    "colab": {
     "base_uri": "https://localhost:8080/"
    },
    "colab_type": "code",
    "id": "oH8tHiCYIylF",
    "outputId": "b46fc7bd-4321-47ea-ee2c-d52a2b9334c3"
   },
   "outputs": [
    {
     "name": "stdout",
     "output_type": "stream",
     "text": [
      "Decision Tree score:  0.5\n"
     ]
    },
    {
     "data": {
      "image/png": "[encoded data removed]",
      "text/plain": [
       "<Figure size 432x288 with 2 Axes>"
      ]
     },
     "metadata": {
      "tags": []
     },
     "output_type": "display_data"
    }
   ],
   "source": [
    "from sklearn import tree\n",
    "\n",
    "clf = tree.DecisionTreeClassifier()\n",
    "clf.fit(X_train, y_train)\n",
    "y_pred =  clf.predict(X_test)\n",
    "\n",
    "print(\"Decision Tree score: \", clf.score(X_test, y_test))\n",
    "conf_matrix(y_test, y_pred)"
   ]
  },
  {
   "cell_type": "markdown",
   "metadata": {
    "colab_type": "text",
    "id": "VlZuuw_rIylH"
   },
   "source": [
    "###Linear Discriminant Analysis (LDA)"
   ]
  },
  {
   "cell_type": "code",
   "execution_count": 0,
   "metadata": {
    "colab": {
     "base_uri": "https://localhost:8080/"
    },
    "colab_type": "code",
    "id": "6CsjC3YyIylH",
    "outputId": "3d4b28c0-e7ac-4a3e-c37c-4c906a275708"
   },
   "outputs": [
    {
     "name": "stdout",
     "output_type": "stream",
     "text": [
      "Linear Discriminant Analysis (LDA) score:  0.4\n"
     ]
    },
    {
     "data": {
      "image/png": "[encoded data removed]",
      "text/plain": [
       "<Figure size 432x288 with 2 Axes>"
      ]
     },
     "metadata": {
      "tags": []
     },
     "output_type": "display_data"
    }
   ],
   "source": [
    "from sklearn.discriminant_analysis import LinearDiscriminantAnalysis\n",
    "\n",
    "clf = LinearDiscriminantAnalysis(solver='eigen', shrinkage='auto')\n",
    "clf.fit(X_train, y_train)\n",
    "y_pred = clf.predict(X_test)\n",
    "\n",
    "print(\"Linear Discriminant Analysis (LDA) score: \", clf.score(X_test, y_test))\n",
    "conf_matrix(y_test, y_pred)"
   ]
  },
  {
   "cell_type": "markdown",
   "metadata": {
    "colab_type": "text",
    "id": "aLl6HibtIylJ"
   },
   "source": [
    "###K-Neigbours Classifier"
   ]
  },
  {
   "cell_type": "code",
   "execution_count": 0,
   "metadata": {
    "colab": {
     "base_uri": "https://localhost:8080/"
    },
    "colab_type": "code",
    "id": "fZOKzbO7IylK",
    "outputId": "16b06b80-d434-4631-88d1-83e833ed6082"
   },
   "outputs": [
    {
     "name": "stdout",
     "output_type": "stream",
     "text": [
      "[1 1 1 1 2 3 2 2 3 2]\n",
      "K-Neighbours score: 0.2\n"
     ]
    },
    {
     "data": {
      "image/png": "[encoded data removed]",
      "text/plain": [
       "<Figure size 432x288 with 2 Axes>"
      ]
     },
     "metadata": {
      "tags": []
     },
     "output_type": "display_data"
    }
   ],
   "source": [
    "from sklearn.neighbors import KNeighborsClassifier\n",
    "\n",
    "neigh = KNeighborsClassifier(n_neighbors=6)\n",
    "neigh.fit(X_train, y_train)\n",
    "y_pred = neigh.predict(X_test)\n",
    "print(y_pred)\n",
    "print(\"K-Neighbours score:\", neigh.score(X_test, y_test))\n",
    "conf_matrix(y_test, y_pred)"
   ]
  },
  {
   "cell_type": "markdown",
   "metadata": {
    "colab_type": "text",
    "id": "g3zaiFtU_9Xb"
   },
   "source": [
    "###SVM"
   ]
  },
  {
   "cell_type": "code",
   "execution_count": 0,
   "metadata": {
    "colab": {
     "base_uri": "https://localhost:8080/"
    },
    "colab_type": "code",
    "id": "6W3vCG0N_-FO",
    "outputId": "c612daf3-baa6-43bc-dafc-bc3305a32d34"
   },
   "outputs": [
    {
     "name": "stdout",
     "output_type": "stream",
     "text": [
      "[2 3 2 2 2 3 2 3 1 2]\n",
      "SVM score: 0.5\n"
     ]
    },
    {
     "data": {
      "image/png": "[encoded data removed]",
      "text/plain": [
       "<Figure size 432x288 with 2 Axes>"
      ]
     },
     "metadata": {
      "tags": []
     },
     "output_type": "display_data"
    }
   ],
   "source": [
    "from sklearn.svm import LinearSVC\n",
    "\n",
    "model = LinearSVC(dual=False)\n",
    "model.fit(X_train, y_train)\n",
    "y_pred = model.predict(X_test)\n",
    "print(y_pred)\n",
    "print(\"SVM score:\", model.score(X_test, y_test))\n",
    "conf_matrix(y_test, y_pred)"
   ]
  },
  {
   "cell_type": "markdown",
   "metadata": {
    "colab_type": "text",
    "id": "S6hszELPIylM"
   },
   "source": [
    "#Train and Test in DAILY"
   ]
  },
  {
   "cell_type": "markdown",
   "metadata": {
    "colab_type": "text",
    "id": "Jv1nInc1IylN"
   },
   "source": [
    "##2 CLASSES: LOW - HIGH STRESS"
   ]
  },
  {
   "cell_type": "code",
   "execution_count": 0,
   "metadata": {
    "colab": {
     "base_uri": "https://localhost:8080/"
    },
    "colab_type": "code",
    "id": "V6NRmuPPIylN",
    "outputId": "f9d8c049-cf83-4377-e187-e3880cef1684"
   },
   "outputs": [
    {
     "data": {
      "text/plain": [
       "'\\nTo see that classes are balanced back\\n'"
      ]
     },
     "execution_count": 78,
     "metadata": {
      "tags": []
     },
     "output_type": "execute_result"
    }
   ],
   "source": [
    "'''\n",
    "LOAD LAB DATA AND SPLIT INTO TRAIN AND TEST\n",
    "'''\n",
    "X = daily_data[['Mean', 'Peak', 'Perc20', 'Perc80', 'QuartDev','Std', 'Strong_Peak', 'dataQual']]\n",
    "y = daily_data['TwoClassLabel']\n",
    "X_train, X_test, y_train, y_test = train_test_split(X, y, test_size=0.2)\n",
    "\n",
    "\n",
    "'''\n",
    "Synthetic Minority Over-sampling Technique\n",
    "'''\n",
    "sm = SMOTE()\n",
    "X_train, y_train = sm.fit_resample(X_train, y_train)\n",
    "\n",
    "\n",
    "'''\n",
    "To see that classes are balanced back\n",
    "'''\n",
    "# low = y_train[y_train == \"L\"]\n",
    "# print(\"LOW labeled: \", len(low))\n",
    "# high = y_train[y_train == \"H\"]\n",
    "# print(\"HIGH labeled: \", len(high))"
   ]
  },
  {
   "cell_type": "markdown",
   "metadata": {
    "colab_type": "text",
    "id": "BwlDVPhfIylP"
   },
   "source": [
    "### Logistic Regression\n",
    "\n",
    "\n",
    "\n",
    "\n"
   ]
  },
  {
   "cell_type": "code",
   "execution_count": 0,
   "metadata": {
    "colab": {
     "base_uri": "https://localhost:8080/"
    },
    "colab_type": "code",
    "id": "xCxWQRtxIylP",
    "outputId": "9a9178e8-c533-4675-9eea-5473a366c67e"
   },
   "outputs": [
    {
     "name": "stdout",
     "output_type": "stream",
     "text": [
      "Logistic Regression score:  0.6923076923076923\n"
     ]
    },
    {
     "data": {
      "image/png": "[encoded data removed]",
      "text/plain": [
       "<Figure size 432x288 with 2 Axes>"
      ]
     },
     "metadata": {
      "tags": []
     },
     "output_type": "display_data"
    }
   ],
   "source": [
    "from sklearn.linear_model import LogisticRegressionCV\n",
    "\n",
    "clf = LogisticRegressionCV(cv=4, multi_class='multinomial', class_weight='balanced', max_iter=4000, penalty=\"l2\").fit(X_train, y_train)\n",
    "y_pred = clf.predict(X_test)\n",
    "\n",
    "print(\"Logistic Regression score: \",clf.score(X_test, y_test))\n",
    "conf_matrix(y_test, y_pred)"
   ]
  },
  {
   "cell_type": "markdown",
   "metadata": {
    "colab_type": "text",
    "id": "u4cdUNo7IylR"
   },
   "source": [
    "### Naive Bayes"
   ]
  },
  {
   "cell_type": "code",
   "execution_count": 0,
   "metadata": {
    "colab": {
     "base_uri": "https://localhost:8080/"
    },
    "colab_type": "code",
    "id": "cnLreCnmIylR",
    "outputId": "4217955f-4621-4bfc-e6c9-8569c8f03b7d"
   },
   "outputs": [
    {
     "name": "stdout",
     "output_type": "stream",
     "text": [
      "Naive Bayes score:  0.46153846153846156\n"
     ]
    },
    {
     "data": {
      "image/png": "[encoded data removed]",
      "text/plain": [
       "<Figure size 432x288 with 2 Axes>"
      ]
     },
     "metadata": {
      "tags": []
     },
     "output_type": "display_data"
    }
   ],
   "source": [
    "from sklearn.naive_bayes import GaussianNB\n",
    "\n",
    "gnb = GaussianNB().fit(X_train, y_train)\n",
    "y_pred =  gnb.predict(X_test)\n",
    "gnb.score(X_test, y_test)\n",
    "\n",
    "print(\"Naive Bayes score: \", gnb.score(X_test, y_test))\n",
    "conf_matrix(y_test, y_pred)"
   ]
  },
  {
   "cell_type": "markdown",
   "metadata": {
    "colab_type": "text",
    "id": "g6enG6FSIylT"
   },
   "source": [
    "###Decision Tree"
   ]
  },
  {
   "cell_type": "code",
   "execution_count": 0,
   "metadata": {
    "colab": {
     "base_uri": "https://localhost:8080/"
    },
    "colab_type": "code",
    "id": "E6Y-E_PbIylT",
    "outputId": "e0ee8aa5-9b5a-4066-cd9c-b822b5feb5b6"
   },
   "outputs": [
    {
     "name": "stdout",
     "output_type": "stream",
     "text": [
      "Decision Tree score:  0.6538461538461539\n"
     ]
    },
    {
     "data": {
      "image/png": "[encoded data removed]",
      "text/plain": [
       "<Figure size 432x288 with 2 Axes>"
      ]
     },
     "metadata": {
      "tags": []
     },
     "output_type": "display_data"
    }
   ],
   "source": [
    "from sklearn import tree\n",
    "\n",
    "clf = tree.DecisionTreeClassifier()\n",
    "clf.fit(X_train, y_train)\n",
    "y_pred =  clf.predict(X_test)\n",
    "\n",
    "print(\"Decision Tree score: \", clf.score(X_test, y_test))\n",
    "conf_matrix(y_test, y_pred)"
   ]
  },
  {
   "cell_type": "markdown",
   "metadata": {
    "colab_type": "text",
    "id": "BcN1HtSaIylU"
   },
   "source": [
    "###Linear Discriminant Analysis (LDA)"
   ]
  },
  {
   "cell_type": "code",
   "execution_count": 0,
   "metadata": {
    "colab": {
     "base_uri": "https://localhost:8080/"
    },
    "colab_type": "code",
    "id": "8CDyvDJyIylU",
    "outputId": "4346e0a2-35ed-4d79-fec7-8685093609f5"
   },
   "outputs": [
    {
     "name": "stdout",
     "output_type": "stream",
     "text": [
      "Linear Discriminant Analysis (LDA) score:  0.6153846153846154\n"
     ]
    },
    {
     "data": {
      "image/png": "[encoded data removed]",
      "text/plain": [
       "<Figure size 432x288 with 2 Axes>"
      ]
     },
     "metadata": {
      "tags": []
     },
     "output_type": "display_data"
    }
   ],
   "source": [
    "\n",
    "from sklearn.discriminant_analysis import LinearDiscriminantAnalysis\n",
    "\n",
    "clf = LinearDiscriminantAnalysis(solver='eigen', shrinkage='auto')\n",
    "clf.fit(X_train, y_train)\n",
    "y_pred = clf.predict(X_test)\n",
    "\n",
    "print(\"Linear Discriminant Analysis (LDA) score: \", clf.score(X_test, y_test))\n",
    "conf_matrix(y_test, y_pred)"
   ]
  },
  {
   "cell_type": "markdown",
   "metadata": {
    "colab_type": "text",
    "id": "_ORpgqG0IylW"
   },
   "source": [
    "###K-Neigbours Classifier"
   ]
  },
  {
   "cell_type": "code",
   "execution_count": 0,
   "metadata": {
    "colab": {
     "base_uri": "https://localhost:8080/"
    },
    "colab_type": "code",
    "id": "U9uKAk95IylX",
    "outputId": "d1b4a1d3-4db7-4c2f-c083-3eced734babc"
   },
   "outputs": [
    {
     "name": "stdout",
     "output_type": "stream",
     "text": [
      "[1 1 3 1 1 3 1 1 1 1 1 1 1 1 3 1 1 3 1 3 1 1 3 1 1 1]\n",
      "K-Neighbours score: 0.7307692307692307\n"
     ]
    },
    {
     "data": {
      "image/png": "[encoded data removed]",
      "text/plain": [
       "<Figure size 432x288 with 2 Axes>"
      ]
     },
     "metadata": {
      "tags": []
     },
     "output_type": "display_data"
    }
   ],
   "source": [
    "from sklearn.neighbors import KNeighborsClassifier\n",
    "\n",
    "neigh = KNeighborsClassifier(n_neighbors=6)\n",
    "neigh.fit(X_train, y_train)\n",
    "y_pred = neigh.predict(X_test)\n",
    "print(y_pred)\n",
    "print(\"K-Neighbours score:\", neigh.score(X_test, y_test))\n",
    "conf_matrix(y_test, y_pred)"
   ]
  },
  {
   "cell_type": "markdown",
   "metadata": {
    "colab_type": "text",
    "id": "WT82bRVyAABf"
   },
   "source": [
    "###SVM"
   ]
  },
  {
   "cell_type": "code",
   "execution_count": 0,
   "metadata": {
    "colab": {
     "base_uri": "https://localhost:8080/"
    },
    "colab_type": "code",
    "id": "hkTOQPakAAwX",
    "outputId": "5ec176eb-3d42-4873-e949-cd07dc805a17"
   },
   "outputs": [
    {
     "name": "stdout",
     "output_type": "stream",
     "text": [
      "[3 1 3 3 1 1 1 1 1 1 1 1 3 3 1 3 1 3 1 1 1 1 3 1 1 1]\n",
      "SVM score: 0.7307692307692307\n"
     ]
    },
    {
     "data": {
      "image/png": "[encoded data removed]",
      "text/plain": [
       "<Figure size 432x288 with 2 Axes>"
      ]
     },
     "metadata": {
      "tags": []
     },
     "output_type": "display_data"
    }
   ],
   "source": [
    "from sklearn.svm import LinearSVC\n",
    "\n",
    "model = LinearSVC(dual=False)\n",
    "model.fit(X_train, y_train)\n",
    "y_pred = model.predict(X_test)\n",
    "print(y_pred)\n",
    "print(\"SVM score:\", model.score(X_test, y_test))\n",
    "conf_matrix(y_test, y_pred)"
   ]
  },
  {
   "cell_type": "markdown",
   "metadata": {
    "colab_type": "text",
    "id": "op2j4DAMIylZ"
   },
   "source": [
    "##3 CLASSES: LOW - MEDIUM - HIGH STRESS"
   ]
  },
  {
   "cell_type": "code",
   "execution_count": 0,
   "metadata": {
    "colab": {},
    "colab_type": "code",
    "id": "0NAxdSVoIyla"
   },
   "outputs": [],
   "source": [
    "'''\n",
    "LOAD LAB DATA AND SPLIT INTO TRAIN AND TEST\n",
    "'''\n",
    "X = daily_data[['Mean', 'Peak', 'Perc20', 'Perc80', 'QuartDev','Std', 'Strong_Peak', 'dataQual']]\n",
    "y = daily_data['ThreeClassLabel']\n",
    "X_train, X_test, y_train, y_test = train_test_split(X, y, test_size=0.2)\n",
    "\n",
    "'''\n",
    "Synthetic Minority Over-sampling Technique\n",
    "'''\n",
    "sm = SMOTE()\n",
    "X_train, y_train = sm.fit_resample(X_train, y_train)"
   ]
  },
  {
   "cell_type": "markdown",
   "metadata": {
    "colab_type": "text",
    "id": "fCBoNrD_Iyla"
   },
   "source": [
    "### Logistic Regression"
   ]
  },
  {
   "cell_type": "code",
   "execution_count": 0,
   "metadata": {
    "colab": {
     "base_uri": "https://localhost:8080/",
     "height": 296
    },
    "colab_type": "code",
    "id": "Xs2nQ1--Iylb",
    "outputId": "e092788a-038a-444f-9b63-4a440ab4f4e7"
   },
   "outputs": [
    {
     "name": "stdout",
     "output_type": "stream",
     "text": [
      "Logistic Regression score:  0.46153846153846156\n"
     ]
    },
    {
     "data": {
      "image/png": "[encoded data removed]",
      "text/plain": [
       "<Figure size 432x288 with 2 Axes>"
      ]
     },
     "metadata": {
      "tags": []
     },
     "output_type": "display_data"
    }
   ],
   "source": [
    "from sklearn.linear_model import LogisticRegressionCV\n",
    "\n",
    "clf = LogisticRegressionCV(cv=4, multi_class='multinomial', class_weight='balanced', max_iter=4000, penalty=\"l2\").fit(X_train, y_train)\n",
    "y_pred = clf.predict(X_test)\n",
    "\n",
    "print(\"Logistic Regression score: \",clf.score(X_test, y_test))\n",
    "conf_matrix(y_test, y_pred)"
   ]
  },
  {
   "cell_type": "markdown",
   "metadata": {
    "colab_type": "text",
    "id": "r7-aIAWLIylc"
   },
   "source": [
    "### Naive Bayes"
   ]
  },
  {
   "cell_type": "code",
   "execution_count": 0,
   "metadata": {
    "colab": {
     "base_uri": "https://localhost:8080/",
     "height": 296
    },
    "colab_type": "code",
    "id": "t0XsPbgyIylc",
    "outputId": "564a2aa6-8e33-40f8-f759-cbb5b5b719ef"
   },
   "outputs": [
    {
     "name": "stdout",
     "output_type": "stream",
     "text": [
      "Naive Bayes score:  0.46153846153846156\n"
     ]
    },
    {
     "data": {
      "image/png": "[encoded data removed]",
      "text/plain": [
       "<Figure size 432x288 with 2 Axes>"
      ]
     },
     "metadata": {
      "tags": []
     },
     "output_type": "display_data"
    }
   ],
   "source": [
    "from sklearn.naive_bayes import GaussianNB\n",
    "\n",
    "gnb = GaussianNB().fit(X_train, y_train)\n",
    "y_pred =  gnb.predict(X_test)\n",
    "gnb.score(X_test, y_test)\n",
    "\n",
    "print(\"Naive Bayes score: \", gnb.score(X_test, y_test))\n",
    "conf_matrix(y_test, y_pred)"
   ]
  },
  {
   "cell_type": "markdown",
   "metadata": {
    "colab_type": "text",
    "id": "1m30CKWpIyle"
   },
   "source": [
    "###Decision Tree"
   ]
  },
  {
   "cell_type": "code",
   "execution_count": 0,
   "metadata": {
    "colab": {
     "base_uri": "https://localhost:8080/",
     "height": 296
    },
    "colab_type": "code",
    "id": "kvb2tk2tIyle",
    "outputId": "00a4409b-beb3-4183-accf-6a02038e6f78"
   },
   "outputs": [
    {
     "name": "stdout",
     "output_type": "stream",
     "text": [
      "Decision Tree score:  0.5\n"
     ]
    },
    {
     "data": {
      "image/png": "[encoded data removed]",
      "text/plain": [
       "<Figure size 432x288 with 2 Axes>"
      ]
     },
     "metadata": {
      "tags": []
     },
     "output_type": "display_data"
    }
   ],
   "source": [
    "from sklearn import tree\n",
    "\n",
    "clf = tree.DecisionTreeClassifier()\n",
    "clf.fit(X_train, y_train)\n",
    "y_pred =  clf.predict(X_test)\n",
    "\n",
    "print(\"Decision Tree score: \", clf.score(X_test, y_test))\n",
    "conf_matrix(y_test, y_pred)"
   ]
  },
  {
   "cell_type": "markdown",
   "metadata": {
    "colab_type": "text",
    "id": "NL-ZB9J3Iyli"
   },
   "source": [
    "###Linear Discriminant Analysis (LDA)"
   ]
  },
  {
   "cell_type": "code",
   "execution_count": 0,
   "metadata": {
    "colab": {
     "base_uri": "https://localhost:8080/",
     "height": 296
    },
    "colab_type": "code",
    "id": "eaynC-diIylj",
    "outputId": "9e75668f-afab-459a-c906-c68679f8e4a4"
   },
   "outputs": [
    {
     "name": "stdout",
     "output_type": "stream",
     "text": [
      "Linear Discriminant Analysis (LDA) score:  0.46153846153846156\n"
     ]
    },
    {
     "data": {
      "image/png": "[encoded data removed]",
      "text/plain": [
       "<Figure size 432x288 with 2 Axes>"
      ]
     },
     "metadata": {
      "tags": []
     },
     "output_type": "display_data"
    }
   ],
   "source": [
    "from sklearn.discriminant_analysis import LinearDiscriminantAnalysis\n",
    "\n",
    "clf = LinearDiscriminantAnalysis(solver='eigen', shrinkage='auto')\n",
    "clf.fit(X_train, y_train)\n",
    "y_pred = clf.predict(X_test)\n",
    "\n",
    "print(\"Linear Discriminant Analysis (LDA) score: \", clf.score(X_test, y_test))\n",
    "conf_matrix(y_test, y_pred)"
   ]
  },
  {
   "cell_type": "markdown",
   "metadata": {
    "colab_type": "text",
    "id": "21fJkwBvIylm"
   },
   "source": [
    "###K-Neigbours Classifier"
   ]
  },
  {
   "cell_type": "code",
   "execution_count": 0,
   "metadata": {
    "colab": {
     "base_uri": "https://localhost:8080/",
     "height": 313
    },
    "colab_type": "code",
    "id": "RQvEXUumIylm",
    "outputId": "1919f843-1d34-444a-f009-e3350c8faef7"
   },
   "outputs": [
    {
     "name": "stdout",
     "output_type": "stream",
     "text": [
      "[3 2 1 1 2 2 1 1 2 2 1 2 2 1 3 2 3 2 2 3 1 3 3 1 2 1]\n",
      "K-Neighbours score: 0.5384615384615384\n"
     ]
    },
    {
     "data": {
      "image/png": "[encoded data removed]",
      "text/plain": [
       "<Figure size 432x288 with 2 Axes>"
      ]
     },
     "metadata": {
      "tags": []
     },
     "output_type": "display_data"
    }
   ],
   "source": [
    "from sklearn.neighbors import KNeighborsClassifier\n",
    "\n",
    "neigh = KNeighborsClassifier(n_neighbors=6)\n",
    "neigh.fit(X_train, y_train)\n",
    "y_pred = neigh.predict(X_test)\n",
    "print(y_pred)\n",
    "print(\"K-Neighbours score:\", neigh.score(X_test, y_test))\n",
    "conf_matrix(y_test, y_pred)"
   ]
  },
  {
   "cell_type": "markdown",
   "metadata": {
    "colab_type": "text",
    "id": "xNQwdncDACaY"
   },
   "source": [
    "###SVM"
   ]
  },
  {
   "cell_type": "code",
   "execution_count": 0,
   "metadata": {
    "colab": {
     "base_uri": "https://localhost:8080/",
     "height": 313
    },
    "colab_type": "code",
    "id": "ff0cy2twADZG",
    "outputId": "942ca539-f94a-4c7a-d35c-d9db8e4270f4"
   },
   "outputs": [
    {
     "name": "stdout",
     "output_type": "stream",
     "text": [
      "[3 2 1 2 2 2 1 2 1 2 2 2 3 1 1 2 1 2 1 2 2 1 1 3 2 3]\n",
      "SVM score: 0.5\n"
     ]
    },
    {
     "data": {
      "image/png": "[encoded data removed]",
      "text/plain": [
       "<Figure size 432x288 with 2 Axes>"
      ]
     },
     "metadata": {
      "tags": []
     },
     "output_type": "display_data"
    }
   ],
   "source": [
    "from sklearn.svm import LinearSVC\n",
    "\n",
    "model = LinearSVC(dual=False)\n",
    "model.fit(X_train, y_train)\n",
    "y_pred = model.predict(X_test)\n",
    "print(y_pred)\n",
    "print(\"SVM score:\", model.score(X_test, y_test))\n",
    "conf_matrix(y_test, y_pred)"
   ]
  },
  {
   "cell_type": "markdown",
   "metadata": {
    "colab_type": "text",
    "id": "Dn_7-9h8Jef1"
   },
   "source": [
    "#Leave One Person Out (LAB and DAILY Mixed)"
   ]
  },
  {
   "cell_type": "code",
   "execution_count": 0,
   "metadata": {
    "colab": {},
    "colab_type": "code",
    "id": "IXoEu9qSKH2z"
   },
   "outputs": [],
   "source": []
  }
 ],
 "metadata": {
  "colab": {
   "collapsed_sections": [
    "qP6a5lCu5FVF",
    "DV8T4WGgtXHV",
    "K8uYviNdEoKe",
    "rq28EoisFbkP",
    "xCp1Tp0KGFDk",
    "FfUX9mkTGRHa",
    "XQAe8fFqGVgr",
    "VeSm2qNd_h75",
    "_PWnEPlm7mMG",
    "QrqgU9j_6ArU",
    "5aSJVubm6Ars",
    "9A309E737zQm",
    "S4Bo-V1kIfrx",
    "oeQSP6J7IfsF",
    "P3pnaWjc9DGy",
    "m_7wEfILXWGg",
    "yt18MWXXIykL",
    "o2XHH5mEIykM",
    "khh_DiD_Iykb",
    "n8_B4QNIIykp",
    "Dc5onYI5Iykq",
    "rMJtr4r8Iyk6",
    "Jv1nInc1IylN"
   ],
   "name": "stress-detection.ipynb",
   "provenance": [],
   "version": "0.3.2"
  },
  "kernelspec": {
   "display_name": "Python 3",
   "language": "python",
   "name": "python3"
  },
  "language_info": {
   "codemirror_mode": {
    "name": "ipython",
    "version": 3
   },
   "file_extension": ".py",
   "mimetype": "text/x-python",
   "name": "python",
   "nbconvert_exporter": "python",
   "pygments_lexer": "ipython3",
   "version": "3.6.7"
  }
 },
 "nbformat": 4,
 "nbformat_minor": 1
}
